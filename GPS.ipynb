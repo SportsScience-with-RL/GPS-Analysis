{
 "cells": [
  {
   "cell_type": "code",
   "execution_count": 124,
   "id": "ccb4f328",
   "metadata": {},
   "outputs": [],
   "source": [
    "import pandas as pd\n",
    "import numpy as np\n",
    "import matplotlib.pyplot as plt\n",
    "import seaborn as sns\n",
    "import plotly.express as px\n",
    "import scipy.stats as stats\n",
    "import plotly.graph_objects as go\n",
    "from ipywidgets import widgets\n",
    "from plotly.subplots import make_subplots\n",
    "import scipy.stats as stats\n",
    "from scipy.cluster.hierarchy import dendrogram, linkage, fcluster\n",
    "from sklearn.preprocessing import StandardScaler\n",
    "from sklearn.cluster import AgglomerativeClustering\n",
    "from factor_analyzer.factor_analyzer import calculate_kmo\n",
    "from sklearn.decomposition import PCA\n",
    "import plotly.figure_factory as ff\n",
    "\n",
    "%matplotlib inline\n",
    "%reload_ext autoreload\n",
    "%autoreload 2"
   ]
  },
  {
   "cell_type": "code",
   "execution_count": 125,
   "id": "e6518038",
   "metadata": {},
   "outputs": [
    {
     "data": {
      "text/html": [
       "<div>\n",
       "<style scoped>\n",
       "    .dataframe tbody tr th:only-of-type {\n",
       "        vertical-align: middle;\n",
       "    }\n",
       "\n",
       "    .dataframe tbody tr th {\n",
       "        vertical-align: top;\n",
       "    }\n",
       "\n",
       "    .dataframe thead th {\n",
       "        text-align: right;\n",
       "    }\n",
       "</style>\n",
       "<table border=\"1\" class=\"dataframe\">\n",
       "  <thead>\n",
       "    <tr style=\"text-align: right;\">\n",
       "      <th></th>\n",
       "      <th>Athlete</th>\n",
       "      <th>Unit</th>\n",
       "      <th>Group</th>\n",
       "      <th>Position</th>\n",
       "      <th>Date</th>\n",
       "      <th>Week</th>\n",
       "      <th>Type</th>\n",
       "      <th>Distance Total (m)</th>\n",
       "      <th>m/min</th>\n",
       "      <th>High Int Speed (m)</th>\n",
       "      <th>Sprints (m)</th>\n",
       "      <th>Hi Int Acceleration (nb)</th>\n",
       "      <th>Hi Int Deceleration (nb)</th>\n",
       "      <th>80% Distance Hi Int (m)</th>\n",
       "      <th>85% Distance Hi Int (m)</th>\n",
       "      <th>90% Distance Hi Int (m)</th>\n",
       "      <th>&gt;85% Distance (m)</th>\n",
       "    </tr>\n",
       "  </thead>\n",
       "  <tbody>\n",
       "    <tr>\n",
       "      <th>0</th>\n",
       "      <td>Player 1</td>\n",
       "      <td>Forward</td>\n",
       "      <td>Tight Forwards</td>\n",
       "      <td>Lock</td>\n",
       "      <td>2016-12-02</td>\n",
       "      <td>Week 1</td>\n",
       "      <td>Training</td>\n",
       "      <td>9386</td>\n",
       "      <td>79</td>\n",
       "      <td>1312</td>\n",
       "      <td>115</td>\n",
       "      <td>146</td>\n",
       "      <td>50</td>\n",
       "      <td>7</td>\n",
       "      <td>4</td>\n",
       "      <td>14</td>\n",
       "      <td>18</td>\n",
       "    </tr>\n",
       "    <tr>\n",
       "      <th>1</th>\n",
       "      <td>Player 2</td>\n",
       "      <td>Back</td>\n",
       "      <td>Midfield</td>\n",
       "      <td>2nd Five / Inside Centre</td>\n",
       "      <td>2016-12-02</td>\n",
       "      <td>Week 1</td>\n",
       "      <td>Training</td>\n",
       "      <td>6712</td>\n",
       "      <td>57</td>\n",
       "      <td>1184</td>\n",
       "      <td>83</td>\n",
       "      <td>71</td>\n",
       "      <td>46</td>\n",
       "      <td>0</td>\n",
       "      <td>0</td>\n",
       "      <td>0</td>\n",
       "      <td>0</td>\n",
       "    </tr>\n",
       "    <tr>\n",
       "      <th>2</th>\n",
       "      <td>Player 3</td>\n",
       "      <td>Back</td>\n",
       "      <td>Outside Backs</td>\n",
       "      <td>Wing</td>\n",
       "      <td>2016-12-02</td>\n",
       "      <td>Week 1</td>\n",
       "      <td>Training</td>\n",
       "      <td>9621</td>\n",
       "      <td>81</td>\n",
       "      <td>1429</td>\n",
       "      <td>110</td>\n",
       "      <td>145</td>\n",
       "      <td>57</td>\n",
       "      <td>23</td>\n",
       "      <td>2</td>\n",
       "      <td>0</td>\n",
       "      <td>2</td>\n",
       "    </tr>\n",
       "    <tr>\n",
       "      <th>3</th>\n",
       "      <td>Player 4</td>\n",
       "      <td>Forward</td>\n",
       "      <td>Tight Forwards</td>\n",
       "      <td>Lock</td>\n",
       "      <td>2016-12-02</td>\n",
       "      <td>Week 1</td>\n",
       "      <td>Training</td>\n",
       "      <td>8779</td>\n",
       "      <td>74</td>\n",
       "      <td>702</td>\n",
       "      <td>76</td>\n",
       "      <td>60</td>\n",
       "      <td>22</td>\n",
       "      <td>0</td>\n",
       "      <td>0</td>\n",
       "      <td>0</td>\n",
       "      <td>0</td>\n",
       "    </tr>\n",
       "    <tr>\n",
       "      <th>4</th>\n",
       "      <td>Player 5</td>\n",
       "      <td>Forward</td>\n",
       "      <td>Loose Forwards</td>\n",
       "      <td>Flanker</td>\n",
       "      <td>2016-12-02</td>\n",
       "      <td>Week 1</td>\n",
       "      <td>Training</td>\n",
       "      <td>798</td>\n",
       "      <td>74</td>\n",
       "      <td>0</td>\n",
       "      <td>0</td>\n",
       "      <td>0</td>\n",
       "      <td>0</td>\n",
       "      <td>0</td>\n",
       "      <td>0</td>\n",
       "      <td>0</td>\n",
       "      <td>0</td>\n",
       "    </tr>\n",
       "    <tr>\n",
       "      <th>...</th>\n",
       "      <td>...</td>\n",
       "      <td>...</td>\n",
       "      <td>...</td>\n",
       "      <td>...</td>\n",
       "      <td>...</td>\n",
       "      <td>...</td>\n",
       "      <td>...</td>\n",
       "      <td>...</td>\n",
       "      <td>...</td>\n",
       "      <td>...</td>\n",
       "      <td>...</td>\n",
       "      <td>...</td>\n",
       "      <td>...</td>\n",
       "      <td>...</td>\n",
       "      <td>...</td>\n",
       "      <td>...</td>\n",
       "      <td>...</td>\n",
       "    </tr>\n",
       "    <tr>\n",
       "      <th>3839</th>\n",
       "      <td>Player 37</td>\n",
       "      <td>Back</td>\n",
       "      <td>Outside Backs</td>\n",
       "      <td>Wing</td>\n",
       "      <td>2017-07-29</td>\n",
       "      <td>Week 35</td>\n",
       "      <td>Game</td>\n",
       "      <td>1652</td>\n",
       "      <td>18</td>\n",
       "      <td>271</td>\n",
       "      <td>36</td>\n",
       "      <td>11</td>\n",
       "      <td>13</td>\n",
       "      <td>8</td>\n",
       "      <td>0</td>\n",
       "      <td>0</td>\n",
       "      <td>0</td>\n",
       "    </tr>\n",
       "    <tr>\n",
       "      <th>3840</th>\n",
       "      <td>Player 13</td>\n",
       "      <td>Forward</td>\n",
       "      <td>Loose Forwards</td>\n",
       "      <td>Flanker</td>\n",
       "      <td>2017-07-29</td>\n",
       "      <td>Week 35</td>\n",
       "      <td>Game</td>\n",
       "      <td>4627</td>\n",
       "      <td>52</td>\n",
       "      <td>368</td>\n",
       "      <td>101</td>\n",
       "      <td>21</td>\n",
       "      <td>17</td>\n",
       "      <td>0</td>\n",
       "      <td>0</td>\n",
       "      <td>0</td>\n",
       "      <td>0</td>\n",
       "    </tr>\n",
       "    <tr>\n",
       "      <th>3841</th>\n",
       "      <td>Player 14</td>\n",
       "      <td>Back</td>\n",
       "      <td>Inside Backs</td>\n",
       "      <td>Halfback</td>\n",
       "      <td>2017-07-29</td>\n",
       "      <td>Week 35</td>\n",
       "      <td>Game</td>\n",
       "      <td>1672</td>\n",
       "      <td>18</td>\n",
       "      <td>176</td>\n",
       "      <td>33</td>\n",
       "      <td>9</td>\n",
       "      <td>7</td>\n",
       "      <td>3</td>\n",
       "      <td>2</td>\n",
       "      <td>0</td>\n",
       "      <td>2</td>\n",
       "    </tr>\n",
       "    <tr>\n",
       "      <th>3842</th>\n",
       "      <td>Player 16</td>\n",
       "      <td>Forward</td>\n",
       "      <td>Tight Forwards</td>\n",
       "      <td>Prop</td>\n",
       "      <td>2017-07-29</td>\n",
       "      <td>Week 35</td>\n",
       "      <td>Game</td>\n",
       "      <td>4140</td>\n",
       "      <td>47</td>\n",
       "      <td>202</td>\n",
       "      <td>70</td>\n",
       "      <td>5</td>\n",
       "      <td>2</td>\n",
       "      <td>0</td>\n",
       "      <td>0</td>\n",
       "      <td>0</td>\n",
       "      <td>0</td>\n",
       "    </tr>\n",
       "    <tr>\n",
       "      <th>3843</th>\n",
       "      <td>Player 22</td>\n",
       "      <td>Forward</td>\n",
       "      <td>Tight Forwards</td>\n",
       "      <td>Prop</td>\n",
       "      <td>2017-07-29</td>\n",
       "      <td>Week 35</td>\n",
       "      <td>Game</td>\n",
       "      <td>2192</td>\n",
       "      <td>24</td>\n",
       "      <td>96</td>\n",
       "      <td>42</td>\n",
       "      <td>6</td>\n",
       "      <td>5</td>\n",
       "      <td>0</td>\n",
       "      <td>0</td>\n",
       "      <td>0</td>\n",
       "      <td>0</td>\n",
       "    </tr>\n",
       "  </tbody>\n",
       "</table>\n",
       "<p>3844 rows × 17 columns</p>\n",
       "</div>"
      ],
      "text/plain": [
       "        Athlete     Unit           Group                  Position       Date  \\\n",
       "0      Player 1  Forward  Tight Forwards                      Lock 2016-12-02   \n",
       "1      Player 2     Back        Midfield  2nd Five / Inside Centre 2016-12-02   \n",
       "2      Player 3     Back   Outside Backs                      Wing 2016-12-02   \n",
       "3      Player 4  Forward  Tight Forwards                      Lock 2016-12-02   \n",
       "4      Player 5  Forward  Loose Forwards                   Flanker 2016-12-02   \n",
       "...         ...      ...             ...                       ...        ...   \n",
       "3839  Player 37     Back   Outside Backs                      Wing 2017-07-29   \n",
       "3840  Player 13  Forward  Loose Forwards                   Flanker 2017-07-29   \n",
       "3841  Player 14     Back    Inside Backs                  Halfback 2017-07-29   \n",
       "3842  Player 16  Forward  Tight Forwards                      Prop 2017-07-29   \n",
       "3843  Player 22  Forward  Tight Forwards                      Prop 2017-07-29   \n",
       "\n",
       "         Week      Type  Distance Total (m)  m/min  High Int Speed (m)  \\\n",
       "0      Week 1  Training                9386     79                1312   \n",
       "1      Week 1  Training                6712     57                1184   \n",
       "2      Week 1  Training                9621     81                1429   \n",
       "3      Week 1  Training                8779     74                 702   \n",
       "4      Week 1  Training                 798     74                   0   \n",
       "...       ...       ...                 ...    ...                 ...   \n",
       "3839  Week 35      Game                1652     18                 271   \n",
       "3840  Week 35      Game                4627     52                 368   \n",
       "3841  Week 35      Game                1672     18                 176   \n",
       "3842  Week 35      Game                4140     47                 202   \n",
       "3843  Week 35      Game                2192     24                  96   \n",
       "\n",
       "      Sprints (m)  Hi Int Acceleration (nb)  Hi Int Deceleration (nb)  \\\n",
       "0             115                       146                        50   \n",
       "1              83                        71                        46   \n",
       "2             110                       145                        57   \n",
       "3              76                        60                        22   \n",
       "4               0                         0                         0   \n",
       "...           ...                       ...                       ...   \n",
       "3839           36                        11                        13   \n",
       "3840          101                        21                        17   \n",
       "3841           33                         9                         7   \n",
       "3842           70                         5                         2   \n",
       "3843           42                         6                         5   \n",
       "\n",
       "      80% Distance Hi Int (m)  85% Distance Hi Int (m)  \\\n",
       "0                           7                        4   \n",
       "1                           0                        0   \n",
       "2                          23                        2   \n",
       "3                           0                        0   \n",
       "4                           0                        0   \n",
       "...                       ...                      ...   \n",
       "3839                        8                        0   \n",
       "3840                        0                        0   \n",
       "3841                        3                        2   \n",
       "3842                        0                        0   \n",
       "3843                        0                        0   \n",
       "\n",
       "      90% Distance Hi Int (m)  >85% Distance (m)  \n",
       "0                          14                 18  \n",
       "1                           0                  0  \n",
       "2                           0                  2  \n",
       "3                           0                  0  \n",
       "4                           0                  0  \n",
       "...                       ...                ...  \n",
       "3839                        0                  0  \n",
       "3840                        0                  0  \n",
       "3841                        0                  2  \n",
       "3842                        0                  0  \n",
       "3843                        0                  0  \n",
       "\n",
       "[3844 rows x 17 columns]"
      ]
     },
     "execution_count": 125,
     "metadata": {},
     "output_type": "execute_result"
    }
   ],
   "source": [
    "data = pd.read_excel(r'C:\\Users\\raflg\\Downloads\\Databases\\GPS_data.xls')\n",
    "df = data.copy()\n",
    "\n",
    "i = 1\n",
    "for a in df.Athlete.unique():\n",
    "    df.loc[df['Athlete']==a, 'Athlete'] = 'Player ' + str(i)\n",
    "    i +=1\n",
    "    \n",
    "df"
   ]
  },
  {
   "cell_type": "code",
   "execution_count": 126,
   "id": "b6ed9261",
   "metadata": {},
   "outputs": [
    {
     "name": "stdout",
     "output_type": "stream",
     "text": [
      "<class 'pandas.core.frame.DataFrame'>\n",
      "RangeIndex: 3844 entries, 0 to 3843\n",
      "Data columns (total 17 columns):\n",
      " #   Column                    Non-Null Count  Dtype         \n",
      "---  ------                    --------------  -----         \n",
      " 0   Athlete                   3844 non-null   object        \n",
      " 1   Unit                      3844 non-null   object        \n",
      " 2   Group                     3844 non-null   object        \n",
      " 3   Position                  3844 non-null   object        \n",
      " 4   Date                      3844 non-null   datetime64[ns]\n",
      " 5   Week                      3844 non-null   object        \n",
      " 6   Type                      3844 non-null   object        \n",
      " 7   Distance Total (m)        3844 non-null   int64         \n",
      " 8   m/min                     3844 non-null   int64         \n",
      " 9   High Int Speed (m)        3844 non-null   int64         \n",
      " 10  Sprints (m)               3844 non-null   int64         \n",
      " 11  Hi Int Acceleration (nb)  3844 non-null   int64         \n",
      " 12  Hi Int Deceleration (nb)  3844 non-null   int64         \n",
      " 13  80% Distance Hi Int (m)   3844 non-null   int64         \n",
      " 14  85% Distance Hi Int (m)   3844 non-null   int64         \n",
      " 15  90% Distance Hi Int (m)   3844 non-null   int64         \n",
      " 16  >85% Distance (m)         3844 non-null   int64         \n",
      "dtypes: datetime64[ns](1), int64(10), object(6)\n",
      "memory usage: 510.7+ KB\n"
     ]
    }
   ],
   "source": [
    "df.info()"
   ]
  },
  {
   "cell_type": "markdown",
   "id": "e73111e3",
   "metadata": {},
   "source": [
    "**Changement de format de la colonne 'Week'**\n",
    "\n",
    "**Création de sous df pour les entrainements et les matchs**"
   ]
  },
  {
   "cell_type": "code",
   "execution_count": 127,
   "id": "41b38d6e",
   "metadata": {},
   "outputs": [
    {
     "data": {
      "text/plain": [
       "array([ 1,  2,  3,  4,  5,  6,  7,  8,  9, 10, 11, 12, 13, 14, 15, 16, 17,\n",
       "       18, 19, 20, 21, 22, 23, 24, 25, 26, 27, 28, 29, 30, 31, 32, 33])"
      ]
     },
     "execution_count": 127,
     "metadata": {},
     "output_type": "execute_result"
    }
   ],
   "source": [
    "a = df.Date.dt.year.astype(str).str[-2:]\n",
    "a = a.astype(int)*100\n",
    "b = df.Date.dt.isocalendar().week.astype(int)\n",
    "df['Week'] = a + b\n",
    "\n",
    "df.loc[df['Date']=='2017-01-01', 'Week'] = 1652\n",
    "\n",
    "i = 1\n",
    "for w in df.Week.unique():\n",
    "    df.loc[df['Week']==w, 'Week'] = i\n",
    "    i +=1\n",
    "\n",
    "df.Week.unique()"
   ]
  },
  {
   "cell_type": "code",
   "execution_count": 128,
   "id": "c0c17548",
   "metadata": {},
   "outputs": [
    {
     "data": {
      "text/plain": [
       "array([ 1,  2,  3,  4,  5,  6,  7,  8,  9, 10, 11, 12, 13, 14, 15, 16, 17,\n",
       "       18, 19, 20, 21, 22, 23, 24, 25, 26, 27, 28, 29, 30, 31, 32, 33])"
      ]
     },
     "execution_count": 128,
     "metadata": {},
     "output_type": "execute_result"
    }
   ],
   "source": [
    "df_training = df[df['Type']=='Training'].copy()\n",
    "df_game = df[df['Type']=='Game'].copy()\n",
    "\n",
    "df_training.Week.unique()"
   ]
  },
  {
   "cell_type": "markdown",
   "id": "2e9ec510",
   "metadata": {},
   "source": [
    "**Compte du nombre de saisies/ports du GPS par semaine et par joueur**"
   ]
  },
  {
   "cell_type": "code",
   "execution_count": 129,
   "id": "02c1d86a",
   "metadata": {},
   "outputs": [
    {
     "data": {
      "text/html": [
       "<div>\n",
       "<style scoped>\n",
       "    .dataframe tbody tr th:only-of-type {\n",
       "        vertical-align: middle;\n",
       "    }\n",
       "\n",
       "    .dataframe tbody tr th {\n",
       "        vertical-align: top;\n",
       "    }\n",
       "\n",
       "    .dataframe thead th {\n",
       "        text-align: right;\n",
       "    }\n",
       "</style>\n",
       "<table border=\"1\" class=\"dataframe\">\n",
       "  <thead>\n",
       "    <tr style=\"text-align: right;\">\n",
       "      <th>Week</th>\n",
       "      <th>1</th>\n",
       "      <th>2</th>\n",
       "      <th>3</th>\n",
       "      <th>4</th>\n",
       "      <th>5</th>\n",
       "      <th>6</th>\n",
       "      <th>7</th>\n",
       "      <th>8</th>\n",
       "      <th>9</th>\n",
       "      <th>10</th>\n",
       "      <th>...</th>\n",
       "      <th>24</th>\n",
       "      <th>25</th>\n",
       "      <th>26</th>\n",
       "      <th>27</th>\n",
       "      <th>28</th>\n",
       "      <th>29</th>\n",
       "      <th>30</th>\n",
       "      <th>31</th>\n",
       "      <th>32</th>\n",
       "      <th>33</th>\n",
       "    </tr>\n",
       "    <tr>\n",
       "      <th>Athlete</th>\n",
       "      <th></th>\n",
       "      <th></th>\n",
       "      <th></th>\n",
       "      <th></th>\n",
       "      <th></th>\n",
       "      <th></th>\n",
       "      <th></th>\n",
       "      <th></th>\n",
       "      <th></th>\n",
       "      <th></th>\n",
       "      <th></th>\n",
       "      <th></th>\n",
       "      <th></th>\n",
       "      <th></th>\n",
       "      <th></th>\n",
       "      <th></th>\n",
       "      <th></th>\n",
       "      <th></th>\n",
       "      <th></th>\n",
       "      <th></th>\n",
       "      <th></th>\n",
       "    </tr>\n",
       "  </thead>\n",
       "  <tbody>\n",
       "    <tr>\n",
       "      <th>Player 1</th>\n",
       "      <td>1</td>\n",
       "      <td>4</td>\n",
       "      <td>4</td>\n",
       "      <td>3</td>\n",
       "      <td>6</td>\n",
       "      <td>6</td>\n",
       "      <td>4</td>\n",
       "      <td>4</td>\n",
       "      <td>8</td>\n",
       "      <td>3</td>\n",
       "      <td>...</td>\n",
       "      <td>2</td>\n",
       "      <td>2</td>\n",
       "      <td>1</td>\n",
       "      <td>0</td>\n",
       "      <td>3</td>\n",
       "      <td>3</td>\n",
       "      <td>3</td>\n",
       "      <td>5</td>\n",
       "      <td>4</td>\n",
       "      <td>5</td>\n",
       "    </tr>\n",
       "    <tr>\n",
       "      <th>Player 10</th>\n",
       "      <td>1</td>\n",
       "      <td>4</td>\n",
       "      <td>3</td>\n",
       "      <td>3</td>\n",
       "      <td>6</td>\n",
       "      <td>2</td>\n",
       "      <td>4</td>\n",
       "      <td>6</td>\n",
       "      <td>9</td>\n",
       "      <td>5</td>\n",
       "      <td>...</td>\n",
       "      <td>3</td>\n",
       "      <td>4</td>\n",
       "      <td>2</td>\n",
       "      <td>4</td>\n",
       "      <td>4</td>\n",
       "      <td>3</td>\n",
       "      <td>3</td>\n",
       "      <td>4</td>\n",
       "      <td>4</td>\n",
       "      <td>5</td>\n",
       "    </tr>\n",
       "    <tr>\n",
       "      <th>Player 11</th>\n",
       "      <td>1</td>\n",
       "      <td>2</td>\n",
       "      <td>4</td>\n",
       "      <td>3</td>\n",
       "      <td>6</td>\n",
       "      <td>6</td>\n",
       "      <td>4</td>\n",
       "      <td>4</td>\n",
       "      <td>7</td>\n",
       "      <td>3</td>\n",
       "      <td>...</td>\n",
       "      <td>1</td>\n",
       "      <td>0</td>\n",
       "      <td>0</td>\n",
       "      <td>0</td>\n",
       "      <td>3</td>\n",
       "      <td>0</td>\n",
       "      <td>0</td>\n",
       "      <td>1</td>\n",
       "      <td>2</td>\n",
       "      <td>2</td>\n",
       "    </tr>\n",
       "    <tr>\n",
       "      <th>Player 12</th>\n",
       "      <td>1</td>\n",
       "      <td>4</td>\n",
       "      <td>4</td>\n",
       "      <td>3</td>\n",
       "      <td>6</td>\n",
       "      <td>6</td>\n",
       "      <td>4</td>\n",
       "      <td>4</td>\n",
       "      <td>9</td>\n",
       "      <td>3</td>\n",
       "      <td>...</td>\n",
       "      <td>2</td>\n",
       "      <td>2</td>\n",
       "      <td>2</td>\n",
       "      <td>2</td>\n",
       "      <td>4</td>\n",
       "      <td>3</td>\n",
       "      <td>3</td>\n",
       "      <td>4</td>\n",
       "      <td>3</td>\n",
       "      <td>5</td>\n",
       "    </tr>\n",
       "    <tr>\n",
       "      <th>Player 13</th>\n",
       "      <td>1</td>\n",
       "      <td>4</td>\n",
       "      <td>4</td>\n",
       "      <td>0</td>\n",
       "      <td>5</td>\n",
       "      <td>6</td>\n",
       "      <td>2</td>\n",
       "      <td>4</td>\n",
       "      <td>9</td>\n",
       "      <td>3</td>\n",
       "      <td>...</td>\n",
       "      <td>2</td>\n",
       "      <td>3</td>\n",
       "      <td>2</td>\n",
       "      <td>2</td>\n",
       "      <td>5</td>\n",
       "      <td>3</td>\n",
       "      <td>3</td>\n",
       "      <td>5</td>\n",
       "      <td>4</td>\n",
       "      <td>5</td>\n",
       "    </tr>\n",
       "    <tr>\n",
       "      <th>Player 14</th>\n",
       "      <td>1</td>\n",
       "      <td>2</td>\n",
       "      <td>3</td>\n",
       "      <td>3</td>\n",
       "      <td>6</td>\n",
       "      <td>6</td>\n",
       "      <td>5</td>\n",
       "      <td>6</td>\n",
       "      <td>1</td>\n",
       "      <td>2</td>\n",
       "      <td>...</td>\n",
       "      <td>2</td>\n",
       "      <td>3</td>\n",
       "      <td>2</td>\n",
       "      <td>4</td>\n",
       "      <td>4</td>\n",
       "      <td>2</td>\n",
       "      <td>3</td>\n",
       "      <td>4</td>\n",
       "      <td>4</td>\n",
       "      <td>5</td>\n",
       "    </tr>\n",
       "    <tr>\n",
       "      <th>Player 15</th>\n",
       "      <td>1</td>\n",
       "      <td>4</td>\n",
       "      <td>4</td>\n",
       "      <td>0</td>\n",
       "      <td>4</td>\n",
       "      <td>5</td>\n",
       "      <td>4</td>\n",
       "      <td>4</td>\n",
       "      <td>6</td>\n",
       "      <td>4</td>\n",
       "      <td>...</td>\n",
       "      <td>0</td>\n",
       "      <td>0</td>\n",
       "      <td>0</td>\n",
       "      <td>0</td>\n",
       "      <td>0</td>\n",
       "      <td>0</td>\n",
       "      <td>0</td>\n",
       "      <td>0</td>\n",
       "      <td>0</td>\n",
       "      <td>0</td>\n",
       "    </tr>\n",
       "    <tr>\n",
       "      <th>Player 16</th>\n",
       "      <td>1</td>\n",
       "      <td>2</td>\n",
       "      <td>3</td>\n",
       "      <td>3</td>\n",
       "      <td>5</td>\n",
       "      <td>6</td>\n",
       "      <td>1</td>\n",
       "      <td>4</td>\n",
       "      <td>5</td>\n",
       "      <td>3</td>\n",
       "      <td>...</td>\n",
       "      <td>2</td>\n",
       "      <td>3</td>\n",
       "      <td>1</td>\n",
       "      <td>2</td>\n",
       "      <td>5</td>\n",
       "      <td>3</td>\n",
       "      <td>3</td>\n",
       "      <td>3</td>\n",
       "      <td>4</td>\n",
       "      <td>5</td>\n",
       "    </tr>\n",
       "    <tr>\n",
       "      <th>Player 17</th>\n",
       "      <td>1</td>\n",
       "      <td>4</td>\n",
       "      <td>4</td>\n",
       "      <td>3</td>\n",
       "      <td>6</td>\n",
       "      <td>5</td>\n",
       "      <td>5</td>\n",
       "      <td>4</td>\n",
       "      <td>0</td>\n",
       "      <td>2</td>\n",
       "      <td>...</td>\n",
       "      <td>0</td>\n",
       "      <td>0</td>\n",
       "      <td>1</td>\n",
       "      <td>2</td>\n",
       "      <td>2</td>\n",
       "      <td>1</td>\n",
       "      <td>1</td>\n",
       "      <td>0</td>\n",
       "      <td>0</td>\n",
       "      <td>0</td>\n",
       "    </tr>\n",
       "    <tr>\n",
       "      <th>Player 18</th>\n",
       "      <td>0</td>\n",
       "      <td>4</td>\n",
       "      <td>3</td>\n",
       "      <td>0</td>\n",
       "      <td>0</td>\n",
       "      <td>6</td>\n",
       "      <td>4</td>\n",
       "      <td>4</td>\n",
       "      <td>7</td>\n",
       "      <td>2</td>\n",
       "      <td>...</td>\n",
       "      <td>2</td>\n",
       "      <td>0</td>\n",
       "      <td>1</td>\n",
       "      <td>1</td>\n",
       "      <td>5</td>\n",
       "      <td>2</td>\n",
       "      <td>3</td>\n",
       "      <td>4</td>\n",
       "      <td>3</td>\n",
       "      <td>2</td>\n",
       "    </tr>\n",
       "    <tr>\n",
       "      <th>Player 19</th>\n",
       "      <td>0</td>\n",
       "      <td>2</td>\n",
       "      <td>4</td>\n",
       "      <td>3</td>\n",
       "      <td>6</td>\n",
       "      <td>6</td>\n",
       "      <td>5</td>\n",
       "      <td>5</td>\n",
       "      <td>9</td>\n",
       "      <td>5</td>\n",
       "      <td>...</td>\n",
       "      <td>2</td>\n",
       "      <td>2</td>\n",
       "      <td>1</td>\n",
       "      <td>2</td>\n",
       "      <td>5</td>\n",
       "      <td>2</td>\n",
       "      <td>3</td>\n",
       "      <td>5</td>\n",
       "      <td>4</td>\n",
       "      <td>5</td>\n",
       "    </tr>\n",
       "    <tr>\n",
       "      <th>Player 2</th>\n",
       "      <td>1</td>\n",
       "      <td>3</td>\n",
       "      <td>3</td>\n",
       "      <td>3</td>\n",
       "      <td>6</td>\n",
       "      <td>6</td>\n",
       "      <td>2</td>\n",
       "      <td>5</td>\n",
       "      <td>6</td>\n",
       "      <td>6</td>\n",
       "      <td>...</td>\n",
       "      <td>0</td>\n",
       "      <td>0</td>\n",
       "      <td>0</td>\n",
       "      <td>0</td>\n",
       "      <td>0</td>\n",
       "      <td>0</td>\n",
       "      <td>0</td>\n",
       "      <td>0</td>\n",
       "      <td>0</td>\n",
       "      <td>0</td>\n",
       "    </tr>\n",
       "    <tr>\n",
       "      <th>Player 20</th>\n",
       "      <td>0</td>\n",
       "      <td>4</td>\n",
       "      <td>3</td>\n",
       "      <td>3</td>\n",
       "      <td>6</td>\n",
       "      <td>6</td>\n",
       "      <td>4</td>\n",
       "      <td>4</td>\n",
       "      <td>1</td>\n",
       "      <td>3</td>\n",
       "      <td>...</td>\n",
       "      <td>3</td>\n",
       "      <td>3</td>\n",
       "      <td>3</td>\n",
       "      <td>1</td>\n",
       "      <td>4</td>\n",
       "      <td>2</td>\n",
       "      <td>3</td>\n",
       "      <td>4</td>\n",
       "      <td>3</td>\n",
       "      <td>2</td>\n",
       "    </tr>\n",
       "    <tr>\n",
       "      <th>Player 21</th>\n",
       "      <td>0</td>\n",
       "      <td>3</td>\n",
       "      <td>4</td>\n",
       "      <td>3</td>\n",
       "      <td>5</td>\n",
       "      <td>6</td>\n",
       "      <td>5</td>\n",
       "      <td>5</td>\n",
       "      <td>8</td>\n",
       "      <td>5</td>\n",
       "      <td>...</td>\n",
       "      <td>2</td>\n",
       "      <td>0</td>\n",
       "      <td>2</td>\n",
       "      <td>0</td>\n",
       "      <td>5</td>\n",
       "      <td>2</td>\n",
       "      <td>3</td>\n",
       "      <td>4</td>\n",
       "      <td>3</td>\n",
       "      <td>2</td>\n",
       "    </tr>\n",
       "    <tr>\n",
       "      <th>Player 22</th>\n",
       "      <td>0</td>\n",
       "      <td>3</td>\n",
       "      <td>2</td>\n",
       "      <td>2</td>\n",
       "      <td>5</td>\n",
       "      <td>4</td>\n",
       "      <td>3</td>\n",
       "      <td>4</td>\n",
       "      <td>8</td>\n",
       "      <td>2</td>\n",
       "      <td>...</td>\n",
       "      <td>2</td>\n",
       "      <td>3</td>\n",
       "      <td>2</td>\n",
       "      <td>2</td>\n",
       "      <td>3</td>\n",
       "      <td>2</td>\n",
       "      <td>3</td>\n",
       "      <td>5</td>\n",
       "      <td>4</td>\n",
       "      <td>5</td>\n",
       "    </tr>\n",
       "    <tr>\n",
       "      <th>Player 23</th>\n",
       "      <td>0</td>\n",
       "      <td>0</td>\n",
       "      <td>1</td>\n",
       "      <td>0</td>\n",
       "      <td>0</td>\n",
       "      <td>6</td>\n",
       "      <td>4</td>\n",
       "      <td>4</td>\n",
       "      <td>8</td>\n",
       "      <td>3</td>\n",
       "      <td>...</td>\n",
       "      <td>2</td>\n",
       "      <td>2</td>\n",
       "      <td>1</td>\n",
       "      <td>4</td>\n",
       "      <td>4</td>\n",
       "      <td>2</td>\n",
       "      <td>3</td>\n",
       "      <td>4</td>\n",
       "      <td>4</td>\n",
       "      <td>5</td>\n",
       "    </tr>\n",
       "    <tr>\n",
       "      <th>Player 24</th>\n",
       "      <td>0</td>\n",
       "      <td>0</td>\n",
       "      <td>0</td>\n",
       "      <td>3</td>\n",
       "      <td>3</td>\n",
       "      <td>0</td>\n",
       "      <td>0</td>\n",
       "      <td>3</td>\n",
       "      <td>3</td>\n",
       "      <td>2</td>\n",
       "      <td>...</td>\n",
       "      <td>2</td>\n",
       "      <td>3</td>\n",
       "      <td>2</td>\n",
       "      <td>1</td>\n",
       "      <td>5</td>\n",
       "      <td>3</td>\n",
       "      <td>3</td>\n",
       "      <td>0</td>\n",
       "      <td>0</td>\n",
       "      <td>0</td>\n",
       "    </tr>\n",
       "    <tr>\n",
       "      <th>Player 25</th>\n",
       "      <td>0</td>\n",
       "      <td>0</td>\n",
       "      <td>0</td>\n",
       "      <td>3</td>\n",
       "      <td>6</td>\n",
       "      <td>6</td>\n",
       "      <td>5</td>\n",
       "      <td>6</td>\n",
       "      <td>6</td>\n",
       "      <td>5</td>\n",
       "      <td>...</td>\n",
       "      <td>1</td>\n",
       "      <td>3</td>\n",
       "      <td>2</td>\n",
       "      <td>4</td>\n",
       "      <td>4</td>\n",
       "      <td>3</td>\n",
       "      <td>3</td>\n",
       "      <td>4</td>\n",
       "      <td>4</td>\n",
       "      <td>5</td>\n",
       "    </tr>\n",
       "    <tr>\n",
       "      <th>Player 26</th>\n",
       "      <td>0</td>\n",
       "      <td>0</td>\n",
       "      <td>0</td>\n",
       "      <td>3</td>\n",
       "      <td>6</td>\n",
       "      <td>2</td>\n",
       "      <td>1</td>\n",
       "      <td>4</td>\n",
       "      <td>9</td>\n",
       "      <td>3</td>\n",
       "      <td>...</td>\n",
       "      <td>2</td>\n",
       "      <td>3</td>\n",
       "      <td>2</td>\n",
       "      <td>4</td>\n",
       "      <td>3</td>\n",
       "      <td>3</td>\n",
       "      <td>3</td>\n",
       "      <td>5</td>\n",
       "      <td>4</td>\n",
       "      <td>4</td>\n",
       "    </tr>\n",
       "    <tr>\n",
       "      <th>Player 27</th>\n",
       "      <td>0</td>\n",
       "      <td>0</td>\n",
       "      <td>0</td>\n",
       "      <td>0</td>\n",
       "      <td>6</td>\n",
       "      <td>6</td>\n",
       "      <td>4</td>\n",
       "      <td>6</td>\n",
       "      <td>8</td>\n",
       "      <td>4</td>\n",
       "      <td>...</td>\n",
       "      <td>1</td>\n",
       "      <td>2</td>\n",
       "      <td>2</td>\n",
       "      <td>0</td>\n",
       "      <td>1</td>\n",
       "      <td>1</td>\n",
       "      <td>0</td>\n",
       "      <td>1</td>\n",
       "      <td>4</td>\n",
       "      <td>5</td>\n",
       "    </tr>\n",
       "    <tr>\n",
       "      <th>Player 28</th>\n",
       "      <td>0</td>\n",
       "      <td>0</td>\n",
       "      <td>0</td>\n",
       "      <td>0</td>\n",
       "      <td>6</td>\n",
       "      <td>6</td>\n",
       "      <td>3</td>\n",
       "      <td>4</td>\n",
       "      <td>9</td>\n",
       "      <td>0</td>\n",
       "      <td>...</td>\n",
       "      <td>2</td>\n",
       "      <td>3</td>\n",
       "      <td>2</td>\n",
       "      <td>0</td>\n",
       "      <td>1</td>\n",
       "      <td>1</td>\n",
       "      <td>0</td>\n",
       "      <td>4</td>\n",
       "      <td>3</td>\n",
       "      <td>5</td>\n",
       "    </tr>\n",
       "    <tr>\n",
       "      <th>Player 29</th>\n",
       "      <td>0</td>\n",
       "      <td>0</td>\n",
       "      <td>0</td>\n",
       "      <td>0</td>\n",
       "      <td>3</td>\n",
       "      <td>3</td>\n",
       "      <td>1</td>\n",
       "      <td>3</td>\n",
       "      <td>3</td>\n",
       "      <td>3</td>\n",
       "      <td>...</td>\n",
       "      <td>2</td>\n",
       "      <td>3</td>\n",
       "      <td>0</td>\n",
       "      <td>4</td>\n",
       "      <td>3</td>\n",
       "      <td>2</td>\n",
       "      <td>3</td>\n",
       "      <td>5</td>\n",
       "      <td>4</td>\n",
       "      <td>5</td>\n",
       "    </tr>\n",
       "    <tr>\n",
       "      <th>Player 3</th>\n",
       "      <td>1</td>\n",
       "      <td>0</td>\n",
       "      <td>4</td>\n",
       "      <td>3</td>\n",
       "      <td>6</td>\n",
       "      <td>6</td>\n",
       "      <td>5</td>\n",
       "      <td>6</td>\n",
       "      <td>9</td>\n",
       "      <td>5</td>\n",
       "      <td>...</td>\n",
       "      <td>1</td>\n",
       "      <td>3</td>\n",
       "      <td>1</td>\n",
       "      <td>2</td>\n",
       "      <td>5</td>\n",
       "      <td>2</td>\n",
       "      <td>3</td>\n",
       "      <td>4</td>\n",
       "      <td>4</td>\n",
       "      <td>5</td>\n",
       "    </tr>\n",
       "    <tr>\n",
       "      <th>Player 30</th>\n",
       "      <td>0</td>\n",
       "      <td>0</td>\n",
       "      <td>0</td>\n",
       "      <td>0</td>\n",
       "      <td>5</td>\n",
       "      <td>3</td>\n",
       "      <td>1</td>\n",
       "      <td>0</td>\n",
       "      <td>1</td>\n",
       "      <td>4</td>\n",
       "      <td>...</td>\n",
       "      <td>3</td>\n",
       "      <td>3</td>\n",
       "      <td>3</td>\n",
       "      <td>0</td>\n",
       "      <td>0</td>\n",
       "      <td>1</td>\n",
       "      <td>2</td>\n",
       "      <td>4</td>\n",
       "      <td>3</td>\n",
       "      <td>2</td>\n",
       "    </tr>\n",
       "    <tr>\n",
       "      <th>Player 31</th>\n",
       "      <td>0</td>\n",
       "      <td>0</td>\n",
       "      <td>0</td>\n",
       "      <td>0</td>\n",
       "      <td>6</td>\n",
       "      <td>6</td>\n",
       "      <td>5</td>\n",
       "      <td>6</td>\n",
       "      <td>9</td>\n",
       "      <td>5</td>\n",
       "      <td>...</td>\n",
       "      <td>3</td>\n",
       "      <td>3</td>\n",
       "      <td>2</td>\n",
       "      <td>4</td>\n",
       "      <td>0</td>\n",
       "      <td>0</td>\n",
       "      <td>0</td>\n",
       "      <td>0</td>\n",
       "      <td>0</td>\n",
       "      <td>0</td>\n",
       "    </tr>\n",
       "    <tr>\n",
       "      <th>Player 32</th>\n",
       "      <td>0</td>\n",
       "      <td>0</td>\n",
       "      <td>0</td>\n",
       "      <td>0</td>\n",
       "      <td>0</td>\n",
       "      <td>0</td>\n",
       "      <td>5</td>\n",
       "      <td>6</td>\n",
       "      <td>7</td>\n",
       "      <td>5</td>\n",
       "      <td>...</td>\n",
       "      <td>2</td>\n",
       "      <td>3</td>\n",
       "      <td>2</td>\n",
       "      <td>2</td>\n",
       "      <td>5</td>\n",
       "      <td>2</td>\n",
       "      <td>2</td>\n",
       "      <td>4</td>\n",
       "      <td>4</td>\n",
       "      <td>1</td>\n",
       "    </tr>\n",
       "    <tr>\n",
       "      <th>Player 33</th>\n",
       "      <td>0</td>\n",
       "      <td>0</td>\n",
       "      <td>0</td>\n",
       "      <td>0</td>\n",
       "      <td>0</td>\n",
       "      <td>0</td>\n",
       "      <td>0</td>\n",
       "      <td>5</td>\n",
       "      <td>4</td>\n",
       "      <td>6</td>\n",
       "      <td>...</td>\n",
       "      <td>2</td>\n",
       "      <td>2</td>\n",
       "      <td>2</td>\n",
       "      <td>0</td>\n",
       "      <td>0</td>\n",
       "      <td>0</td>\n",
       "      <td>0</td>\n",
       "      <td>4</td>\n",
       "      <td>4</td>\n",
       "      <td>5</td>\n",
       "    </tr>\n",
       "    <tr>\n",
       "      <th>Player 34</th>\n",
       "      <td>0</td>\n",
       "      <td>0</td>\n",
       "      <td>0</td>\n",
       "      <td>0</td>\n",
       "      <td>0</td>\n",
       "      <td>0</td>\n",
       "      <td>0</td>\n",
       "      <td>3</td>\n",
       "      <td>2</td>\n",
       "      <td>2</td>\n",
       "      <td>...</td>\n",
       "      <td>0</td>\n",
       "      <td>0</td>\n",
       "      <td>0</td>\n",
       "      <td>0</td>\n",
       "      <td>0</td>\n",
       "      <td>0</td>\n",
       "      <td>0</td>\n",
       "      <td>4</td>\n",
       "      <td>5</td>\n",
       "      <td>5</td>\n",
       "    </tr>\n",
       "    <tr>\n",
       "      <th>Player 35</th>\n",
       "      <td>0</td>\n",
       "      <td>0</td>\n",
       "      <td>0</td>\n",
       "      <td>0</td>\n",
       "      <td>0</td>\n",
       "      <td>0</td>\n",
       "      <td>0</td>\n",
       "      <td>6</td>\n",
       "      <td>6</td>\n",
       "      <td>4</td>\n",
       "      <td>...</td>\n",
       "      <td>1</td>\n",
       "      <td>0</td>\n",
       "      <td>1</td>\n",
       "      <td>0</td>\n",
       "      <td>0</td>\n",
       "      <td>0</td>\n",
       "      <td>0</td>\n",
       "      <td>4</td>\n",
       "      <td>4</td>\n",
       "      <td>4</td>\n",
       "    </tr>\n",
       "    <tr>\n",
       "      <th>Player 36</th>\n",
       "      <td>0</td>\n",
       "      <td>0</td>\n",
       "      <td>0</td>\n",
       "      <td>0</td>\n",
       "      <td>0</td>\n",
       "      <td>0</td>\n",
       "      <td>0</td>\n",
       "      <td>4</td>\n",
       "      <td>6</td>\n",
       "      <td>4</td>\n",
       "      <td>...</td>\n",
       "      <td>2</td>\n",
       "      <td>3</td>\n",
       "      <td>2</td>\n",
       "      <td>0</td>\n",
       "      <td>0</td>\n",
       "      <td>0</td>\n",
       "      <td>0</td>\n",
       "      <td>3</td>\n",
       "      <td>4</td>\n",
       "      <td>5</td>\n",
       "    </tr>\n",
       "    <tr>\n",
       "      <th>Player 37</th>\n",
       "      <td>0</td>\n",
       "      <td>0</td>\n",
       "      <td>0</td>\n",
       "      <td>0</td>\n",
       "      <td>0</td>\n",
       "      <td>0</td>\n",
       "      <td>0</td>\n",
       "      <td>6</td>\n",
       "      <td>6</td>\n",
       "      <td>5</td>\n",
       "      <td>...</td>\n",
       "      <td>2</td>\n",
       "      <td>2</td>\n",
       "      <td>2</td>\n",
       "      <td>0</td>\n",
       "      <td>1</td>\n",
       "      <td>0</td>\n",
       "      <td>0</td>\n",
       "      <td>3</td>\n",
       "      <td>4</td>\n",
       "      <td>5</td>\n",
       "    </tr>\n",
       "    <tr>\n",
       "      <th>Player 38</th>\n",
       "      <td>0</td>\n",
       "      <td>0</td>\n",
       "      <td>0</td>\n",
       "      <td>0</td>\n",
       "      <td>0</td>\n",
       "      <td>0</td>\n",
       "      <td>0</td>\n",
       "      <td>0</td>\n",
       "      <td>0</td>\n",
       "      <td>0</td>\n",
       "      <td>...</td>\n",
       "      <td>2</td>\n",
       "      <td>3</td>\n",
       "      <td>3</td>\n",
       "      <td>1</td>\n",
       "      <td>3</td>\n",
       "      <td>2</td>\n",
       "      <td>3</td>\n",
       "      <td>4</td>\n",
       "      <td>3</td>\n",
       "      <td>2</td>\n",
       "    </tr>\n",
       "    <tr>\n",
       "      <th>Player 39</th>\n",
       "      <td>0</td>\n",
       "      <td>0</td>\n",
       "      <td>0</td>\n",
       "      <td>0</td>\n",
       "      <td>0</td>\n",
       "      <td>0</td>\n",
       "      <td>0</td>\n",
       "      <td>0</td>\n",
       "      <td>0</td>\n",
       "      <td>0</td>\n",
       "      <td>...</td>\n",
       "      <td>3</td>\n",
       "      <td>3</td>\n",
       "      <td>3</td>\n",
       "      <td>1</td>\n",
       "      <td>3</td>\n",
       "      <td>1</td>\n",
       "      <td>4</td>\n",
       "      <td>4</td>\n",
       "      <td>2</td>\n",
       "      <td>2</td>\n",
       "    </tr>\n",
       "    <tr>\n",
       "      <th>Player 4</th>\n",
       "      <td>1</td>\n",
       "      <td>3</td>\n",
       "      <td>4</td>\n",
       "      <td>3</td>\n",
       "      <td>6</td>\n",
       "      <td>6</td>\n",
       "      <td>2</td>\n",
       "      <td>2</td>\n",
       "      <td>4</td>\n",
       "      <td>3</td>\n",
       "      <td>...</td>\n",
       "      <td>0</td>\n",
       "      <td>0</td>\n",
       "      <td>0</td>\n",
       "      <td>0</td>\n",
       "      <td>0</td>\n",
       "      <td>0</td>\n",
       "      <td>0</td>\n",
       "      <td>0</td>\n",
       "      <td>0</td>\n",
       "      <td>0</td>\n",
       "    </tr>\n",
       "    <tr>\n",
       "      <th>Player 40</th>\n",
       "      <td>0</td>\n",
       "      <td>0</td>\n",
       "      <td>0</td>\n",
       "      <td>0</td>\n",
       "      <td>0</td>\n",
       "      <td>0</td>\n",
       "      <td>0</td>\n",
       "      <td>0</td>\n",
       "      <td>0</td>\n",
       "      <td>0</td>\n",
       "      <td>...</td>\n",
       "      <td>0</td>\n",
       "      <td>0</td>\n",
       "      <td>2</td>\n",
       "      <td>2</td>\n",
       "      <td>2</td>\n",
       "      <td>0</td>\n",
       "      <td>1</td>\n",
       "      <td>1</td>\n",
       "      <td>2</td>\n",
       "      <td>1</td>\n",
       "    </tr>\n",
       "    <tr>\n",
       "      <th>Player 5</th>\n",
       "      <td>1</td>\n",
       "      <td>2</td>\n",
       "      <td>2</td>\n",
       "      <td>2</td>\n",
       "      <td>5</td>\n",
       "      <td>5</td>\n",
       "      <td>4</td>\n",
       "      <td>4</td>\n",
       "      <td>6</td>\n",
       "      <td>3</td>\n",
       "      <td>...</td>\n",
       "      <td>2</td>\n",
       "      <td>3</td>\n",
       "      <td>2</td>\n",
       "      <td>2</td>\n",
       "      <td>5</td>\n",
       "      <td>3</td>\n",
       "      <td>3</td>\n",
       "      <td>5</td>\n",
       "      <td>4</td>\n",
       "      <td>5</td>\n",
       "    </tr>\n",
       "    <tr>\n",
       "      <th>Player 6</th>\n",
       "      <td>1</td>\n",
       "      <td>3</td>\n",
       "      <td>1</td>\n",
       "      <td>1</td>\n",
       "      <td>3</td>\n",
       "      <td>6</td>\n",
       "      <td>4</td>\n",
       "      <td>4</td>\n",
       "      <td>6</td>\n",
       "      <td>3</td>\n",
       "      <td>...</td>\n",
       "      <td>2</td>\n",
       "      <td>2</td>\n",
       "      <td>3</td>\n",
       "      <td>4</td>\n",
       "      <td>4</td>\n",
       "      <td>3</td>\n",
       "      <td>3</td>\n",
       "      <td>4</td>\n",
       "      <td>3</td>\n",
       "      <td>2</td>\n",
       "    </tr>\n",
       "    <tr>\n",
       "      <th>Player 7</th>\n",
       "      <td>1</td>\n",
       "      <td>3</td>\n",
       "      <td>4</td>\n",
       "      <td>3</td>\n",
       "      <td>5</td>\n",
       "      <td>6</td>\n",
       "      <td>5</td>\n",
       "      <td>6</td>\n",
       "      <td>6</td>\n",
       "      <td>6</td>\n",
       "      <td>...</td>\n",
       "      <td>2</td>\n",
       "      <td>3</td>\n",
       "      <td>1</td>\n",
       "      <td>2</td>\n",
       "      <td>5</td>\n",
       "      <td>2</td>\n",
       "      <td>3</td>\n",
       "      <td>4</td>\n",
       "      <td>4</td>\n",
       "      <td>2</td>\n",
       "    </tr>\n",
       "    <tr>\n",
       "      <th>Player 8</th>\n",
       "      <td>1</td>\n",
       "      <td>3</td>\n",
       "      <td>4</td>\n",
       "      <td>3</td>\n",
       "      <td>6</td>\n",
       "      <td>6</td>\n",
       "      <td>3</td>\n",
       "      <td>6</td>\n",
       "      <td>4</td>\n",
       "      <td>6</td>\n",
       "      <td>...</td>\n",
       "      <td>2</td>\n",
       "      <td>3</td>\n",
       "      <td>2</td>\n",
       "      <td>0</td>\n",
       "      <td>1</td>\n",
       "      <td>1</td>\n",
       "      <td>0</td>\n",
       "      <td>3</td>\n",
       "      <td>4</td>\n",
       "      <td>5</td>\n",
       "    </tr>\n",
       "    <tr>\n",
       "      <th>Player 9</th>\n",
       "      <td>1</td>\n",
       "      <td>4</td>\n",
       "      <td>4</td>\n",
       "      <td>3</td>\n",
       "      <td>6</td>\n",
       "      <td>6</td>\n",
       "      <td>4</td>\n",
       "      <td>3</td>\n",
       "      <td>0</td>\n",
       "      <td>2</td>\n",
       "      <td>...</td>\n",
       "      <td>2</td>\n",
       "      <td>3</td>\n",
       "      <td>2</td>\n",
       "      <td>2</td>\n",
       "      <td>5</td>\n",
       "      <td>3</td>\n",
       "      <td>3</td>\n",
       "      <td>5</td>\n",
       "      <td>4</td>\n",
       "      <td>5</td>\n",
       "    </tr>\n",
       "  </tbody>\n",
       "</table>\n",
       "<p>40 rows × 33 columns</p>\n",
       "</div>"
      ],
      "text/plain": [
       "Week       1   2   3   4   5   6   7   8   9   10  ...  24  25  26  27  28  \\\n",
       "Athlete                                            ...                       \n",
       "Player 1    1   4   4   3   6   6   4   4   8   3  ...   2   2   1   0   3   \n",
       "Player 10   1   4   3   3   6   2   4   6   9   5  ...   3   4   2   4   4   \n",
       "Player 11   1   2   4   3   6   6   4   4   7   3  ...   1   0   0   0   3   \n",
       "Player 12   1   4   4   3   6   6   4   4   9   3  ...   2   2   2   2   4   \n",
       "Player 13   1   4   4   0   5   6   2   4   9   3  ...   2   3   2   2   5   \n",
       "Player 14   1   2   3   3   6   6   5   6   1   2  ...   2   3   2   4   4   \n",
       "Player 15   1   4   4   0   4   5   4   4   6   4  ...   0   0   0   0   0   \n",
       "Player 16   1   2   3   3   5   6   1   4   5   3  ...   2   3   1   2   5   \n",
       "Player 17   1   4   4   3   6   5   5   4   0   2  ...   0   0   1   2   2   \n",
       "Player 18   0   4   3   0   0   6   4   4   7   2  ...   2   0   1   1   5   \n",
       "Player 19   0   2   4   3   6   6   5   5   9   5  ...   2   2   1   2   5   \n",
       "Player 2    1   3   3   3   6   6   2   5   6   6  ...   0   0   0   0   0   \n",
       "Player 20   0   4   3   3   6   6   4   4   1   3  ...   3   3   3   1   4   \n",
       "Player 21   0   3   4   3   5   6   5   5   8   5  ...   2   0   2   0   5   \n",
       "Player 22   0   3   2   2   5   4   3   4   8   2  ...   2   3   2   2   3   \n",
       "Player 23   0   0   1   0   0   6   4   4   8   3  ...   2   2   1   4   4   \n",
       "Player 24   0   0   0   3   3   0   0   3   3   2  ...   2   3   2   1   5   \n",
       "Player 25   0   0   0   3   6   6   5   6   6   5  ...   1   3   2   4   4   \n",
       "Player 26   0   0   0   3   6   2   1   4   9   3  ...   2   3   2   4   3   \n",
       "Player 27   0   0   0   0   6   6   4   6   8   4  ...   1   2   2   0   1   \n",
       "Player 28   0   0   0   0   6   6   3   4   9   0  ...   2   3   2   0   1   \n",
       "Player 29   0   0   0   0   3   3   1   3   3   3  ...   2   3   0   4   3   \n",
       "Player 3    1   0   4   3   6   6   5   6   9   5  ...   1   3   1   2   5   \n",
       "Player 30   0   0   0   0   5   3   1   0   1   4  ...   3   3   3   0   0   \n",
       "Player 31   0   0   0   0   6   6   5   6   9   5  ...   3   3   2   4   0   \n",
       "Player 32   0   0   0   0   0   0   5   6   7   5  ...   2   3   2   2   5   \n",
       "Player 33   0   0   0   0   0   0   0   5   4   6  ...   2   2   2   0   0   \n",
       "Player 34   0   0   0   0   0   0   0   3   2   2  ...   0   0   0   0   0   \n",
       "Player 35   0   0   0   0   0   0   0   6   6   4  ...   1   0   1   0   0   \n",
       "Player 36   0   0   0   0   0   0   0   4   6   4  ...   2   3   2   0   0   \n",
       "Player 37   0   0   0   0   0   0   0   6   6   5  ...   2   2   2   0   1   \n",
       "Player 38   0   0   0   0   0   0   0   0   0   0  ...   2   3   3   1   3   \n",
       "Player 39   0   0   0   0   0   0   0   0   0   0  ...   3   3   3   1   3   \n",
       "Player 4    1   3   4   3   6   6   2   2   4   3  ...   0   0   0   0   0   \n",
       "Player 40   0   0   0   0   0   0   0   0   0   0  ...   0   0   2   2   2   \n",
       "Player 5    1   2   2   2   5   5   4   4   6   3  ...   2   3   2   2   5   \n",
       "Player 6    1   3   1   1   3   6   4   4   6   3  ...   2   2   3   4   4   \n",
       "Player 7    1   3   4   3   5   6   5   6   6   6  ...   2   3   1   2   5   \n",
       "Player 8    1   3   4   3   6   6   3   6   4   6  ...   2   3   2   0   1   \n",
       "Player 9    1   4   4   3   6   6   4   3   0   2  ...   2   3   2   2   5   \n",
       "\n",
       "Week       29  30  31  32  33  \n",
       "Athlete                        \n",
       "Player 1    3   3   5   4   5  \n",
       "Player 10   3   3   4   4   5  \n",
       "Player 11   0   0   1   2   2  \n",
       "Player 12   3   3   4   3   5  \n",
       "Player 13   3   3   5   4   5  \n",
       "Player 14   2   3   4   4   5  \n",
       "Player 15   0   0   0   0   0  \n",
       "Player 16   3   3   3   4   5  \n",
       "Player 17   1   1   0   0   0  \n",
       "Player 18   2   3   4   3   2  \n",
       "Player 19   2   3   5   4   5  \n",
       "Player 2    0   0   0   0   0  \n",
       "Player 20   2   3   4   3   2  \n",
       "Player 21   2   3   4   3   2  \n",
       "Player 22   2   3   5   4   5  \n",
       "Player 23   2   3   4   4   5  \n",
       "Player 24   3   3   0   0   0  \n",
       "Player 25   3   3   4   4   5  \n",
       "Player 26   3   3   5   4   4  \n",
       "Player 27   1   0   1   4   5  \n",
       "Player 28   1   0   4   3   5  \n",
       "Player 29   2   3   5   4   5  \n",
       "Player 3    2   3   4   4   5  \n",
       "Player 30   1   2   4   3   2  \n",
       "Player 31   0   0   0   0   0  \n",
       "Player 32   2   2   4   4   1  \n",
       "Player 33   0   0   4   4   5  \n",
       "Player 34   0   0   4   5   5  \n",
       "Player 35   0   0   4   4   4  \n",
       "Player 36   0   0   3   4   5  \n",
       "Player 37   0   0   3   4   5  \n",
       "Player 38   2   3   4   3   2  \n",
       "Player 39   1   4   4   2   2  \n",
       "Player 4    0   0   0   0   0  \n",
       "Player 40   0   1   1   2   1  \n",
       "Player 5    3   3   5   4   5  \n",
       "Player 6    3   3   4   3   2  \n",
       "Player 7    2   3   4   4   2  \n",
       "Player 8    1   0   3   4   5  \n",
       "Player 9    3   3   5   4   5  \n",
       "\n",
       "[40 rows x 33 columns]"
      ]
     },
     "execution_count": 129,
     "metadata": {},
     "output_type": "execute_result"
    }
   ],
   "source": [
    "pd.crosstab(df_training.Athlete, df_training.Week)\n",
    "#Il y a un décalage des semaines car la df originale n'a aucune données sur les deux semaines de coupure à Noël\n",
    "# Le problème sera réglé plus tard"
   ]
  },
  {
   "cell_type": "code",
   "execution_count": 130,
   "id": "b1fa3c5f",
   "metadata": {},
   "outputs": [
    {
     "data": {
      "text/plain": [
       "Index(['Athlete', 'Unit', 'Group', 'Position', 'Date', 'Week', 'Type',\n",
       "       'Distance Total (m)', 'm/min', 'High Int Speed (m)', 'Sprints (m)',\n",
       "       'Hi Int Acceleration (nb)', 'Hi Int Deceleration (nb)',\n",
       "       '80% Distance Hi Int (m)', '85% Distance Hi Int (m)',\n",
       "       '90% Distance Hi Int (m)', '>85% Distance (m)'],\n",
       "      dtype='object')"
      ]
     },
     "execution_count": 130,
     "metadata": {},
     "output_type": "execute_result"
    }
   ],
   "source": [
    "marqueurs = ['Distance Total (m)', 'm/min', 'High Int Speed (m)', 'Sprints (m)', 'Hi Int Acceleration (nb)', \n",
    "             'Hi Int Deceleration (nb)', '80% Distance Hi Int (m)', '85% Distance Hi Int (m)', '90% Distance Hi Int (m)', \n",
    "             '>85% Distance (m)']\n",
    "\n",
    "athletes = df.Athlete.unique()\n",
    "\n",
    "df.columns"
   ]
  },
  {
   "cell_type": "markdown",
   "id": "a9cc10de",
   "metadata": {},
   "source": [
    "**Création du tableau descriptif**"
   ]
  },
  {
   "cell_type": "code",
   "execution_count": 131,
   "id": "5dcb6da2",
   "metadata": {},
   "outputs": [],
   "source": [
    "df_arranged = df.melt(id_vars=['Athlete', 'Unit', 'Group', 'Position', 'Date', 'Week', 'Type'], \n",
    "                      var_name='Marqueurs', value_name='Value')"
   ]
  },
  {
   "cell_type": "code",
   "execution_count": 132,
   "id": "796b3271",
   "metadata": {},
   "outputs": [],
   "source": [
    "def d10(x):\n",
    "    return x.quantile(0.1)\n",
    "\n",
    "def d20(x):\n",
    "    return x.quantile(0.2)\n",
    "\n",
    "def d30(x):\n",
    "    return x.quantile(0.3)\n",
    "\n",
    "def d40(x):\n",
    "    return x.quantile(0.4)\n",
    "\n",
    "def d50(x):\n",
    "    return x.quantile(0.5)\n",
    "\n",
    "def d60(x):\n",
    "    return x.quantile(0.6)\n",
    "\n",
    "def d70(x):\n",
    "    return x.quantile(0.7)\n",
    "\n",
    "def d80(x):\n",
    "    return x.quantile(0.8)\n",
    "\n",
    "def d90(x):\n",
    "    return x.quantile(0.9)\n",
    "\n",
    "agg_func_desc = {'Value':['min', 'max', 'median', d10, d20, d30, d40, d50, d60, d70, d80, d90]}\n",
    "    \n",
    "df_descriptive = df_arranged.groupby(['Week', 'Marqueurs', 'Type']).agg(agg_func_desc)"
   ]
  },
  {
   "cell_type": "code",
   "execution_count": 133,
   "id": "1c1cd3f4",
   "metadata": {},
   "outputs": [
    {
     "data": {
      "text/html": [
       "<div>\n",
       "<style scoped>\n",
       "    .dataframe tbody tr th:only-of-type {\n",
       "        vertical-align: middle;\n",
       "    }\n",
       "\n",
       "    .dataframe tbody tr th {\n",
       "        vertical-align: top;\n",
       "    }\n",
       "\n",
       "    .dataframe thead tr th {\n",
       "        text-align: left;\n",
       "    }\n",
       "\n",
       "    .dataframe thead tr:last-of-type th {\n",
       "        text-align: right;\n",
       "    }\n",
       "</style>\n",
       "<table border=\"1\" class=\"dataframe\">\n",
       "  <thead>\n",
       "    <tr>\n",
       "      <th></th>\n",
       "      <th></th>\n",
       "      <th colspan=\"12\" halign=\"left\">Value</th>\n",
       "    </tr>\n",
       "    <tr>\n",
       "      <th></th>\n",
       "      <th></th>\n",
       "      <th>min</th>\n",
       "      <th>max</th>\n",
       "      <th>median</th>\n",
       "      <th>d10</th>\n",
       "      <th>d20</th>\n",
       "      <th>d30</th>\n",
       "      <th>d40</th>\n",
       "      <th>d50</th>\n",
       "      <th>d60</th>\n",
       "      <th>d70</th>\n",
       "      <th>d80</th>\n",
       "      <th>d90</th>\n",
       "    </tr>\n",
       "    <tr>\n",
       "      <th>Marqueurs</th>\n",
       "      <th>Type</th>\n",
       "      <th></th>\n",
       "      <th></th>\n",
       "      <th></th>\n",
       "      <th></th>\n",
       "      <th></th>\n",
       "      <th></th>\n",
       "      <th></th>\n",
       "      <th></th>\n",
       "      <th></th>\n",
       "      <th></th>\n",
       "      <th></th>\n",
       "      <th></th>\n",
       "    </tr>\n",
       "  </thead>\n",
       "  <tbody>\n",
       "    <tr>\n",
       "      <th rowspan=\"2\" valign=\"top\">80% Distance Hi Int (m)</th>\n",
       "      <th>Game</th>\n",
       "      <td>0</td>\n",
       "      <td>31</td>\n",
       "      <td>0.0</td>\n",
       "      <td>0.0</td>\n",
       "      <td>0.0</td>\n",
       "      <td>0.0</td>\n",
       "      <td>0.0</td>\n",
       "      <td>0.0</td>\n",
       "      <td>2.0</td>\n",
       "      <td>4.9</td>\n",
       "      <td>10.8</td>\n",
       "      <td>14.5</td>\n",
       "    </tr>\n",
       "    <tr>\n",
       "      <th>Training</th>\n",
       "      <td>0</td>\n",
       "      <td>60</td>\n",
       "      <td>0.0</td>\n",
       "      <td>0.0</td>\n",
       "      <td>0.0</td>\n",
       "      <td>0.0</td>\n",
       "      <td>0.0</td>\n",
       "      <td>0.0</td>\n",
       "      <td>0.2</td>\n",
       "      <td>4.0</td>\n",
       "      <td>9.0</td>\n",
       "      <td>20.3</td>\n",
       "    </tr>\n",
       "    <tr>\n",
       "      <th rowspan=\"2\" valign=\"top\">85% Distance Hi Int (m)</th>\n",
       "      <th>Game</th>\n",
       "      <td>0</td>\n",
       "      <td>30</td>\n",
       "      <td>0.0</td>\n",
       "      <td>0.0</td>\n",
       "      <td>0.0</td>\n",
       "      <td>0.0</td>\n",
       "      <td>0.0</td>\n",
       "      <td>0.0</td>\n",
       "      <td>0.0</td>\n",
       "      <td>0.0</td>\n",
       "      <td>2.6</td>\n",
       "      <td>6.6</td>\n",
       "    </tr>\n",
       "    <tr>\n",
       "      <th>Training</th>\n",
       "      <td>0</td>\n",
       "      <td>38</td>\n",
       "      <td>0.0</td>\n",
       "      <td>0.0</td>\n",
       "      <td>0.0</td>\n",
       "      <td>0.0</td>\n",
       "      <td>0.0</td>\n",
       "      <td>0.0</td>\n",
       "      <td>0.0</td>\n",
       "      <td>0.0</td>\n",
       "      <td>2.0</td>\n",
       "      <td>17.2</td>\n",
       "    </tr>\n",
       "    <tr>\n",
       "      <th rowspan=\"2\" valign=\"top\">90% Distance Hi Int (m)</th>\n",
       "      <th>Game</th>\n",
       "      <td>0</td>\n",
       "      <td>9</td>\n",
       "      <td>0.0</td>\n",
       "      <td>0.0</td>\n",
       "      <td>0.0</td>\n",
       "      <td>0.0</td>\n",
       "      <td>0.0</td>\n",
       "      <td>0.0</td>\n",
       "      <td>0.0</td>\n",
       "      <td>0.0</td>\n",
       "      <td>0.0</td>\n",
       "      <td>0.3</td>\n",
       "    </tr>\n",
       "    <tr>\n",
       "      <th>Training</th>\n",
       "      <td>0</td>\n",
       "      <td>41</td>\n",
       "      <td>0.0</td>\n",
       "      <td>0.0</td>\n",
       "      <td>0.0</td>\n",
       "      <td>0.0</td>\n",
       "      <td>0.0</td>\n",
       "      <td>0.0</td>\n",
       "      <td>0.0</td>\n",
       "      <td>0.0</td>\n",
       "      <td>0.0</td>\n",
       "      <td>2.3</td>\n",
       "    </tr>\n",
       "    <tr>\n",
       "      <th rowspan=\"2\" valign=\"top\">&gt;85% Distance (m)</th>\n",
       "      <th>Game</th>\n",
       "      <td>0</td>\n",
       "      <td>35</td>\n",
       "      <td>0.0</td>\n",
       "      <td>0.0</td>\n",
       "      <td>0.0</td>\n",
       "      <td>0.0</td>\n",
       "      <td>0.0</td>\n",
       "      <td>0.0</td>\n",
       "      <td>0.0</td>\n",
       "      <td>0.0</td>\n",
       "      <td>2.6</td>\n",
       "      <td>8.4</td>\n",
       "    </tr>\n",
       "    <tr>\n",
       "      <th>Training</th>\n",
       "      <td>0</td>\n",
       "      <td>74</td>\n",
       "      <td>0.0</td>\n",
       "      <td>0.0</td>\n",
       "      <td>0.0</td>\n",
       "      <td>0.0</td>\n",
       "      <td>0.0</td>\n",
       "      <td>0.0</td>\n",
       "      <td>0.0</td>\n",
       "      <td>0.0</td>\n",
       "      <td>2.0</td>\n",
       "      <td>21.5</td>\n",
       "    </tr>\n",
       "    <tr>\n",
       "      <th rowspan=\"2\" valign=\"top\">Distance Total (m)</th>\n",
       "      <th>Game</th>\n",
       "      <td>1146</td>\n",
       "      <td>6752</td>\n",
       "      <td>3264.0</td>\n",
       "      <td>1513.9</td>\n",
       "      <td>2002.4</td>\n",
       "      <td>2385.9</td>\n",
       "      <td>2666.2</td>\n",
       "      <td>3264.0</td>\n",
       "      <td>3796.2</td>\n",
       "      <td>4171.3</td>\n",
       "      <td>4788.8</td>\n",
       "      <td>5890.1</td>\n",
       "    </tr>\n",
       "    <tr>\n",
       "      <th>Training</th>\n",
       "      <td>1012</td>\n",
       "      <td>7187</td>\n",
       "      <td>4018.0</td>\n",
       "      <td>2046.6</td>\n",
       "      <td>2880.0</td>\n",
       "      <td>3256.7</td>\n",
       "      <td>3622.8</td>\n",
       "      <td>4018.0</td>\n",
       "      <td>4461.0</td>\n",
       "      <td>4798.5</td>\n",
       "      <td>5244.6</td>\n",
       "      <td>5733.7</td>\n",
       "    </tr>\n",
       "    <tr>\n",
       "      <th rowspan=\"2\" valign=\"top\">Hi Int Acceleration (nb)</th>\n",
       "      <th>Game</th>\n",
       "      <td>0</td>\n",
       "      <td>56</td>\n",
       "      <td>20.5</td>\n",
       "      <td>3.4</td>\n",
       "      <td>4.0</td>\n",
       "      <td>7.1</td>\n",
       "      <td>13.8</td>\n",
       "      <td>20.5</td>\n",
       "      <td>26.2</td>\n",
       "      <td>33.7</td>\n",
       "      <td>37.6</td>\n",
       "      <td>41.0</td>\n",
       "    </tr>\n",
       "    <tr>\n",
       "      <th>Training</th>\n",
       "      <td>1</td>\n",
       "      <td>68</td>\n",
       "      <td>20.0</td>\n",
       "      <td>5.0</td>\n",
       "      <td>9.0</td>\n",
       "      <td>13.0</td>\n",
       "      <td>15.8</td>\n",
       "      <td>20.0</td>\n",
       "      <td>24.0</td>\n",
       "      <td>29.0</td>\n",
       "      <td>32.6</td>\n",
       "      <td>40.0</td>\n",
       "    </tr>\n",
       "    <tr>\n",
       "      <th rowspan=\"2\" valign=\"top\">Hi Int Deceleration (nb)</th>\n",
       "      <th>Game</th>\n",
       "      <td>0</td>\n",
       "      <td>51</td>\n",
       "      <td>19.0</td>\n",
       "      <td>1.7</td>\n",
       "      <td>4.4</td>\n",
       "      <td>7.3</td>\n",
       "      <td>14.8</td>\n",
       "      <td>19.0</td>\n",
       "      <td>26.0</td>\n",
       "      <td>27.0</td>\n",
       "      <td>29.2</td>\n",
       "      <td>33.3</td>\n",
       "    </tr>\n",
       "    <tr>\n",
       "      <th>Training</th>\n",
       "      <td>1</td>\n",
       "      <td>56</td>\n",
       "      <td>16.0</td>\n",
       "      <td>4.0</td>\n",
       "      <td>6.0</td>\n",
       "      <td>9.0</td>\n",
       "      <td>12.0</td>\n",
       "      <td>16.0</td>\n",
       "      <td>18.2</td>\n",
       "      <td>21.9</td>\n",
       "      <td>28.6</td>\n",
       "      <td>34.0</td>\n",
       "    </tr>\n",
       "    <tr>\n",
       "      <th rowspan=\"2\" valign=\"top\">High Int Speed (m)</th>\n",
       "      <th>Game</th>\n",
       "      <td>23</td>\n",
       "      <td>1078</td>\n",
       "      <td>297.0</td>\n",
       "      <td>53.7</td>\n",
       "      <td>114.4</td>\n",
       "      <td>145.5</td>\n",
       "      <td>240.4</td>\n",
       "      <td>297.0</td>\n",
       "      <td>424.2</td>\n",
       "      <td>502.3</td>\n",
       "      <td>550.4</td>\n",
       "      <td>765.1</td>\n",
       "    </tr>\n",
       "    <tr>\n",
       "      <th>Training</th>\n",
       "      <td>10</td>\n",
       "      <td>1114</td>\n",
       "      <td>245.5</td>\n",
       "      <td>77.1</td>\n",
       "      <td>121.0</td>\n",
       "      <td>142.0</td>\n",
       "      <td>181.0</td>\n",
       "      <td>245.5</td>\n",
       "      <td>330.4</td>\n",
       "      <td>422.3</td>\n",
       "      <td>527.2</td>\n",
       "      <td>727.2</td>\n",
       "    </tr>\n",
       "    <tr>\n",
       "      <th rowspan=\"2\" valign=\"top\">Sprints (m)</th>\n",
       "      <th>Game</th>\n",
       "      <td>16</td>\n",
       "      <td>174</td>\n",
       "      <td>83.0</td>\n",
       "      <td>24.4</td>\n",
       "      <td>33.4</td>\n",
       "      <td>52.0</td>\n",
       "      <td>74.4</td>\n",
       "      <td>83.0</td>\n",
       "      <td>86.6</td>\n",
       "      <td>100.5</td>\n",
       "      <td>120.0</td>\n",
       "      <td>139.8</td>\n",
       "    </tr>\n",
       "    <tr>\n",
       "      <th>Training</th>\n",
       "      <td>19</td>\n",
       "      <td>163</td>\n",
       "      <td>78.0</td>\n",
       "      <td>37.7</td>\n",
       "      <td>51.8</td>\n",
       "      <td>63.0</td>\n",
       "      <td>70.0</td>\n",
       "      <td>78.0</td>\n",
       "      <td>91.4</td>\n",
       "      <td>102.8</td>\n",
       "      <td>117.0</td>\n",
       "      <td>128.9</td>\n",
       "    </tr>\n",
       "    <tr>\n",
       "      <th rowspan=\"2\" valign=\"top\">m/min</th>\n",
       "      <th>Game</th>\n",
       "      <td>31</td>\n",
       "      <td>92</td>\n",
       "      <td>57.0</td>\n",
       "      <td>36.1</td>\n",
       "      <td>48.6</td>\n",
       "      <td>52.2</td>\n",
       "      <td>56.0</td>\n",
       "      <td>57.0</td>\n",
       "      <td>62.2</td>\n",
       "      <td>64.8</td>\n",
       "      <td>71.2</td>\n",
       "      <td>79.0</td>\n",
       "    </tr>\n",
       "    <tr>\n",
       "      <th>Training</th>\n",
       "      <td>20</td>\n",
       "      <td>122</td>\n",
       "      <td>45.0</td>\n",
       "      <td>34.0</td>\n",
       "      <td>36.0</td>\n",
       "      <td>39.0</td>\n",
       "      <td>41.8</td>\n",
       "      <td>45.0</td>\n",
       "      <td>48.0</td>\n",
       "      <td>50.0</td>\n",
       "      <td>53.6</td>\n",
       "      <td>58.0</td>\n",
       "    </tr>\n",
       "  </tbody>\n",
       "</table>\n",
       "</div>"
      ],
      "text/plain": [
       "                                  Value                                        \\\n",
       "                                    min   max  median     d10     d20     d30   \n",
       "Marqueurs                Type                                                   \n",
       "80% Distance Hi Int (m)  Game         0    31     0.0     0.0     0.0     0.0   \n",
       "                         Training     0    60     0.0     0.0     0.0     0.0   \n",
       "85% Distance Hi Int (m)  Game         0    30     0.0     0.0     0.0     0.0   \n",
       "                         Training     0    38     0.0     0.0     0.0     0.0   \n",
       "90% Distance Hi Int (m)  Game         0     9     0.0     0.0     0.0     0.0   \n",
       "                         Training     0    41     0.0     0.0     0.0     0.0   \n",
       ">85% Distance (m)        Game         0    35     0.0     0.0     0.0     0.0   \n",
       "                         Training     0    74     0.0     0.0     0.0     0.0   \n",
       "Distance Total (m)       Game      1146  6752  3264.0  1513.9  2002.4  2385.9   \n",
       "                         Training  1012  7187  4018.0  2046.6  2880.0  3256.7   \n",
       "Hi Int Acceleration (nb) Game         0    56    20.5     3.4     4.0     7.1   \n",
       "                         Training     1    68    20.0     5.0     9.0    13.0   \n",
       "Hi Int Deceleration (nb) Game         0    51    19.0     1.7     4.4     7.3   \n",
       "                         Training     1    56    16.0     4.0     6.0     9.0   \n",
       "High Int Speed (m)       Game        23  1078   297.0    53.7   114.4   145.5   \n",
       "                         Training    10  1114   245.5    77.1   121.0   142.0   \n",
       "Sprints (m)              Game        16   174    83.0    24.4    33.4    52.0   \n",
       "                         Training    19   163    78.0    37.7    51.8    63.0   \n",
       "m/min                    Game        31    92    57.0    36.1    48.6    52.2   \n",
       "                         Training    20   122    45.0    34.0    36.0    39.0   \n",
       "\n",
       "                                                                           \\\n",
       "                                      d40     d50     d60     d70     d80   \n",
       "Marqueurs                Type                                               \n",
       "80% Distance Hi Int (m)  Game         0.0     0.0     2.0     4.9    10.8   \n",
       "                         Training     0.0     0.0     0.2     4.0     9.0   \n",
       "85% Distance Hi Int (m)  Game         0.0     0.0     0.0     0.0     2.6   \n",
       "                         Training     0.0     0.0     0.0     0.0     2.0   \n",
       "90% Distance Hi Int (m)  Game         0.0     0.0     0.0     0.0     0.0   \n",
       "                         Training     0.0     0.0     0.0     0.0     0.0   \n",
       ">85% Distance (m)        Game         0.0     0.0     0.0     0.0     2.6   \n",
       "                         Training     0.0     0.0     0.0     0.0     2.0   \n",
       "Distance Total (m)       Game      2666.2  3264.0  3796.2  4171.3  4788.8   \n",
       "                         Training  3622.8  4018.0  4461.0  4798.5  5244.6   \n",
       "Hi Int Acceleration (nb) Game        13.8    20.5    26.2    33.7    37.6   \n",
       "                         Training    15.8    20.0    24.0    29.0    32.6   \n",
       "Hi Int Deceleration (nb) Game        14.8    19.0    26.0    27.0    29.2   \n",
       "                         Training    12.0    16.0    18.2    21.9    28.6   \n",
       "High Int Speed (m)       Game       240.4   297.0   424.2   502.3   550.4   \n",
       "                         Training   181.0   245.5   330.4   422.3   527.2   \n",
       "Sprints (m)              Game        74.4    83.0    86.6   100.5   120.0   \n",
       "                         Training    70.0    78.0    91.4   102.8   117.0   \n",
       "m/min                    Game        56.0    57.0    62.2    64.8    71.2   \n",
       "                         Training    41.8    45.0    48.0    50.0    53.6   \n",
       "\n",
       "                                           \n",
       "                                      d90  \n",
       "Marqueurs                Type              \n",
       "80% Distance Hi Int (m)  Game        14.5  \n",
       "                         Training    20.3  \n",
       "85% Distance Hi Int (m)  Game         6.6  \n",
       "                         Training    17.2  \n",
       "90% Distance Hi Int (m)  Game         0.3  \n",
       "                         Training     2.3  \n",
       ">85% Distance (m)        Game         8.4  \n",
       "                         Training    21.5  \n",
       "Distance Total (m)       Game      5890.1  \n",
       "                         Training  5733.7  \n",
       "Hi Int Acceleration (nb) Game        41.0  \n",
       "                         Training    40.0  \n",
       "Hi Int Deceleration (nb) Game        33.3  \n",
       "                         Training    34.0  \n",
       "High Int Speed (m)       Game       765.1  \n",
       "                         Training   727.2  \n",
       "Sprints (m)              Game       139.8  \n",
       "                         Training   128.9  \n",
       "m/min                    Game        79.0  \n",
       "                         Training    58.0  "
      ]
     },
     "execution_count": 133,
     "metadata": {},
     "output_type": "execute_result"
    }
   ],
   "source": [
    "df_descriptive.loc[13]"
   ]
  },
  {
   "cell_type": "markdown",
   "id": "7131ff46",
   "metadata": {},
   "source": [
    "**Création d'une df avec toutes les dates depuis la min jusqu'à la max pour chaque joueur**"
   ]
  },
  {
   "cell_type": "code",
   "execution_count": 134,
   "id": "988eed68",
   "metadata": {},
   "outputs": [],
   "source": [
    "list_dfs = []\n",
    "\n",
    "for A in df.Athlete.unique():\n",
    "    dff = df[df['Athlete'] == A]\n",
    "    \n",
    "    a = pd.DataFrame(data={'Date': pd.date_range(dff.Date.min(), dff.Date.max())})\n",
    "    b = pd.merge(dff, a, how='outer', on='Date').sort_values(by='Date').reset_index().drop(columns='index')\n",
    "    [b[col].fillna(0, inplace=True) for col in marqueurs]\n",
    "    b['Type'].fillna('Rest', inplace=True)\n",
    "    b['Athlete'].fillna(A, inplace=True)\n",
    "    b['Unit'].fillna(method='pad', inplace=True)\n",
    "    b['Group'].fillna(method='pad', inplace=True)\n",
    "    b['Position'].fillna(method='pad', inplace=True)\n",
    "    w_y = b.Date.dt.year.astype(str).str[-2:]\n",
    "    w_y = w_y.astype(int)*100\n",
    "    w_w = b.Date.dt.isocalendar().week.astype(int)\n",
    "    b['Week'] = w_y + w_w\n",
    "    \n",
    "    list_dfs.append(b)\n",
    "\n",
    "df_final = pd.concat(list_dfs)\n",
    "\n",
    "df_final.loc[df_final['Date']=='2017-01-01', 'Week'] = 1652\n",
    "\n",
    "i = 1\n",
    "for w in df_final.Week.unique():\n",
    "    df_final.loc[df_final['Week']==w, 'Week'] = i\n",
    "    i +=1"
   ]
  },
  {
   "cell_type": "code",
   "execution_count": 135,
   "id": "62db035b",
   "metadata": {},
   "outputs": [],
   "source": [
    "#df_final.loc[df_final['Athlete']=='Player 10']"
   ]
  },
  {
   "cell_type": "markdown",
   "id": "1a8d6e0e",
   "metadata": {},
   "source": [
    "**Arrangement de la df pour que les jours à plusieurs entrainements soient cumulés sur une ligne**"
   ]
  },
  {
   "cell_type": "code",
   "execution_count": 136,
   "id": "6cfef146",
   "metadata": {},
   "outputs": [],
   "source": [
    "agg_func = {}\n",
    "for m in marqueurs:\n",
    "    agg_func[m] = 'sum'\n",
    "    \n",
    "df_plot = df_final.groupby(['Date', 'Athlete', 'Type', 'Week'], as_index=False).agg(agg_func)\n",
    "\n",
    "#Vérification s'il n'y a pas des saisies doubles (surtout le jour de match)\n",
    "#df_plot.loc[df_plot[['Athlete','Date']].duplicated(keep=False)]"
   ]
  },
  {
   "cell_type": "markdown",
   "id": "6de9cb7d",
   "metadata": {},
   "source": [
    "**Création d'une df pour les matchs**"
   ]
  },
  {
   "cell_type": "code",
   "execution_count": 137,
   "id": "77c48fac",
   "metadata": {},
   "outputs": [],
   "source": [
    "dfs_game = []\n",
    "\n",
    "for A in df.Athlete.unique():\n",
    "    dfp = df_plot[df_plot['Athlete']==A]\n",
    "    df_m = dfp[dfp['Type']=='Game']\n",
    "    \n",
    "    a = pd.DataFrame(data={'Date': pd.date_range(dfp.Date.min(), dfp.Date.max())})\n",
    "    b = pd.merge(df_m, a, how='outer', on='Date').sort_values(by='Date').reset_index().drop(columns='index')\n",
    "    [b[col].fillna(0, inplace=True) for col in marqueurs]\n",
    "    b['Type'].fillna('Game', inplace=True)\n",
    "    b['Athlete'].fillna(A, inplace=True)\n",
    "    dfs_game.append(b)\n",
    "    \n",
    "df_plot_game = pd.concat(dfs_game)\n",
    "#df_plot_game"
   ]
  },
  {
   "cell_type": "markdown",
   "id": "04ba92d9",
   "metadata": {},
   "source": [
    "**Création des fonctions de médiane et p75 mobiles exponentielles**"
   ]
  },
  {
   "cell_type": "code",
   "execution_count": 138,
   "id": "409b1bc6",
   "metadata": {},
   "outputs": [],
   "source": [
    "def emm7(s):\n",
    "    s = np.array(s)\n",
    "    ema = [0,0,0,0,0,0]\n",
    "    j = 7\n",
    "\n",
    "    sma = np.median(s[:7])\n",
    "    multiplier = 2 / float(1 + 7)\n",
    "    ema.append(sma)\n",
    "\n",
    "    ema.append(((s[7] - sma) * multiplier) + sma)\n",
    "\n",
    "    for i in s[7+1:]:\n",
    "        tmp = ((i - ema[j]) * multiplier) + ema[j]\n",
    "        j = j + 1\n",
    "        ema.append(tmp)\n",
    "\n",
    "    return ema\n",
    "\n",
    "def emp75(s):\n",
    "    ema = [0,0,0,0,0,0]\n",
    "    j = 7\n",
    "    \n",
    "    sub = s[:7]\n",
    "    sma = sub.quantile(0.75)\n",
    "    multiplier = 2 / float(1 + 7)\n",
    "    ema.append(sma)\n",
    "\n",
    "    ema.append(((s.iloc[7] - sma) * multiplier) + sma)\n",
    "\n",
    "    for i in s[7+1:]:\n",
    "        tmp = ((i - ema[j]) * multiplier) + ema[j]\n",
    "        j = j + 1\n",
    "        ema.append(tmp)\n",
    "\n",
    "    return ema"
   ]
  },
  {
   "cell_type": "markdown",
   "id": "25e223a7",
   "metadata": {},
   "source": [
    "**Création des colonnes pour les médiane et p75 ainsi que les médiane et p75 mobiles exponentielles**"
   ]
  },
  {
   "cell_type": "code",
   "execution_count": 139,
   "id": "30ac7d06",
   "metadata": {},
   "outputs": [],
   "source": [
    "for m in marqueurs:\n",
    "    m_ext = m + '_tendanceM'\n",
    "    df_plot[m_ext] = df_plot.groupby('Athlete')[m].transform(lambda x: emm7(x))\n",
    "    \n",
    "    q_ext = m+ '_tendanceP75'\n",
    "    df_plot[q_ext] = df_plot.groupby('Athlete')[m].transform(lambda x: emp75(x))\n",
    "\n",
    "    md_ext = m + '_median'\n",
    "    df_plot[md_ext] = df_plot.groupby('Athlete')[m].transform('median')\n",
    "    \n",
    "    p_ext = m + '_p75'\n",
    "    df_plot[p_ext] = df_plot.groupby('Athlete')[m].transform(lambda x: x.quantile(0.75))\n",
    "\n",
    "#df_plot.loc[df_plot['Athlete']=='Player 10',['Distance Total (m)_tendanceM', 'Distance Total (m)_tendanceQ75']].head(50)"
   ]
  },
  {
   "cell_type": "code",
   "execution_count": 140,
   "id": "2aafbee5",
   "metadata": {},
   "outputs": [],
   "source": [
    "tendance_list = ['tendanceM', 'tendanceP75']"
   ]
  },
  {
   "cell_type": "markdown",
   "id": "c5b349de",
   "metadata": {},
   "source": [
    "**Création d'une df hebdomadaire**"
   ]
  },
  {
   "cell_type": "code",
   "execution_count": 141,
   "id": "ee490cc5",
   "metadata": {},
   "outputs": [],
   "source": [
    "agg_func_hebdo = {}\n",
    "for m in marqueurs:\n",
    "    agg_func_hebdo[m] = 'sum'\n",
    "    agg_func_hebdo[m+'_tendanceM'] = 'median'\n",
    "    agg_func_hebdo[m+'_tendanceP75'] = 'median'\n",
    "\n",
    "df_hebdo = df_plot.groupby(['Week', 'Athlete']).agg(agg_func_hebdo)\n",
    "df_hebdo.reset_index(inplace=True)"
   ]
  },
  {
   "cell_type": "markdown",
   "id": "78102333",
   "metadata": {},
   "source": [
    "**Création du graph**"
   ]
  },
  {
   "cell_type": "code",
   "execution_count": 142,
   "id": "75b3a571",
   "metadata": {},
   "outputs": [
    {
     "data": {
      "application/vnd.jupyter.widget-view+json": {
       "model_id": "7deabcefe9564ce9b8b3ded66afce952",
       "version_major": 2,
       "version_minor": 0
      },
      "text/plain": [
       "VBox(children=(HBox(children=(Dropdown(description='Joueur :   ', options=('Player 1', 'Player 2', 'Player 3',…"
      ]
     },
     "metadata": {},
     "output_type": "display_data"
    }
   ],
   "source": [
    "joueurs_dp = widgets.Dropdown(description='Joueur :   ',\n",
    "                           value=athletes[0],\n",
    "                           options=athletes\n",
    "                          )\n",
    "\n",
    "marqueurs_dp = widgets.Dropdown(description='Marqueur :   ', \n",
    "                                value=marqueurs[0],\n",
    "                                options=marqueurs\n",
    "                               )\n",
    "\n",
    "tendance_dp = widgets.Dropdown(description='Tendance :   ',\n",
    "                               value=tendance_list[0],\n",
    "                               options=tendance_list\n",
    "                               )\n",
    "\n",
    "trace1_q = go.Bar(x=df_plot.loc[df_plot['Athlete']==athletes[0], 'Date'],\n",
    "                  y=df_plot.loc[df_plot['Athlete']==athletes[0], marqueurs[0]],\n",
    "                  marker_color='#F6B047', name='Training', opacity=1)\n",
    "\n",
    "trace2_q = go.Bar(x=df_plot_game.loc[(df_plot_game['Athlete']==athletes[0]),'Date'],\n",
    "                  y=df_plot_game.loc[(df_plot_game['Athlete']==athletes[0]), marqueurs[0]],\n",
    "                  marker_color='#576DF3', name='Game', opacity=1)\n",
    "\n",
    "trace3_q = go.Scatter(x=df_plot.loc[df_plot['Athlete']==athletes[0], 'Date'],\n",
    "                      y=df_plot.loc[df_plot['Athlete']==athletes[0], marqueurs[0]+'_'+tendance_list[0]],\n",
    "                      mode='lines', name='Tendance', line=dict(width=1, shape='spline', smoothing=1.3), marker_color='#de2d26')\n",
    "\n",
    "trace4_q = go.Scatter(x=df_plot.loc[df_plot['Athlete']==athletes[0],'Date'],\n",
    "                      y=df_plot.loc[df_plot['Athlete']==athletes[0], marqueurs[0]+'_median'],\n",
    "                      mode='lines', name='Median',\n",
    "                      line=dict(width=0.7, color='black', dash='longdash'))\n",
    "\n",
    "trace5_q = go.Scatter(x=df_plot.loc[df_plot['Athlete']==athletes[0],'Date'],\n",
    "                      y=df_plot.loc[df_plot['Athlete']==athletes[0], marqueurs[0]+'_p75'],\n",
    "                      mode='lines', name='p75',\n",
    "                      line=dict(width=0.7, color='black', dash='dot'))\n",
    "\n",
    "fig_q = go.FigureWidget(data=[trace1_q, trace2_q, trace3_q, trace4_q, trace5_q], layout=go.Layout(barmode='overlay'))\n",
    "\n",
    "trace1_h = go.Bar(x=df_hebdo.loc[df_hebdo['Athlete']==athletes[0], 'Week'],\n",
    "                  y=df_hebdo.loc[df_hebdo['Athlete']==athletes[0], marqueurs[0]],\n",
    "                  marker_color='#F6B047', name='Médiane Sem.', opacity=1)\n",
    "\n",
    "fig_h = go.FigureWidget(data=trace1_h)\n",
    "\n",
    "def response(change):\n",
    "    x1_1 = df_plot.loc[df_plot['Athlete']==joueurs_dp.value, 'Date']\n",
    "    y1_1 = df_plot.loc[df_plot['Athlete']==joueurs_dp.value, marqueurs_dp.value]\n",
    "    x1_2 = df_plot_game.loc[(df_plot_game['Athlete']==joueurs_dp.value),'Date']\n",
    "    y1_2 = df_plot_game.loc[(df_plot_game['Athlete']==joueurs_dp.value), marqueurs_dp.value]\n",
    "    x1_3 = df_plot.loc[df_plot['Athlete']==joueurs_dp.value, 'Date']\n",
    "    y1_3 = df_plot.loc[df_plot['Athlete']==joueurs_dp.value, marqueurs_dp.value+'_'+tendance_dp.value]\n",
    "    x1_4 = df_plot.loc[df_plot['Athlete']==joueurs_dp.value, 'Date']\n",
    "    y1_4 = df_plot.loc[df_plot['Athlete']==joueurs_dp.value, marqueurs_dp.value+'_median']\n",
    "    x1_5 = df_plot.loc[df_plot['Athlete']==joueurs_dp.value, 'Date']\n",
    "    y1_5 = df_plot.loc[df_plot['Athlete']==joueurs_dp.value, marqueurs_dp.value+'_p75']\n",
    "    \n",
    "    x2_1 = df_hebdo.loc[df_hebdo['Athlete']==joueurs_dp.value, 'Week']\n",
    "    y2_1 = df_hebdo.loc[df_hebdo['Athlete']==joueurs_dp.value, marqueurs_dp.value]\n",
    "    \n",
    "    with fig_q.batch_update():\n",
    "        fig_q.data[0].x = x1_1\n",
    "        fig_q.data[0].y = y1_1\n",
    "        fig_q.data[1].x = x1_2\n",
    "        fig_q.data[1].y = y1_2\n",
    "        fig_q.data[2].x = x1_3\n",
    "        fig_q.data[2].y = y1_3\n",
    "        fig_q.data[3].x = x1_4\n",
    "        fig_q.data[3].y = y1_4\n",
    "        fig_q.data[4].x = x1_5\n",
    "        fig_q.data[4].y = y1_5\n",
    "        fig_q.layout.barmode = 'overlay'\n",
    "    \n",
    "    with fig_h.batch_update():\n",
    "        fig_h.data[0].x = x2_1\n",
    "        fig_h.data[0].y = y2_1\n",
    "\n",
    "joueurs_dp.observe(response)\n",
    "marqueurs_dp.observe(response)\n",
    "tendance_dp.observe(response)\n",
    "\n",
    "fig_q.update_layout(width=900, height=475,\n",
    "                  template='plotly_white',\n",
    "                  autosize=False)\n",
    "\n",
    "fig_q.update_xaxes(tickangle=45, dtick='L1')\n",
    "\n",
    "fig_q.update_layout(xaxis=dict(rangeselector=dict(buttons=\n",
    "                                              list([dict(count=14, label='2s', step='day'),\n",
    "                                                    dict(count=1, label='1m', step='month'),\n",
    "                                                    dict(count=2, label='2m', step='month'),\n",
    "                                                    dict(count=6, label='6m', step='month'),\n",
    "                                                    dict(count=1, label='1a', step='year'),\n",
    "                                                    dict(step='all')])\n",
    "                                             ), rangeslider=dict( visible=True), type=\"date\"))\n",
    "\n",
    "fig_h.update_layout(width=900, height=350,\n",
    "                  template='plotly_white',\n",
    "                  autosize=False)\n",
    "\n",
    "container = widgets.HBox([joueurs_dp, marqueurs_dp, tendance_dp])\n",
    "widgets.VBox([container, fig_q, fig_h])"
   ]
  },
  {
   "cell_type": "markdown",
   "id": "29d33963",
   "metadata": {},
   "source": [
    "**T-test**"
   ]
  },
  {
   "cell_type": "code",
   "execution_count": 143,
   "id": "cb5ef1ce",
   "metadata": {},
   "outputs": [],
   "source": [
    "df_ttest = df_plot.copy()\n",
    "df_ttest = df_ttest.groupby(['Week', 'Athlete'], as_index=False).sum()\n",
    "df_ttest.set_index('Athlete', inplace=True)\n",
    "#df_ttest"
   ]
  },
  {
   "cell_type": "code",
   "execution_count": 144,
   "id": "1a70f5ed",
   "metadata": {},
   "outputs": [],
   "source": [
    "ct = pd.crosstab(df_plot['Athlete'], df_plot['Week'])\n",
    "ct.replace({0:np.nan}, inplace=True)\n",
    "#ct"
   ]
  },
  {
   "cell_type": "markdown",
   "id": "3779c8b9",
   "metadata": {},
   "source": [
    "**Recherche des semaines avec au moins 50% des joueurs ayant des données/porter le GPS**"
   ]
  },
  {
   "cell_type": "code",
   "execution_count": 145,
   "id": "e4b534af",
   "metadata": {},
   "outputs": [
    {
     "name": "stdout",
     "output_type": "stream",
     "text": [
      "Int64Index([ 2,  3,  4,  5,  6,  7,  8,  9, 10, 11, 12, 13, 14, 15, 16, 17, 18,\n",
      "            19, 20, 21, 22, 23, 24, 25, 26, 27, 28, 29, 30, 31, 32, 33, 34,\n",
      "            35],\n",
      "           dtype='int64', name='Week')\n"
     ]
    }
   ],
   "source": [
    "ct.dropna(axis=1, thresh=len(ct)*0.5, inplace=True)\n",
    "print(ct.columns)"
   ]
  },
  {
   "cell_type": "code",
   "execution_count": 146,
   "id": "562c5b8b",
   "metadata": {},
   "outputs": [],
   "source": [
    "ttest_sem = [2, 3, 4, 5, 6, 7, 8, 9, 10, 11, 12, 13, 14, 15, 16, 17, 18, 19, 20, 21, 22, 23, 24, 25, 26, 27, 28, 29,\n",
    "             30, 31, 32, 33, 34, 35]"
   ]
  },
  {
   "cell_type": "markdown",
   "id": "81cec6ad",
   "metadata": {},
   "source": [
    "**Création d'un tableau pour le t-test**"
   ]
  },
  {
   "cell_type": "code",
   "execution_count": 147,
   "id": "41c2bfde",
   "metadata": {},
   "outputs": [],
   "source": [
    "ttest_tab = pd.DataFrame(columns=ttest_sem, index=marqueurs)\n",
    "\n",
    "for sem in ttest_sem:\n",
    "    for col in marqueurs:\n",
    "        sample1 = df_ttest.loc[(df_ttest.Week == sem-1), col]\n",
    "        sample2 = df_ttest.loc[(df_ttest.Week == sem), col]\n",
    "        ttest_data = {'Previous': sample1, 'Current': sample2}\n",
    "        ttest_df = pd.concat(ttest_data, axis=1).dropna()\n",
    "        stat, p = stats.ttest_rel(ttest_df['Current'], ttest_df['Previous'])\n",
    "        statg, pg = stats.ttest_rel(ttest_df['Current'], ttest_df['Previous'], alternative='greater')\n",
    "        statl, pl = stats.ttest_rel(ttest_df['Current'], ttest_df['Previous'], alternative='less')\n",
    "        if p > 0.05:\n",
    "            sign = '='\n",
    "        elif p < 0.05 and pg < 0.05:\n",
    "            sign = '>'\n",
    "        elif p <0.05 and pl < 0.05:\n",
    "            sign = '<'\n",
    "        ttest_tab.loc[col, sem] = sign"
   ]
  },
  {
   "cell_type": "code",
   "execution_count": 148,
   "id": "91904feb",
   "metadata": {},
   "outputs": [
    {
     "data": {
      "text/html": [
       "<style  type=\"text/css\" >\n",
       "#T_f9380_row0_col0,#T_f9380_row0_col1,#T_f9380_row0_col2,#T_f9380_row0_col3,#T_f9380_row0_col4,#T_f9380_row0_col5,#T_f9380_row0_col6,#T_f9380_row0_col7,#T_f9380_row0_col9,#T_f9380_row1_col1,#T_f9380_row1_col3,#T_f9380_row1_col5,#T_f9380_row1_col6,#T_f9380_row1_col7,#T_f9380_row1_col8,#T_f9380_row1_col9,#T_f9380_row5_col0,#T_f9380_row5_col1,#T_f9380_row5_col2,#T_f9380_row5_col3,#T_f9380_row5_col4,#T_f9380_row5_col5,#T_f9380_row5_col6,#T_f9380_row5_col7,#T_f9380_row5_col8,#T_f9380_row5_col9,#T_f9380_row6_col6,#T_f9380_row6_col8,#T_f9380_row6_col9,#T_f9380_row8_col0,#T_f9380_row8_col1,#T_f9380_row8_col2,#T_f9380_row8_col3,#T_f9380_row9_col1,#T_f9380_row9_col2,#T_f9380_row11_col0,#T_f9380_row11_col1,#T_f9380_row11_col2,#T_f9380_row11_col3,#T_f9380_row11_col4,#T_f9380_row11_col5,#T_f9380_row12_col6,#T_f9380_row13_col0,#T_f9380_row13_col1,#T_f9380_row13_col3,#T_f9380_row13_col5,#T_f9380_row16_col0,#T_f9380_row16_col1,#T_f9380_row16_col2,#T_f9380_row16_col3,#T_f9380_row16_col4,#T_f9380_row16_col5,#T_f9380_row16_col6,#T_f9380_row16_col8,#T_f9380_row16_col9,#T_f9380_row18_col0,#T_f9380_row18_col1,#T_f9380_row18_col2,#T_f9380_row18_col3,#T_f9380_row18_col4,#T_f9380_row18_col5,#T_f9380_row18_col6,#T_f9380_row21_col0,#T_f9380_row21_col1,#T_f9380_row21_col2,#T_f9380_row21_col3,#T_f9380_row21_col4,#T_f9380_row21_col5,#T_f9380_row21_col6,#T_f9380_row21_col7,#T_f9380_row21_col8,#T_f9380_row21_col9,#T_f9380_row22_col0,#T_f9380_row22_col3,#T_f9380_row22_col4,#T_f9380_row23_col2,#T_f9380_row23_col5,#T_f9380_row23_col6,#T_f9380_row23_col7,#T_f9380_row23_col8,#T_f9380_row23_col9,#T_f9380_row28_col0,#T_f9380_row28_col1,#T_f9380_row28_col2,#T_f9380_row28_col3,#T_f9380_row28_col4,#T_f9380_row28_col5,#T_f9380_row28_col6,#T_f9380_row28_col7,#T_f9380_row28_col8,#T_f9380_row28_col9,#T_f9380_row29_col1,#T_f9380_row30_col2,#T_f9380_row30_col3,#T_f9380_row30_col4,#T_f9380_row30_col5,#T_f9380_row31_col0,#T_f9380_row31_col1,#T_f9380_row31_col3,#T_f9380_row31_col4,#T_f9380_row31_col5,#T_f9380_row33_col2,#T_f9380_row33_col4,#T_f9380_row33_col5{\n",
       "            text-align:  center;\n",
       "            background-color :  #feb24c;\n",
       "        }#T_f9380_row0_col8,#T_f9380_row1_col0,#T_f9380_row1_col2,#T_f9380_row1_col4,#T_f9380_row2_col0,#T_f9380_row2_col2,#T_f9380_row2_col3,#T_f9380_row2_col8,#T_f9380_row6_col0,#T_f9380_row6_col1,#T_f9380_row6_col2,#T_f9380_row6_col3,#T_f9380_row6_col4,#T_f9380_row6_col5,#T_f9380_row6_col7,#T_f9380_row7_col8,#T_f9380_row8_col4,#T_f9380_row8_col5,#T_f9380_row8_col6,#T_f9380_row8_col7,#T_f9380_row8_col8,#T_f9380_row8_col9,#T_f9380_row9_col0,#T_f9380_row9_col3,#T_f9380_row9_col4,#T_f9380_row9_col5,#T_f9380_row9_col8,#T_f9380_row9_col9,#T_f9380_row10_col6,#T_f9380_row10_col7,#T_f9380_row11_col6,#T_f9380_row11_col7,#T_f9380_row11_col8,#T_f9380_row11_col9,#T_f9380_row12_col0,#T_f9380_row12_col7,#T_f9380_row12_col8,#T_f9380_row12_col9,#T_f9380_row13_col2,#T_f9380_row13_col4,#T_f9380_row13_col7,#T_f9380_row13_col8,#T_f9380_row13_col9,#T_f9380_row14_col0,#T_f9380_row14_col1,#T_f9380_row14_col2,#T_f9380_row14_col3,#T_f9380_row14_col4,#T_f9380_row14_col5,#T_f9380_row14_col6,#T_f9380_row14_col7,#T_f9380_row14_col8,#T_f9380_row14_col9,#T_f9380_row15_col8,#T_f9380_row16_col7,#T_f9380_row17_col7,#T_f9380_row17_col9,#T_f9380_row18_col7,#T_f9380_row18_col8,#T_f9380_row18_col9,#T_f9380_row19_col7,#T_f9380_row19_col8,#T_f9380_row19_col9,#T_f9380_row20_col4,#T_f9380_row20_col5,#T_f9380_row22_col1,#T_f9380_row22_col2,#T_f9380_row22_col5,#T_f9380_row22_col7,#T_f9380_row22_col8,#T_f9380_row22_col9,#T_f9380_row23_col0,#T_f9380_row23_col1,#T_f9380_row23_col3,#T_f9380_row23_col4,#T_f9380_row24_col7,#T_f9380_row24_col8,#T_f9380_row24_col9,#T_f9380_row25_col0,#T_f9380_row25_col1,#T_f9380_row25_col2,#T_f9380_row25_col3,#T_f9380_row25_col4,#T_f9380_row25_col5,#T_f9380_row25_col6,#T_f9380_row26_col0,#T_f9380_row26_col1,#T_f9380_row26_col2,#T_f9380_row26_col3,#T_f9380_row26_col4,#T_f9380_row26_col5,#T_f9380_row26_col7,#T_f9380_row26_col8,#T_f9380_row26_col9,#T_f9380_row27_col0,#T_f9380_row27_col2,#T_f9380_row27_col8,#T_f9380_row29_col6,#T_f9380_row30_col0,#T_f9380_row30_col6,#T_f9380_row30_col7,#T_f9380_row30_col8,#T_f9380_row30_col9,#T_f9380_row31_col2,#T_f9380_row31_col7,#T_f9380_row31_col8,#T_f9380_row31_col9,#T_f9380_row32_col1,#T_f9380_row32_col2,#T_f9380_row32_col6,#T_f9380_row32_col7,#T_f9380_row32_col9,#T_f9380_row33_col0,#T_f9380_row33_col1,#T_f9380_row33_col3,#T_f9380_row33_col6,#T_f9380_row33_col7,#T_f9380_row33_col8,#T_f9380_row33_col9{\n",
       "            text-align:  center;\n",
       "            background-color :  #2ca25f;\n",
       "        }#T_f9380_row2_col1,#T_f9380_row2_col4,#T_f9380_row2_col5,#T_f9380_row2_col6,#T_f9380_row2_col7,#T_f9380_row2_col9,#T_f9380_row3_col0,#T_f9380_row3_col1,#T_f9380_row3_col2,#T_f9380_row3_col3,#T_f9380_row3_col4,#T_f9380_row3_col5,#T_f9380_row3_col6,#T_f9380_row3_col7,#T_f9380_row3_col8,#T_f9380_row3_col9,#T_f9380_row4_col0,#T_f9380_row4_col1,#T_f9380_row4_col2,#T_f9380_row4_col3,#T_f9380_row4_col4,#T_f9380_row4_col5,#T_f9380_row4_col6,#T_f9380_row4_col7,#T_f9380_row4_col8,#T_f9380_row4_col9,#T_f9380_row7_col0,#T_f9380_row7_col1,#T_f9380_row7_col2,#T_f9380_row7_col3,#T_f9380_row7_col4,#T_f9380_row7_col5,#T_f9380_row7_col6,#T_f9380_row7_col7,#T_f9380_row7_col9,#T_f9380_row9_col6,#T_f9380_row9_col7,#T_f9380_row10_col0,#T_f9380_row10_col1,#T_f9380_row10_col2,#T_f9380_row10_col3,#T_f9380_row10_col4,#T_f9380_row10_col5,#T_f9380_row10_col8,#T_f9380_row10_col9,#T_f9380_row12_col1,#T_f9380_row12_col2,#T_f9380_row12_col3,#T_f9380_row12_col4,#T_f9380_row12_col5,#T_f9380_row13_col6,#T_f9380_row15_col0,#T_f9380_row15_col1,#T_f9380_row15_col2,#T_f9380_row15_col3,#T_f9380_row15_col4,#T_f9380_row15_col5,#T_f9380_row15_col6,#T_f9380_row15_col7,#T_f9380_row15_col9,#T_f9380_row17_col0,#T_f9380_row17_col1,#T_f9380_row17_col2,#T_f9380_row17_col3,#T_f9380_row17_col4,#T_f9380_row17_col5,#T_f9380_row17_col6,#T_f9380_row17_col8,#T_f9380_row19_col0,#T_f9380_row19_col1,#T_f9380_row19_col2,#T_f9380_row19_col3,#T_f9380_row19_col4,#T_f9380_row19_col5,#T_f9380_row19_col6,#T_f9380_row20_col0,#T_f9380_row20_col1,#T_f9380_row20_col2,#T_f9380_row20_col3,#T_f9380_row20_col6,#T_f9380_row20_col7,#T_f9380_row20_col8,#T_f9380_row20_col9,#T_f9380_row22_col6,#T_f9380_row24_col0,#T_f9380_row24_col1,#T_f9380_row24_col2,#T_f9380_row24_col3,#T_f9380_row24_col4,#T_f9380_row24_col5,#T_f9380_row24_col6,#T_f9380_row25_col7,#T_f9380_row25_col8,#T_f9380_row25_col9,#T_f9380_row26_col6,#T_f9380_row27_col1,#T_f9380_row27_col3,#T_f9380_row27_col4,#T_f9380_row27_col5,#T_f9380_row27_col6,#T_f9380_row27_col7,#T_f9380_row27_col9,#T_f9380_row29_col0,#T_f9380_row29_col2,#T_f9380_row29_col3,#T_f9380_row29_col4,#T_f9380_row29_col5,#T_f9380_row29_col7,#T_f9380_row29_col8,#T_f9380_row29_col9,#T_f9380_row30_col1,#T_f9380_row31_col6,#T_f9380_row32_col0,#T_f9380_row32_col3,#T_f9380_row32_col4,#T_f9380_row32_col5,#T_f9380_row32_col8{\n",
       "            text-align:  center;\n",
       "            background-color :  #2b8cbe;\n",
       "        }</style><table id=\"T_f9380_\" ><thead>    <tr>        <th class=\"blank level0\" ></th>        <th class=\"col_heading level0 col0\" >Distance Total (m)</th>        <th class=\"col_heading level0 col1\" >m/min</th>        <th class=\"col_heading level0 col2\" >High Int Speed (m)</th>        <th class=\"col_heading level0 col3\" >Sprints (m)</th>        <th class=\"col_heading level0 col4\" >Hi Int Acceleration (nb)</th>        <th class=\"col_heading level0 col5\" >Hi Int Deceleration (nb)</th>        <th class=\"col_heading level0 col6\" >80% Distance Hi Int (m)</th>        <th class=\"col_heading level0 col7\" >85% Distance Hi Int (m)</th>        <th class=\"col_heading level0 col8\" >90% Distance Hi Int (m)</th>        <th class=\"col_heading level0 col9\" >>85% Distance (m)</th>    </tr></thead><tbody>\n",
       "                <tr>\n",
       "                        <th id=\"T_f9380_level0_row0\" class=\"row_heading level0 row0\" >2</th>\n",
       "                        <td id=\"T_f9380_row0_col0\" class=\"data row0 col0\" >></td>\n",
       "                        <td id=\"T_f9380_row0_col1\" class=\"data row0 col1\" >></td>\n",
       "                        <td id=\"T_f9380_row0_col2\" class=\"data row0 col2\" >></td>\n",
       "                        <td id=\"T_f9380_row0_col3\" class=\"data row0 col3\" >></td>\n",
       "                        <td id=\"T_f9380_row0_col4\" class=\"data row0 col4\" >></td>\n",
       "                        <td id=\"T_f9380_row0_col5\" class=\"data row0 col5\" >></td>\n",
       "                        <td id=\"T_f9380_row0_col6\" class=\"data row0 col6\" >></td>\n",
       "                        <td id=\"T_f9380_row0_col7\" class=\"data row0 col7\" >></td>\n",
       "                        <td id=\"T_f9380_row0_col8\" class=\"data row0 col8\" >=</td>\n",
       "                        <td id=\"T_f9380_row0_col9\" class=\"data row0 col9\" >></td>\n",
       "            </tr>\n",
       "            <tr>\n",
       "                        <th id=\"T_f9380_level0_row1\" class=\"row_heading level0 row1\" >3</th>\n",
       "                        <td id=\"T_f9380_row1_col0\" class=\"data row1 col0\" >=</td>\n",
       "                        <td id=\"T_f9380_row1_col1\" class=\"data row1 col1\" >></td>\n",
       "                        <td id=\"T_f9380_row1_col2\" class=\"data row1 col2\" >=</td>\n",
       "                        <td id=\"T_f9380_row1_col3\" class=\"data row1 col3\" >></td>\n",
       "                        <td id=\"T_f9380_row1_col4\" class=\"data row1 col4\" >=</td>\n",
       "                        <td id=\"T_f9380_row1_col5\" class=\"data row1 col5\" >></td>\n",
       "                        <td id=\"T_f9380_row1_col6\" class=\"data row1 col6\" >></td>\n",
       "                        <td id=\"T_f9380_row1_col7\" class=\"data row1 col7\" >></td>\n",
       "                        <td id=\"T_f9380_row1_col8\" class=\"data row1 col8\" >></td>\n",
       "                        <td id=\"T_f9380_row1_col9\" class=\"data row1 col9\" >></td>\n",
       "            </tr>\n",
       "            <tr>\n",
       "                        <th id=\"T_f9380_level0_row2\" class=\"row_heading level0 row2\" >4</th>\n",
       "                        <td id=\"T_f9380_row2_col0\" class=\"data row2 col0\" >=</td>\n",
       "                        <td id=\"T_f9380_row2_col1\" class=\"data row2 col1\" ><</td>\n",
       "                        <td id=\"T_f9380_row2_col2\" class=\"data row2 col2\" >=</td>\n",
       "                        <td id=\"T_f9380_row2_col3\" class=\"data row2 col3\" >=</td>\n",
       "                        <td id=\"T_f9380_row2_col4\" class=\"data row2 col4\" ><</td>\n",
       "                        <td id=\"T_f9380_row2_col5\" class=\"data row2 col5\" ><</td>\n",
       "                        <td id=\"T_f9380_row2_col6\" class=\"data row2 col6\" ><</td>\n",
       "                        <td id=\"T_f9380_row2_col7\" class=\"data row2 col7\" ><</td>\n",
       "                        <td id=\"T_f9380_row2_col8\" class=\"data row2 col8\" >=</td>\n",
       "                        <td id=\"T_f9380_row2_col9\" class=\"data row2 col9\" ><</td>\n",
       "            </tr>\n",
       "            <tr>\n",
       "                        <th id=\"T_f9380_level0_row3\" class=\"row_heading level0 row3\" >5</th>\n",
       "                        <td id=\"T_f9380_row3_col0\" class=\"data row3 col0\" ><</td>\n",
       "                        <td id=\"T_f9380_row3_col1\" class=\"data row3 col1\" ><</td>\n",
       "                        <td id=\"T_f9380_row3_col2\" class=\"data row3 col2\" ><</td>\n",
       "                        <td id=\"T_f9380_row3_col3\" class=\"data row3 col3\" ><</td>\n",
       "                        <td id=\"T_f9380_row3_col4\" class=\"data row3 col4\" ><</td>\n",
       "                        <td id=\"T_f9380_row3_col5\" class=\"data row3 col5\" ><</td>\n",
       "                        <td id=\"T_f9380_row3_col6\" class=\"data row3 col6\" ><</td>\n",
       "                        <td id=\"T_f9380_row3_col7\" class=\"data row3 col7\" ><</td>\n",
       "                        <td id=\"T_f9380_row3_col8\" class=\"data row3 col8\" ><</td>\n",
       "                        <td id=\"T_f9380_row3_col9\" class=\"data row3 col9\" ><</td>\n",
       "            </tr>\n",
       "            <tr>\n",
       "                        <th id=\"T_f9380_level0_row4\" class=\"row_heading level0 row4\" >6</th>\n",
       "                        <td id=\"T_f9380_row4_col0\" class=\"data row4 col0\" ><</td>\n",
       "                        <td id=\"T_f9380_row4_col1\" class=\"data row4 col1\" ><</td>\n",
       "                        <td id=\"T_f9380_row4_col2\" class=\"data row4 col2\" ><</td>\n",
       "                        <td id=\"T_f9380_row4_col3\" class=\"data row4 col3\" ><</td>\n",
       "                        <td id=\"T_f9380_row4_col4\" class=\"data row4 col4\" ><</td>\n",
       "                        <td id=\"T_f9380_row4_col5\" class=\"data row4 col5\" ><</td>\n",
       "                        <td id=\"T_f9380_row4_col6\" class=\"data row4 col6\" ><</td>\n",
       "                        <td id=\"T_f9380_row4_col7\" class=\"data row4 col7\" ><</td>\n",
       "                        <td id=\"T_f9380_row4_col8\" class=\"data row4 col8\" ><</td>\n",
       "                        <td id=\"T_f9380_row4_col9\" class=\"data row4 col9\" ><</td>\n",
       "            </tr>\n",
       "            <tr>\n",
       "                        <th id=\"T_f9380_level0_row5\" class=\"row_heading level0 row5\" >7</th>\n",
       "                        <td id=\"T_f9380_row5_col0\" class=\"data row5 col0\" >></td>\n",
       "                        <td id=\"T_f9380_row5_col1\" class=\"data row5 col1\" >></td>\n",
       "                        <td id=\"T_f9380_row5_col2\" class=\"data row5 col2\" >></td>\n",
       "                        <td id=\"T_f9380_row5_col3\" class=\"data row5 col3\" >></td>\n",
       "                        <td id=\"T_f9380_row5_col4\" class=\"data row5 col4\" >></td>\n",
       "                        <td id=\"T_f9380_row5_col5\" class=\"data row5 col5\" >></td>\n",
       "                        <td id=\"T_f9380_row5_col6\" class=\"data row5 col6\" >></td>\n",
       "                        <td id=\"T_f9380_row5_col7\" class=\"data row5 col7\" >></td>\n",
       "                        <td id=\"T_f9380_row5_col8\" class=\"data row5 col8\" >></td>\n",
       "                        <td id=\"T_f9380_row5_col9\" class=\"data row5 col9\" >></td>\n",
       "            </tr>\n",
       "            <tr>\n",
       "                        <th id=\"T_f9380_level0_row6\" class=\"row_heading level0 row6\" >8</th>\n",
       "                        <td id=\"T_f9380_row6_col0\" class=\"data row6 col0\" >=</td>\n",
       "                        <td id=\"T_f9380_row6_col1\" class=\"data row6 col1\" >=</td>\n",
       "                        <td id=\"T_f9380_row6_col2\" class=\"data row6 col2\" >=</td>\n",
       "                        <td id=\"T_f9380_row6_col3\" class=\"data row6 col3\" >=</td>\n",
       "                        <td id=\"T_f9380_row6_col4\" class=\"data row6 col4\" >=</td>\n",
       "                        <td id=\"T_f9380_row6_col5\" class=\"data row6 col5\" >=</td>\n",
       "                        <td id=\"T_f9380_row6_col6\" class=\"data row6 col6\" >></td>\n",
       "                        <td id=\"T_f9380_row6_col7\" class=\"data row6 col7\" >=</td>\n",
       "                        <td id=\"T_f9380_row6_col8\" class=\"data row6 col8\" >></td>\n",
       "                        <td id=\"T_f9380_row6_col9\" class=\"data row6 col9\" >></td>\n",
       "            </tr>\n",
       "            <tr>\n",
       "                        <th id=\"T_f9380_level0_row7\" class=\"row_heading level0 row7\" >9</th>\n",
       "                        <td id=\"T_f9380_row7_col0\" class=\"data row7 col0\" ><</td>\n",
       "                        <td id=\"T_f9380_row7_col1\" class=\"data row7 col1\" ><</td>\n",
       "                        <td id=\"T_f9380_row7_col2\" class=\"data row7 col2\" ><</td>\n",
       "                        <td id=\"T_f9380_row7_col3\" class=\"data row7 col3\" ><</td>\n",
       "                        <td id=\"T_f9380_row7_col4\" class=\"data row7 col4\" ><</td>\n",
       "                        <td id=\"T_f9380_row7_col5\" class=\"data row7 col5\" ><</td>\n",
       "                        <td id=\"T_f9380_row7_col6\" class=\"data row7 col6\" ><</td>\n",
       "                        <td id=\"T_f9380_row7_col7\" class=\"data row7 col7\" ><</td>\n",
       "                        <td id=\"T_f9380_row7_col8\" class=\"data row7 col8\" >=</td>\n",
       "                        <td id=\"T_f9380_row7_col9\" class=\"data row7 col9\" ><</td>\n",
       "            </tr>\n",
       "            <tr>\n",
       "                        <th id=\"T_f9380_level0_row8\" class=\"row_heading level0 row8\" >10</th>\n",
       "                        <td id=\"T_f9380_row8_col0\" class=\"data row8 col0\" >></td>\n",
       "                        <td id=\"T_f9380_row8_col1\" class=\"data row8 col1\" >></td>\n",
       "                        <td id=\"T_f9380_row8_col2\" class=\"data row8 col2\" >></td>\n",
       "                        <td id=\"T_f9380_row8_col3\" class=\"data row8 col3\" >></td>\n",
       "                        <td id=\"T_f9380_row8_col4\" class=\"data row8 col4\" >=</td>\n",
       "                        <td id=\"T_f9380_row8_col5\" class=\"data row8 col5\" >=</td>\n",
       "                        <td id=\"T_f9380_row8_col6\" class=\"data row8 col6\" >=</td>\n",
       "                        <td id=\"T_f9380_row8_col7\" class=\"data row8 col7\" >=</td>\n",
       "                        <td id=\"T_f9380_row8_col8\" class=\"data row8 col8\" >=</td>\n",
       "                        <td id=\"T_f9380_row8_col9\" class=\"data row8 col9\" >=</td>\n",
       "            </tr>\n",
       "            <tr>\n",
       "                        <th id=\"T_f9380_level0_row9\" class=\"row_heading level0 row9\" >11</th>\n",
       "                        <td id=\"T_f9380_row9_col0\" class=\"data row9 col0\" >=</td>\n",
       "                        <td id=\"T_f9380_row9_col1\" class=\"data row9 col1\" >></td>\n",
       "                        <td id=\"T_f9380_row9_col2\" class=\"data row9 col2\" >></td>\n",
       "                        <td id=\"T_f9380_row9_col3\" class=\"data row9 col3\" >=</td>\n",
       "                        <td id=\"T_f9380_row9_col4\" class=\"data row9 col4\" >=</td>\n",
       "                        <td id=\"T_f9380_row9_col5\" class=\"data row9 col5\" >=</td>\n",
       "                        <td id=\"T_f9380_row9_col6\" class=\"data row9 col6\" ><</td>\n",
       "                        <td id=\"T_f9380_row9_col7\" class=\"data row9 col7\" ><</td>\n",
       "                        <td id=\"T_f9380_row9_col8\" class=\"data row9 col8\" >=</td>\n",
       "                        <td id=\"T_f9380_row9_col9\" class=\"data row9 col9\" >=</td>\n",
       "            </tr>\n",
       "            <tr>\n",
       "                        <th id=\"T_f9380_level0_row10\" class=\"row_heading level0 row10\" >12</th>\n",
       "                        <td id=\"T_f9380_row10_col0\" class=\"data row10 col0\" ><</td>\n",
       "                        <td id=\"T_f9380_row10_col1\" class=\"data row10 col1\" ><</td>\n",
       "                        <td id=\"T_f9380_row10_col2\" class=\"data row10 col2\" ><</td>\n",
       "                        <td id=\"T_f9380_row10_col3\" class=\"data row10 col3\" ><</td>\n",
       "                        <td id=\"T_f9380_row10_col4\" class=\"data row10 col4\" ><</td>\n",
       "                        <td id=\"T_f9380_row10_col5\" class=\"data row10 col5\" ><</td>\n",
       "                        <td id=\"T_f9380_row10_col6\" class=\"data row10 col6\" >=</td>\n",
       "                        <td id=\"T_f9380_row10_col7\" class=\"data row10 col7\" >=</td>\n",
       "                        <td id=\"T_f9380_row10_col8\" class=\"data row10 col8\" ><</td>\n",
       "                        <td id=\"T_f9380_row10_col9\" class=\"data row10 col9\" ><</td>\n",
       "            </tr>\n",
       "            <tr>\n",
       "                        <th id=\"T_f9380_level0_row11\" class=\"row_heading level0 row11\" >13</th>\n",
       "                        <td id=\"T_f9380_row11_col0\" class=\"data row11 col0\" >></td>\n",
       "                        <td id=\"T_f9380_row11_col1\" class=\"data row11 col1\" >></td>\n",
       "                        <td id=\"T_f9380_row11_col2\" class=\"data row11 col2\" >></td>\n",
       "                        <td id=\"T_f9380_row11_col3\" class=\"data row11 col3\" >></td>\n",
       "                        <td id=\"T_f9380_row11_col4\" class=\"data row11 col4\" >></td>\n",
       "                        <td id=\"T_f9380_row11_col5\" class=\"data row11 col5\" >></td>\n",
       "                        <td id=\"T_f9380_row11_col6\" class=\"data row11 col6\" >=</td>\n",
       "                        <td id=\"T_f9380_row11_col7\" class=\"data row11 col7\" >=</td>\n",
       "                        <td id=\"T_f9380_row11_col8\" class=\"data row11 col8\" >=</td>\n",
       "                        <td id=\"T_f9380_row11_col9\" class=\"data row11 col9\" >=</td>\n",
       "            </tr>\n",
       "            <tr>\n",
       "                        <th id=\"T_f9380_level0_row12\" class=\"row_heading level0 row12\" >14</th>\n",
       "                        <td id=\"T_f9380_row12_col0\" class=\"data row12 col0\" >=</td>\n",
       "                        <td id=\"T_f9380_row12_col1\" class=\"data row12 col1\" ><</td>\n",
       "                        <td id=\"T_f9380_row12_col2\" class=\"data row12 col2\" ><</td>\n",
       "                        <td id=\"T_f9380_row12_col3\" class=\"data row12 col3\" ><</td>\n",
       "                        <td id=\"T_f9380_row12_col4\" class=\"data row12 col4\" ><</td>\n",
       "                        <td id=\"T_f9380_row12_col5\" class=\"data row12 col5\" ><</td>\n",
       "                        <td id=\"T_f9380_row12_col6\" class=\"data row12 col6\" >></td>\n",
       "                        <td id=\"T_f9380_row12_col7\" class=\"data row12 col7\" >=</td>\n",
       "                        <td id=\"T_f9380_row12_col8\" class=\"data row12 col8\" >=</td>\n",
       "                        <td id=\"T_f9380_row12_col9\" class=\"data row12 col9\" >=</td>\n",
       "            </tr>\n",
       "            <tr>\n",
       "                        <th id=\"T_f9380_level0_row13\" class=\"row_heading level0 row13\" >15</th>\n",
       "                        <td id=\"T_f9380_row13_col0\" class=\"data row13 col0\" >></td>\n",
       "                        <td id=\"T_f9380_row13_col1\" class=\"data row13 col1\" >></td>\n",
       "                        <td id=\"T_f9380_row13_col2\" class=\"data row13 col2\" >=</td>\n",
       "                        <td id=\"T_f9380_row13_col3\" class=\"data row13 col3\" >></td>\n",
       "                        <td id=\"T_f9380_row13_col4\" class=\"data row13 col4\" >=</td>\n",
       "                        <td id=\"T_f9380_row13_col5\" class=\"data row13 col5\" >></td>\n",
       "                        <td id=\"T_f9380_row13_col6\" class=\"data row13 col6\" ><</td>\n",
       "                        <td id=\"T_f9380_row13_col7\" class=\"data row13 col7\" >=</td>\n",
       "                        <td id=\"T_f9380_row13_col8\" class=\"data row13 col8\" >=</td>\n",
       "                        <td id=\"T_f9380_row13_col9\" class=\"data row13 col9\" >=</td>\n",
       "            </tr>\n",
       "            <tr>\n",
       "                        <th id=\"T_f9380_level0_row14\" class=\"row_heading level0 row14\" >16</th>\n",
       "                        <td id=\"T_f9380_row14_col0\" class=\"data row14 col0\" >=</td>\n",
       "                        <td id=\"T_f9380_row14_col1\" class=\"data row14 col1\" >=</td>\n",
       "                        <td id=\"T_f9380_row14_col2\" class=\"data row14 col2\" >=</td>\n",
       "                        <td id=\"T_f9380_row14_col3\" class=\"data row14 col3\" >=</td>\n",
       "                        <td id=\"T_f9380_row14_col4\" class=\"data row14 col4\" >=</td>\n",
       "                        <td id=\"T_f9380_row14_col5\" class=\"data row14 col5\" >=</td>\n",
       "                        <td id=\"T_f9380_row14_col6\" class=\"data row14 col6\" >=</td>\n",
       "                        <td id=\"T_f9380_row14_col7\" class=\"data row14 col7\" >=</td>\n",
       "                        <td id=\"T_f9380_row14_col8\" class=\"data row14 col8\" >=</td>\n",
       "                        <td id=\"T_f9380_row14_col9\" class=\"data row14 col9\" >=</td>\n",
       "            </tr>\n",
       "            <tr>\n",
       "                        <th id=\"T_f9380_level0_row15\" class=\"row_heading level0 row15\" >17</th>\n",
       "                        <td id=\"T_f9380_row15_col0\" class=\"data row15 col0\" ><</td>\n",
       "                        <td id=\"T_f9380_row15_col1\" class=\"data row15 col1\" ><</td>\n",
       "                        <td id=\"T_f9380_row15_col2\" class=\"data row15 col2\" ><</td>\n",
       "                        <td id=\"T_f9380_row15_col3\" class=\"data row15 col3\" ><</td>\n",
       "                        <td id=\"T_f9380_row15_col4\" class=\"data row15 col4\" ><</td>\n",
       "                        <td id=\"T_f9380_row15_col5\" class=\"data row15 col5\" ><</td>\n",
       "                        <td id=\"T_f9380_row15_col6\" class=\"data row15 col6\" ><</td>\n",
       "                        <td id=\"T_f9380_row15_col7\" class=\"data row15 col7\" ><</td>\n",
       "                        <td id=\"T_f9380_row15_col8\" class=\"data row15 col8\" >=</td>\n",
       "                        <td id=\"T_f9380_row15_col9\" class=\"data row15 col9\" ><</td>\n",
       "            </tr>\n",
       "            <tr>\n",
       "                        <th id=\"T_f9380_level0_row16\" class=\"row_heading level0 row16\" >18</th>\n",
       "                        <td id=\"T_f9380_row16_col0\" class=\"data row16 col0\" >></td>\n",
       "                        <td id=\"T_f9380_row16_col1\" class=\"data row16 col1\" >></td>\n",
       "                        <td id=\"T_f9380_row16_col2\" class=\"data row16 col2\" >></td>\n",
       "                        <td id=\"T_f9380_row16_col3\" class=\"data row16 col3\" >></td>\n",
       "                        <td id=\"T_f9380_row16_col4\" class=\"data row16 col4\" >></td>\n",
       "                        <td id=\"T_f9380_row16_col5\" class=\"data row16 col5\" >></td>\n",
       "                        <td id=\"T_f9380_row16_col6\" class=\"data row16 col6\" >></td>\n",
       "                        <td id=\"T_f9380_row16_col7\" class=\"data row16 col7\" >=</td>\n",
       "                        <td id=\"T_f9380_row16_col8\" class=\"data row16 col8\" >></td>\n",
       "                        <td id=\"T_f9380_row16_col9\" class=\"data row16 col9\" >></td>\n",
       "            </tr>\n",
       "            <tr>\n",
       "                        <th id=\"T_f9380_level0_row17\" class=\"row_heading level0 row17\" >19</th>\n",
       "                        <td id=\"T_f9380_row17_col0\" class=\"data row17 col0\" ><</td>\n",
       "                        <td id=\"T_f9380_row17_col1\" class=\"data row17 col1\" ><</td>\n",
       "                        <td id=\"T_f9380_row17_col2\" class=\"data row17 col2\" ><</td>\n",
       "                        <td id=\"T_f9380_row17_col3\" class=\"data row17 col3\" ><</td>\n",
       "                        <td id=\"T_f9380_row17_col4\" class=\"data row17 col4\" ><</td>\n",
       "                        <td id=\"T_f9380_row17_col5\" class=\"data row17 col5\" ><</td>\n",
       "                        <td id=\"T_f9380_row17_col6\" class=\"data row17 col6\" ><</td>\n",
       "                        <td id=\"T_f9380_row17_col7\" class=\"data row17 col7\" >=</td>\n",
       "                        <td id=\"T_f9380_row17_col8\" class=\"data row17 col8\" ><</td>\n",
       "                        <td id=\"T_f9380_row17_col9\" class=\"data row17 col9\" >=</td>\n",
       "            </tr>\n",
       "            <tr>\n",
       "                        <th id=\"T_f9380_level0_row18\" class=\"row_heading level0 row18\" >20</th>\n",
       "                        <td id=\"T_f9380_row18_col0\" class=\"data row18 col0\" >></td>\n",
       "                        <td id=\"T_f9380_row18_col1\" class=\"data row18 col1\" >></td>\n",
       "                        <td id=\"T_f9380_row18_col2\" class=\"data row18 col2\" >></td>\n",
       "                        <td id=\"T_f9380_row18_col3\" class=\"data row18 col3\" >></td>\n",
       "                        <td id=\"T_f9380_row18_col4\" class=\"data row18 col4\" >></td>\n",
       "                        <td id=\"T_f9380_row18_col5\" class=\"data row18 col5\" >></td>\n",
       "                        <td id=\"T_f9380_row18_col6\" class=\"data row18 col6\" >></td>\n",
       "                        <td id=\"T_f9380_row18_col7\" class=\"data row18 col7\" >=</td>\n",
       "                        <td id=\"T_f9380_row18_col8\" class=\"data row18 col8\" >=</td>\n",
       "                        <td id=\"T_f9380_row18_col9\" class=\"data row18 col9\" >=</td>\n",
       "            </tr>\n",
       "            <tr>\n",
       "                        <th id=\"T_f9380_level0_row19\" class=\"row_heading level0 row19\" >21</th>\n",
       "                        <td id=\"T_f9380_row19_col0\" class=\"data row19 col0\" ><</td>\n",
       "                        <td id=\"T_f9380_row19_col1\" class=\"data row19 col1\" ><</td>\n",
       "                        <td id=\"T_f9380_row19_col2\" class=\"data row19 col2\" ><</td>\n",
       "                        <td id=\"T_f9380_row19_col3\" class=\"data row19 col3\" ><</td>\n",
       "                        <td id=\"T_f9380_row19_col4\" class=\"data row19 col4\" ><</td>\n",
       "                        <td id=\"T_f9380_row19_col5\" class=\"data row19 col5\" ><</td>\n",
       "                        <td id=\"T_f9380_row19_col6\" class=\"data row19 col6\" ><</td>\n",
       "                        <td id=\"T_f9380_row19_col7\" class=\"data row19 col7\" >=</td>\n",
       "                        <td id=\"T_f9380_row19_col8\" class=\"data row19 col8\" >=</td>\n",
       "                        <td id=\"T_f9380_row19_col9\" class=\"data row19 col9\" >=</td>\n",
       "            </tr>\n",
       "            <tr>\n",
       "                        <th id=\"T_f9380_level0_row20\" class=\"row_heading level0 row20\" >22</th>\n",
       "                        <td id=\"T_f9380_row20_col0\" class=\"data row20 col0\" ><</td>\n",
       "                        <td id=\"T_f9380_row20_col1\" class=\"data row20 col1\" ><</td>\n",
       "                        <td id=\"T_f9380_row20_col2\" class=\"data row20 col2\" ><</td>\n",
       "                        <td id=\"T_f9380_row20_col3\" class=\"data row20 col3\" ><</td>\n",
       "                        <td id=\"T_f9380_row20_col4\" class=\"data row20 col4\" >=</td>\n",
       "                        <td id=\"T_f9380_row20_col5\" class=\"data row20 col5\" >=</td>\n",
       "                        <td id=\"T_f9380_row20_col6\" class=\"data row20 col6\" ><</td>\n",
       "                        <td id=\"T_f9380_row20_col7\" class=\"data row20 col7\" ><</td>\n",
       "                        <td id=\"T_f9380_row20_col8\" class=\"data row20 col8\" ><</td>\n",
       "                        <td id=\"T_f9380_row20_col9\" class=\"data row20 col9\" ><</td>\n",
       "            </tr>\n",
       "            <tr>\n",
       "                        <th id=\"T_f9380_level0_row21\" class=\"row_heading level0 row21\" >23</th>\n",
       "                        <td id=\"T_f9380_row21_col0\" class=\"data row21 col0\" >></td>\n",
       "                        <td id=\"T_f9380_row21_col1\" class=\"data row21 col1\" >></td>\n",
       "                        <td id=\"T_f9380_row21_col2\" class=\"data row21 col2\" >></td>\n",
       "                        <td id=\"T_f9380_row21_col3\" class=\"data row21 col3\" >></td>\n",
       "                        <td id=\"T_f9380_row21_col4\" class=\"data row21 col4\" >></td>\n",
       "                        <td id=\"T_f9380_row21_col5\" class=\"data row21 col5\" >></td>\n",
       "                        <td id=\"T_f9380_row21_col6\" class=\"data row21 col6\" >></td>\n",
       "                        <td id=\"T_f9380_row21_col7\" class=\"data row21 col7\" >></td>\n",
       "                        <td id=\"T_f9380_row21_col8\" class=\"data row21 col8\" >></td>\n",
       "                        <td id=\"T_f9380_row21_col9\" class=\"data row21 col9\" >></td>\n",
       "            </tr>\n",
       "            <tr>\n",
       "                        <th id=\"T_f9380_level0_row22\" class=\"row_heading level0 row22\" >24</th>\n",
       "                        <td id=\"T_f9380_row22_col0\" class=\"data row22 col0\" >></td>\n",
       "                        <td id=\"T_f9380_row22_col1\" class=\"data row22 col1\" >=</td>\n",
       "                        <td id=\"T_f9380_row22_col2\" class=\"data row22 col2\" >=</td>\n",
       "                        <td id=\"T_f9380_row22_col3\" class=\"data row22 col3\" >></td>\n",
       "                        <td id=\"T_f9380_row22_col4\" class=\"data row22 col4\" >></td>\n",
       "                        <td id=\"T_f9380_row22_col5\" class=\"data row22 col5\" >=</td>\n",
       "                        <td id=\"T_f9380_row22_col6\" class=\"data row22 col6\" ><</td>\n",
       "                        <td id=\"T_f9380_row22_col7\" class=\"data row22 col7\" >=</td>\n",
       "                        <td id=\"T_f9380_row22_col8\" class=\"data row22 col8\" >=</td>\n",
       "                        <td id=\"T_f9380_row22_col9\" class=\"data row22 col9\" >=</td>\n",
       "            </tr>\n",
       "            <tr>\n",
       "                        <th id=\"T_f9380_level0_row23\" class=\"row_heading level0 row23\" >25</th>\n",
       "                        <td id=\"T_f9380_row23_col0\" class=\"data row23 col0\" >=</td>\n",
       "                        <td id=\"T_f9380_row23_col1\" class=\"data row23 col1\" >=</td>\n",
       "                        <td id=\"T_f9380_row23_col2\" class=\"data row23 col2\" >></td>\n",
       "                        <td id=\"T_f9380_row23_col3\" class=\"data row23 col3\" >=</td>\n",
       "                        <td id=\"T_f9380_row23_col4\" class=\"data row23 col4\" >=</td>\n",
       "                        <td id=\"T_f9380_row23_col5\" class=\"data row23 col5\" >></td>\n",
       "                        <td id=\"T_f9380_row23_col6\" class=\"data row23 col6\" >></td>\n",
       "                        <td id=\"T_f9380_row23_col7\" class=\"data row23 col7\" >></td>\n",
       "                        <td id=\"T_f9380_row23_col8\" class=\"data row23 col8\" >></td>\n",
       "                        <td id=\"T_f9380_row23_col9\" class=\"data row23 col9\" >></td>\n",
       "            </tr>\n",
       "            <tr>\n",
       "                        <th id=\"T_f9380_level0_row24\" class=\"row_heading level0 row24\" >26</th>\n",
       "                        <td id=\"T_f9380_row24_col0\" class=\"data row24 col0\" ><</td>\n",
       "                        <td id=\"T_f9380_row24_col1\" class=\"data row24 col1\" ><</td>\n",
       "                        <td id=\"T_f9380_row24_col2\" class=\"data row24 col2\" ><</td>\n",
       "                        <td id=\"T_f9380_row24_col3\" class=\"data row24 col3\" ><</td>\n",
       "                        <td id=\"T_f9380_row24_col4\" class=\"data row24 col4\" ><</td>\n",
       "                        <td id=\"T_f9380_row24_col5\" class=\"data row24 col5\" ><</td>\n",
       "                        <td id=\"T_f9380_row24_col6\" class=\"data row24 col6\" ><</td>\n",
       "                        <td id=\"T_f9380_row24_col7\" class=\"data row24 col7\" >=</td>\n",
       "                        <td id=\"T_f9380_row24_col8\" class=\"data row24 col8\" >=</td>\n",
       "                        <td id=\"T_f9380_row24_col9\" class=\"data row24 col9\" >=</td>\n",
       "            </tr>\n",
       "            <tr>\n",
       "                        <th id=\"T_f9380_level0_row25\" class=\"row_heading level0 row25\" >27</th>\n",
       "                        <td id=\"T_f9380_row25_col0\" class=\"data row25 col0\" >=</td>\n",
       "                        <td id=\"T_f9380_row25_col1\" class=\"data row25 col1\" >=</td>\n",
       "                        <td id=\"T_f9380_row25_col2\" class=\"data row25 col2\" >=</td>\n",
       "                        <td id=\"T_f9380_row25_col3\" class=\"data row25 col3\" >=</td>\n",
       "                        <td id=\"T_f9380_row25_col4\" class=\"data row25 col4\" >=</td>\n",
       "                        <td id=\"T_f9380_row25_col5\" class=\"data row25 col5\" >=</td>\n",
       "                        <td id=\"T_f9380_row25_col6\" class=\"data row25 col6\" >=</td>\n",
       "                        <td id=\"T_f9380_row25_col7\" class=\"data row25 col7\" ><</td>\n",
       "                        <td id=\"T_f9380_row25_col8\" class=\"data row25 col8\" ><</td>\n",
       "                        <td id=\"T_f9380_row25_col9\" class=\"data row25 col9\" ><</td>\n",
       "            </tr>\n",
       "            <tr>\n",
       "                        <th id=\"T_f9380_level0_row26\" class=\"row_heading level0 row26\" >28</th>\n",
       "                        <td id=\"T_f9380_row26_col0\" class=\"data row26 col0\" >=</td>\n",
       "                        <td id=\"T_f9380_row26_col1\" class=\"data row26 col1\" >=</td>\n",
       "                        <td id=\"T_f9380_row26_col2\" class=\"data row26 col2\" >=</td>\n",
       "                        <td id=\"T_f9380_row26_col3\" class=\"data row26 col3\" >=</td>\n",
       "                        <td id=\"T_f9380_row26_col4\" class=\"data row26 col4\" >=</td>\n",
       "                        <td id=\"T_f9380_row26_col5\" class=\"data row26 col5\" >=</td>\n",
       "                        <td id=\"T_f9380_row26_col6\" class=\"data row26 col6\" ><</td>\n",
       "                        <td id=\"T_f9380_row26_col7\" class=\"data row26 col7\" >=</td>\n",
       "                        <td id=\"T_f9380_row26_col8\" class=\"data row26 col8\" >=</td>\n",
       "                        <td id=\"T_f9380_row26_col9\" class=\"data row26 col9\" >=</td>\n",
       "            </tr>\n",
       "            <tr>\n",
       "                        <th id=\"T_f9380_level0_row27\" class=\"row_heading level0 row27\" >29</th>\n",
       "                        <td id=\"T_f9380_row27_col0\" class=\"data row27 col0\" >=</td>\n",
       "                        <td id=\"T_f9380_row27_col1\" class=\"data row27 col1\" ><</td>\n",
       "                        <td id=\"T_f9380_row27_col2\" class=\"data row27 col2\" >=</td>\n",
       "                        <td id=\"T_f9380_row27_col3\" class=\"data row27 col3\" ><</td>\n",
       "                        <td id=\"T_f9380_row27_col4\" class=\"data row27 col4\" ><</td>\n",
       "                        <td id=\"T_f9380_row27_col5\" class=\"data row27 col5\" ><</td>\n",
       "                        <td id=\"T_f9380_row27_col6\" class=\"data row27 col6\" ><</td>\n",
       "                        <td id=\"T_f9380_row27_col7\" class=\"data row27 col7\" ><</td>\n",
       "                        <td id=\"T_f9380_row27_col8\" class=\"data row27 col8\" >=</td>\n",
       "                        <td id=\"T_f9380_row27_col9\" class=\"data row27 col9\" ><</td>\n",
       "            </tr>\n",
       "            <tr>\n",
       "                        <th id=\"T_f9380_level0_row28\" class=\"row_heading level0 row28\" >30</th>\n",
       "                        <td id=\"T_f9380_row28_col0\" class=\"data row28 col0\" >></td>\n",
       "                        <td id=\"T_f9380_row28_col1\" class=\"data row28 col1\" >></td>\n",
       "                        <td id=\"T_f9380_row28_col2\" class=\"data row28 col2\" >></td>\n",
       "                        <td id=\"T_f9380_row28_col3\" class=\"data row28 col3\" >></td>\n",
       "                        <td id=\"T_f9380_row28_col4\" class=\"data row28 col4\" >></td>\n",
       "                        <td id=\"T_f9380_row28_col5\" class=\"data row28 col5\" >></td>\n",
       "                        <td id=\"T_f9380_row28_col6\" class=\"data row28 col6\" >></td>\n",
       "                        <td id=\"T_f9380_row28_col7\" class=\"data row28 col7\" >></td>\n",
       "                        <td id=\"T_f9380_row28_col8\" class=\"data row28 col8\" >></td>\n",
       "                        <td id=\"T_f9380_row28_col9\" class=\"data row28 col9\" >></td>\n",
       "            </tr>\n",
       "            <tr>\n",
       "                        <th id=\"T_f9380_level0_row29\" class=\"row_heading level0 row29\" >31</th>\n",
       "                        <td id=\"T_f9380_row29_col0\" class=\"data row29 col0\" ><</td>\n",
       "                        <td id=\"T_f9380_row29_col1\" class=\"data row29 col1\" >></td>\n",
       "                        <td id=\"T_f9380_row29_col2\" class=\"data row29 col2\" ><</td>\n",
       "                        <td id=\"T_f9380_row29_col3\" class=\"data row29 col3\" ><</td>\n",
       "                        <td id=\"T_f9380_row29_col4\" class=\"data row29 col4\" ><</td>\n",
       "                        <td id=\"T_f9380_row29_col5\" class=\"data row29 col5\" ><</td>\n",
       "                        <td id=\"T_f9380_row29_col6\" class=\"data row29 col6\" >=</td>\n",
       "                        <td id=\"T_f9380_row29_col7\" class=\"data row29 col7\" ><</td>\n",
       "                        <td id=\"T_f9380_row29_col8\" class=\"data row29 col8\" ><</td>\n",
       "                        <td id=\"T_f9380_row29_col9\" class=\"data row29 col9\" ><</td>\n",
       "            </tr>\n",
       "            <tr>\n",
       "                        <th id=\"T_f9380_level0_row30\" class=\"row_heading level0 row30\" >32</th>\n",
       "                        <td id=\"T_f9380_row30_col0\" class=\"data row30 col0\" >=</td>\n",
       "                        <td id=\"T_f9380_row30_col1\" class=\"data row30 col1\" ><</td>\n",
       "                        <td id=\"T_f9380_row30_col2\" class=\"data row30 col2\" >></td>\n",
       "                        <td id=\"T_f9380_row30_col3\" class=\"data row30 col3\" >></td>\n",
       "                        <td id=\"T_f9380_row30_col4\" class=\"data row30 col4\" >></td>\n",
       "                        <td id=\"T_f9380_row30_col5\" class=\"data row30 col5\" >></td>\n",
       "                        <td id=\"T_f9380_row30_col6\" class=\"data row30 col6\" >=</td>\n",
       "                        <td id=\"T_f9380_row30_col7\" class=\"data row30 col7\" >=</td>\n",
       "                        <td id=\"T_f9380_row30_col8\" class=\"data row30 col8\" >=</td>\n",
       "                        <td id=\"T_f9380_row30_col9\" class=\"data row30 col9\" >=</td>\n",
       "            </tr>\n",
       "            <tr>\n",
       "                        <th id=\"T_f9380_level0_row31\" class=\"row_heading level0 row31\" >33</th>\n",
       "                        <td id=\"T_f9380_row31_col0\" class=\"data row31 col0\" >></td>\n",
       "                        <td id=\"T_f9380_row31_col1\" class=\"data row31 col1\" >></td>\n",
       "                        <td id=\"T_f9380_row31_col2\" class=\"data row31 col2\" >=</td>\n",
       "                        <td id=\"T_f9380_row31_col3\" class=\"data row31 col3\" >></td>\n",
       "                        <td id=\"T_f9380_row31_col4\" class=\"data row31 col4\" >></td>\n",
       "                        <td id=\"T_f9380_row31_col5\" class=\"data row31 col5\" >></td>\n",
       "                        <td id=\"T_f9380_row31_col6\" class=\"data row31 col6\" ><</td>\n",
       "                        <td id=\"T_f9380_row31_col7\" class=\"data row31 col7\" >=</td>\n",
       "                        <td id=\"T_f9380_row31_col8\" class=\"data row31 col8\" >=</td>\n",
       "                        <td id=\"T_f9380_row31_col9\" class=\"data row31 col9\" >=</td>\n",
       "            </tr>\n",
       "            <tr>\n",
       "                        <th id=\"T_f9380_level0_row32\" class=\"row_heading level0 row32\" >34</th>\n",
       "                        <td id=\"T_f9380_row32_col0\" class=\"data row32 col0\" ><</td>\n",
       "                        <td id=\"T_f9380_row32_col1\" class=\"data row32 col1\" >=</td>\n",
       "                        <td id=\"T_f9380_row32_col2\" class=\"data row32 col2\" >=</td>\n",
       "                        <td id=\"T_f9380_row32_col3\" class=\"data row32 col3\" ><</td>\n",
       "                        <td id=\"T_f9380_row32_col4\" class=\"data row32 col4\" ><</td>\n",
       "                        <td id=\"T_f9380_row32_col5\" class=\"data row32 col5\" ><</td>\n",
       "                        <td id=\"T_f9380_row32_col6\" class=\"data row32 col6\" >=</td>\n",
       "                        <td id=\"T_f9380_row32_col7\" class=\"data row32 col7\" >=</td>\n",
       "                        <td id=\"T_f9380_row32_col8\" class=\"data row32 col8\" ><</td>\n",
       "                        <td id=\"T_f9380_row32_col9\" class=\"data row32 col9\" >=</td>\n",
       "            </tr>\n",
       "            <tr>\n",
       "                        <th id=\"T_f9380_level0_row33\" class=\"row_heading level0 row33\" >35</th>\n",
       "                        <td id=\"T_f9380_row33_col0\" class=\"data row33 col0\" >=</td>\n",
       "                        <td id=\"T_f9380_row33_col1\" class=\"data row33 col1\" >=</td>\n",
       "                        <td id=\"T_f9380_row33_col2\" class=\"data row33 col2\" >></td>\n",
       "                        <td id=\"T_f9380_row33_col3\" class=\"data row33 col3\" >=</td>\n",
       "                        <td id=\"T_f9380_row33_col4\" class=\"data row33 col4\" >></td>\n",
       "                        <td id=\"T_f9380_row33_col5\" class=\"data row33 col5\" >></td>\n",
       "                        <td id=\"T_f9380_row33_col6\" class=\"data row33 col6\" >=</td>\n",
       "                        <td id=\"T_f9380_row33_col7\" class=\"data row33 col7\" >=</td>\n",
       "                        <td id=\"T_f9380_row33_col8\" class=\"data row33 col8\" >=</td>\n",
       "                        <td id=\"T_f9380_row33_col9\" class=\"data row33 col9\" >=</td>\n",
       "            </tr>\n",
       "    </tbody></table>"
      ],
      "text/plain": [
       "<pandas.io.formats.style.Styler at 0x2d7ab92eca0>"
      ]
     },
     "execution_count": 148,
     "metadata": {},
     "output_type": "execute_result"
    }
   ],
   "source": [
    "ttest_tab.T.style.set_properties(**{'text-align': 'center'}).\\\n",
    "applymap(lambda x: 'background-color : #2b8cbe' if x == '<' else ('background-color : #2ca25f' if x == '=' \\\n",
    "                                                                    else 'background-color : #feb24c'))"
   ]
  },
  {
   "cell_type": "markdown",
   "id": "2314175a",
   "metadata": {},
   "source": [
    "**Autre façon de visualiser les résultats du t-test**"
   ]
  },
  {
   "cell_type": "code",
   "execution_count": 154,
   "id": "c53f116d",
   "metadata": {},
   "outputs": [
    {
     "data": {
      "image/png": "[encoded data removed]",
      "text/plain": [
       "<Figure size 864x864 with 1 Axes>"
      ]
     },
     "metadata": {
      "needs_background": "light"
     },
     "output_type": "display_data"
    }
   ],
   "source": [
    "ttest2 = ttest_tab.replace({'=':0, '<':-1, '>':1})\n",
    "\n",
    "plt.figure(figsize=(12, 12))\n",
    "sns.heatmap(ttest2.T, cmap='YlGnBu', cbar=False, \n",
    "            linewidths=0.01, linecolor='black')\n",
    "plt.yticks(rotation=0)\n",
    "plt.show()"
   ]
  },
  {
   "cell_type": "code",
   "execution_count": 109,
   "id": "1beada71",
   "metadata": {},
   "outputs": [],
   "source": [
    "#'Accent', 'Accent_r', 'Blues', 'Blues_r', 'BrBG', 'BrBG_r', 'BuGn', 'BuGn_r', 'BuPu', 'BuPu_r', 'CMRmap', 'CMRmap_r', \n",
    "#'Dark2', 'Dark2_r', 'GnBu', 'GnBu_r', 'Greens', 'Greens_r', 'Greys', 'Greys_r', 'OrRd', 'OrRd_r', 'Oranges', 'Oranges_r', \n",
    "#'PRGn', 'PRGn_r', 'Paired', 'Paired_r', 'Pastel1', 'Pastel1_r', 'Pastel2', 'Pastel2_r', 'PiYG', 'PiYG_r', 'PuBu', 'PuBuGn', \n",
    "#'PuBuGn_r', 'PuBu_r', 'PuOr', 'PuOr_r', 'PuRd', 'PuRd_r', 'Purples', 'Purples_r', 'RdBu', 'RdBu_r', 'RdGy', 'RdGy_r', 'RdPu', \n",
    "#'RdPu_r', 'RdYlBu', 'RdYlBu_r', 'RdYlGn', 'RdYlGn_r', 'Reds', 'Reds_r', 'Set1', 'Set1_r', 'Set2', 'Set2_r', 'Set3', 'Set3_r', \n",
    "#'Spectral', 'Spectral_r', 'Wistia', 'Wistia_r', 'YlGn', 'YlGnBu', 'YlGnBu_r', 'YlGn_r', 'YlOrBr', 'YlOrBr_r', 'YlOrRd', \n",
    "#'YlOrRd_r', 'afmhot', 'afmhot_r', 'autumn', 'autumn_r', 'binary', 'binary_r', 'bone', 'bone_r', 'brg', 'brg_r', 'bwr', \n",
    "#'bwr_r', 'cividis', 'cividis_r', 'cool', 'cool_r', 'coolwarm', 'coolwarm_r', 'copper', 'copper_r', 'crest', 'crest_r', \n",
    "#'cubehelix', 'cubehelix_r', 'flag', 'flag_r', 'flare', 'flare_r', 'gist_earth', 'gist_earth_r', 'gist_gray', 'gist_gray_r', \n",
    "#'gist_heat', 'gist_heat_r', 'gist_ncar', 'gist_ncar_r', 'gist_rainbow', 'gist_rainbow_r', 'gist_stern', 'gist_stern_r', \n",
    "#'gist_yarg', 'gist_yarg_r', 'gnuplot', 'gnuplot2', 'gnuplot2_r', 'gnuplot_r', 'gray', 'gray_r', 'hot', 'hot_r', 'hsv', \n",
    "#'hsv_r', 'icefire', 'icefire_r', 'inferno', 'inferno_r', 'jet', 'jet_r', 'magma', 'magma_r', 'mako', 'mako_r', \n",
    "#'nipy_spectral', 'nipy_spectral_r', 'ocean', 'ocean_r', 'pink', 'pink_r', 'plasma', 'plasma_r', 'prism', 'prism_r', \n",
    "#'rainbow', 'rainbow_r', 'rocket', 'rocket_r', 'seismic', 'seismic_r', 'spring', 'spring_r', 'summer', 'summer_r', \n",
    "#'tab10', 'tab10_r', 'tab20', 'tab20_r', 'tab20b', 'tab20b_r', 'tab20c', 'tab20c_r', 'terrain', 'terrain_r', 'turbo', \n",
    "#'turbo_r', 'twilight', 'twilight_r', 'twilight_shifted', 'twilight_shifted_r', 'viridis', 'viridis_r', 'vlag', 'vlag_r', \n",
    "#'winter', 'winter_r'"
   ]
  },
  {
   "cell_type": "markdown",
   "id": "58dcd218",
   "metadata": {},
   "source": [
    "**Création d'un autre tableau pour le t_test : renseigner des valeurs afin de visualiser l'amplitude des variations**"
   ]
  },
  {
   "cell_type": "code",
   "execution_count": 110,
   "id": "94160304",
   "metadata": {},
   "outputs": [
    {
     "data": {
      "text/html": [
       "<div>\n",
       "<style scoped>\n",
       "    .dataframe tbody tr th:only-of-type {\n",
       "        vertical-align: middle;\n",
       "    }\n",
       "\n",
       "    .dataframe tbody tr th {\n",
       "        vertical-align: top;\n",
       "    }\n",
       "\n",
       "    .dataframe thead th {\n",
       "        text-align: right;\n",
       "    }\n",
       "</style>\n",
       "<table border=\"1\" class=\"dataframe\">\n",
       "  <thead>\n",
       "    <tr style=\"text-align: right;\">\n",
       "      <th></th>\n",
       "      <th>2</th>\n",
       "      <th>3</th>\n",
       "      <th>4</th>\n",
       "      <th>5</th>\n",
       "      <th>6</th>\n",
       "      <th>7</th>\n",
       "      <th>8</th>\n",
       "      <th>9</th>\n",
       "      <th>10</th>\n",
       "      <th>11</th>\n",
       "      <th>...</th>\n",
       "      <th>26</th>\n",
       "      <th>27</th>\n",
       "      <th>28</th>\n",
       "      <th>29</th>\n",
       "      <th>30</th>\n",
       "      <th>31</th>\n",
       "      <th>32</th>\n",
       "      <th>33</th>\n",
       "      <th>34</th>\n",
       "      <th>35</th>\n",
       "    </tr>\n",
       "  </thead>\n",
       "  <tbody>\n",
       "    <tr>\n",
       "      <th>Distance Total (m)</th>\n",
       "      <td>5.133891</td>\n",
       "      <td>-0.548053</td>\n",
       "      <td>-1.787644</td>\n",
       "      <td>-9.904471</td>\n",
       "      <td>-5.268249</td>\n",
       "      <td>12.840351</td>\n",
       "      <td>0.420954</td>\n",
       "      <td>-8.623797</td>\n",
       "      <td>3.833814</td>\n",
       "      <td>1.946288</td>\n",
       "      <td>...</td>\n",
       "      <td>-5.651543</td>\n",
       "      <td>-1.663633</td>\n",
       "      <td>-1.51082</td>\n",
       "      <td>-1.555072</td>\n",
       "      <td>5.583009</td>\n",
       "      <td>-2.425265</td>\n",
       "      <td>-1.811686</td>\n",
       "      <td>8.607098</td>\n",
       "      <td>-2.466261</td>\n",
       "      <td>0.628891</td>\n",
       "    </tr>\n",
       "    <tr>\n",
       "      <th>m/min</th>\n",
       "      <td>5.861684</td>\n",
       "      <td>2.411967</td>\n",
       "      <td>-5.661621</td>\n",
       "      <td>-9.963852</td>\n",
       "      <td>-5.268249</td>\n",
       "      <td>14.017463</td>\n",
       "      <td>1.040841</td>\n",
       "      <td>-7.947012</td>\n",
       "      <td>2.753831</td>\n",
       "      <td>3.77823</td>\n",
       "      <td>...</td>\n",
       "      <td>-6.499813</td>\n",
       "      <td>-0.831796</td>\n",
       "      <td>0.41061</td>\n",
       "      <td>-2.668908</td>\n",
       "      <td>5.291243</td>\n",
       "      <td>3.215633</td>\n",
       "      <td>-6.749686</td>\n",
       "      <td>11.119064</td>\n",
       "      <td>-1.446439</td>\n",
       "      <td>1.829232</td>\n",
       "    </tr>\n",
       "    <tr>\n",
       "      <th>High Int Speed (m)</th>\n",
       "      <td>4.014618</td>\n",
       "      <td>0.226605</td>\n",
       "      <td>-0.018444</td>\n",
       "      <td>-8.206651</td>\n",
       "      <td>-5.268249</td>\n",
       "      <td>9.789617</td>\n",
       "      <td>0.32958</td>\n",
       "      <td>-8.439438</td>\n",
       "      <td>2.160709</td>\n",
       "      <td>2.499934</td>\n",
       "      <td>...</td>\n",
       "      <td>-2.554223</td>\n",
       "      <td>-1.989222</td>\n",
       "      <td>-1.426598</td>\n",
       "      <td>-1.434543</td>\n",
       "      <td>4.465173</td>\n",
       "      <td>-3.206774</td>\n",
       "      <td>3.349018</td>\n",
       "      <td>0.798154</td>\n",
       "      <td>-0.619597</td>\n",
       "      <td>2.808592</td>\n",
       "    </tr>\n",
       "    <tr>\n",
       "      <th>Sprints (m)</th>\n",
       "      <td>3.89899</td>\n",
       "      <td>7.900177</td>\n",
       "      <td>-0.627579</td>\n",
       "      <td>-8.048701</td>\n",
       "      <td>-5.268249</td>\n",
       "      <td>10.374881</td>\n",
       "      <td>0.554016</td>\n",
       "      <td>-7.196056</td>\n",
       "      <td>2.33066</td>\n",
       "      <td>0.982632</td>\n",
       "      <td>...</td>\n",
       "      <td>-6.609659</td>\n",
       "      <td>-0.840446</td>\n",
       "      <td>0.854701</td>\n",
       "      <td>-3.989085</td>\n",
       "      <td>6.677619</td>\n",
       "      <td>-4.645286</td>\n",
       "      <td>2.718291</td>\n",
       "      <td>8.440889</td>\n",
       "      <td>-3.946572</td>\n",
       "      <td>1.195709</td>\n",
       "    </tr>\n",
       "    <tr>\n",
       "      <th>Hi Int Acceleration (nb)</th>\n",
       "      <td>3.40441</td>\n",
       "      <td>1.299636</td>\n",
       "      <td>-3.666811</td>\n",
       "      <td>-7.548739</td>\n",
       "      <td>-5.268249</td>\n",
       "      <td>9.243042</td>\n",
       "      <td>0.044983</td>\n",
       "      <td>-7.756742</td>\n",
       "      <td>1.188623</td>\n",
       "      <td>-0.556001</td>\n",
       "      <td>...</td>\n",
       "      <td>-4.283774</td>\n",
       "      <td>0.81482</td>\n",
       "      <td>-0.592772</td>\n",
       "      <td>-3.187497</td>\n",
       "      <td>5.145256</td>\n",
       "      <td>-5.530818</td>\n",
       "      <td>4.920266</td>\n",
       "      <td>4.285003</td>\n",
       "      <td>-4.514185</td>\n",
       "      <td>3.685459</td>\n",
       "    </tr>\n",
       "    <tr>\n",
       "      <th>Hi Int Deceleration (nb)</th>\n",
       "      <td>3.777291</td>\n",
       "      <td>2.712691</td>\n",
       "      <td>-3.068193</td>\n",
       "      <td>-7.019105</td>\n",
       "      <td>-5.268249</td>\n",
       "      <td>9.193131</td>\n",
       "      <td>0.612263</td>\n",
       "      <td>-6.645084</td>\n",
       "      <td>0.249584</td>\n",
       "      <td>-0.622048</td>\n",
       "      <td>...</td>\n",
       "      <td>-4.228647</td>\n",
       "      <td>-0.006125</td>\n",
       "      <td>-1.572778</td>\n",
       "      <td>-2.821052</td>\n",
       "      <td>5.065303</td>\n",
       "      <td>-5.110751</td>\n",
       "      <td>4.000611</td>\n",
       "      <td>5.098631</td>\n",
       "      <td>-3.369501</td>\n",
       "      <td>2.766505</td>\n",
       "    </tr>\n",
       "    <tr>\n",
       "      <th>80% Distance Hi Int (m)</th>\n",
       "      <td>4.817072</td>\n",
       "      <td>7.751825</td>\n",
       "      <td>-8.086536</td>\n",
       "      <td>-6.36479</td>\n",
       "      <td>-5.268249</td>\n",
       "      <td>7.51394</td>\n",
       "      <td>3.156884</td>\n",
       "      <td>-4.737159</td>\n",
       "      <td>-0.175581</td>\n",
       "      <td>-3.483724</td>\n",
       "      <td>...</td>\n",
       "      <td>-2.417451</td>\n",
       "      <td>0.5599</td>\n",
       "      <td>-3.273848</td>\n",
       "      <td>-2.804039</td>\n",
       "      <td>4.297945</td>\n",
       "      <td>0.711159</td>\n",
       "      <td>-1.048962</td>\n",
       "      <td>-2.909176</td>\n",
       "      <td>1.590311</td>\n",
       "      <td>1.423538</td>\n",
       "    </tr>\n",
       "    <tr>\n",
       "      <th>85% Distance Hi Int (m)</th>\n",
       "      <td>4.053704</td>\n",
       "      <td>6.566804</td>\n",
       "      <td>-6.757732</td>\n",
       "      <td>-5.537272</td>\n",
       "      <td>-5.268249</td>\n",
       "      <td>7.520631</td>\n",
       "      <td>2.007803</td>\n",
       "      <td>-3.216898</td>\n",
       "      <td>0.889564</td>\n",
       "      <td>-2.286422</td>\n",
       "      <td>...</td>\n",
       "      <td>-1.562515</td>\n",
       "      <td>-2.130303</td>\n",
       "      <td>-1.72244</td>\n",
       "      <td>-2.589923</td>\n",
       "      <td>4.316464</td>\n",
       "      <td>-2.652903</td>\n",
       "      <td>1.93482</td>\n",
       "      <td>-1.685337</td>\n",
       "      <td>-0.173795</td>\n",
       "      <td>1.51604</td>\n",
       "    </tr>\n",
       "    <tr>\n",
       "      <th>90% Distance Hi Int (m)</th>\n",
       "      <td>1.518867</td>\n",
       "      <td>2.324121</td>\n",
       "      <td>0.65891</td>\n",
       "      <td>-4.049378</td>\n",
       "      <td>-5.268249</td>\n",
       "      <td>3.48888</td>\n",
       "      <td>2.427055</td>\n",
       "      <td>-1.25995</td>\n",
       "      <td>0.745953</td>\n",
       "      <td>-0.134386</td>\n",
       "      <td>...</td>\n",
       "      <td>-1.40726</td>\n",
       "      <td>-2.635964</td>\n",
       "      <td>0.445636</td>\n",
       "      <td>-1.898324</td>\n",
       "      <td>2.560537</td>\n",
       "      <td>-2.705295</td>\n",
       "      <td>1.391919</td>\n",
       "      <td>0.2005</td>\n",
       "      <td>-2.11276</td>\n",
       "      <td>1.644836</td>\n",
       "    </tr>\n",
       "    <tr>\n",
       "      <th>&gt;85% Distance (m)</th>\n",
       "      <td>3.985572</td>\n",
       "      <td>6.062761</td>\n",
       "      <td>-6.210373</td>\n",
       "      <td>-5.268249</td>\n",
       "      <td>-5.268249</td>\n",
       "      <td>6.448988</td>\n",
       "      <td>2.689418</td>\n",
       "      <td>-2.982264</td>\n",
       "      <td>0.908735</td>\n",
       "      <td>-1.326425</td>\n",
       "      <td>...</td>\n",
       "      <td>-1.607651</td>\n",
       "      <td>-2.580207</td>\n",
       "      <td>-1.006484</td>\n",
       "      <td>-2.705311</td>\n",
       "      <td>3.91926</td>\n",
       "      <td>-2.876848</td>\n",
       "      <td>1.883329</td>\n",
       "      <td>-1.167766</td>\n",
       "      <td>-0.969999</td>\n",
       "      <td>1.687608</td>\n",
       "    </tr>\n",
       "  </tbody>\n",
       "</table>\n",
       "<p>10 rows × 34 columns</p>\n",
       "</div>"
      ],
      "text/plain": [
       "                                2         3         4         5         6   \\\n",
       "Distance Total (m)        5.133891 -0.548053 -1.787644 -9.904471 -5.268249   \n",
       "m/min                     5.861684  2.411967 -5.661621 -9.963852 -5.268249   \n",
       "High Int Speed (m)        4.014618  0.226605 -0.018444 -8.206651 -5.268249   \n",
       "Sprints (m)                3.89899  7.900177 -0.627579 -8.048701 -5.268249   \n",
       "Hi Int Acceleration (nb)   3.40441  1.299636 -3.666811 -7.548739 -5.268249   \n",
       "Hi Int Deceleration (nb)  3.777291  2.712691 -3.068193 -7.019105 -5.268249   \n",
       "80% Distance Hi Int (m)   4.817072  7.751825 -8.086536  -6.36479 -5.268249   \n",
       "85% Distance Hi Int (m)   4.053704  6.566804 -6.757732 -5.537272 -5.268249   \n",
       "90% Distance Hi Int (m)   1.518867  2.324121   0.65891 -4.049378 -5.268249   \n",
       ">85% Distance (m)         3.985572  6.062761 -6.210373 -5.268249 -5.268249   \n",
       "\n",
       "                                 7         8         9         10        11  \\\n",
       "Distance Total (m)        12.840351  0.420954 -8.623797  3.833814  1.946288   \n",
       "m/min                     14.017463  1.040841 -7.947012  2.753831   3.77823   \n",
       "High Int Speed (m)         9.789617   0.32958 -8.439438  2.160709  2.499934   \n",
       "Sprints (m)               10.374881  0.554016 -7.196056   2.33066  0.982632   \n",
       "Hi Int Acceleration (nb)   9.243042  0.044983 -7.756742  1.188623 -0.556001   \n",
       "Hi Int Deceleration (nb)   9.193131  0.612263 -6.645084  0.249584 -0.622048   \n",
       "80% Distance Hi Int (m)     7.51394  3.156884 -4.737159 -0.175581 -3.483724   \n",
       "85% Distance Hi Int (m)    7.520631  2.007803 -3.216898  0.889564 -2.286422   \n",
       "90% Distance Hi Int (m)     3.48888  2.427055  -1.25995  0.745953 -0.134386   \n",
       ">85% Distance (m)          6.448988  2.689418 -2.982264  0.908735 -1.326425   \n",
       "\n",
       "                          ...        26        27        28        29  \\\n",
       "Distance Total (m)        ... -5.651543 -1.663633  -1.51082 -1.555072   \n",
       "m/min                     ... -6.499813 -0.831796   0.41061 -2.668908   \n",
       "High Int Speed (m)        ... -2.554223 -1.989222 -1.426598 -1.434543   \n",
       "Sprints (m)               ... -6.609659 -0.840446  0.854701 -3.989085   \n",
       "Hi Int Acceleration (nb)  ... -4.283774   0.81482 -0.592772 -3.187497   \n",
       "Hi Int Deceleration (nb)  ... -4.228647 -0.006125 -1.572778 -2.821052   \n",
       "80% Distance Hi Int (m)   ... -2.417451    0.5599 -3.273848 -2.804039   \n",
       "85% Distance Hi Int (m)   ... -1.562515 -2.130303  -1.72244 -2.589923   \n",
       "90% Distance Hi Int (m)   ...  -1.40726 -2.635964  0.445636 -1.898324   \n",
       ">85% Distance (m)         ... -1.607651 -2.580207 -1.006484 -2.705311   \n",
       "\n",
       "                                30        31        32         33        34  \\\n",
       "Distance Total (m)        5.583009 -2.425265 -1.811686   8.607098 -2.466261   \n",
       "m/min                     5.291243  3.215633 -6.749686  11.119064 -1.446439   \n",
       "High Int Speed (m)        4.465173 -3.206774  3.349018   0.798154 -0.619597   \n",
       "Sprints (m)               6.677619 -4.645286  2.718291   8.440889 -3.946572   \n",
       "Hi Int Acceleration (nb)  5.145256 -5.530818  4.920266   4.285003 -4.514185   \n",
       "Hi Int Deceleration (nb)  5.065303 -5.110751  4.000611   5.098631 -3.369501   \n",
       "80% Distance Hi Int (m)   4.297945  0.711159 -1.048962  -2.909176  1.590311   \n",
       "85% Distance Hi Int (m)   4.316464 -2.652903   1.93482  -1.685337 -0.173795   \n",
       "90% Distance Hi Int (m)   2.560537 -2.705295  1.391919     0.2005  -2.11276   \n",
       ">85% Distance (m)          3.91926 -2.876848  1.883329  -1.167766 -0.969999   \n",
       "\n",
       "                                35  \n",
       "Distance Total (m)        0.628891  \n",
       "m/min                     1.829232  \n",
       "High Int Speed (m)        2.808592  \n",
       "Sprints (m)               1.195709  \n",
       "Hi Int Acceleration (nb)  3.685459  \n",
       "Hi Int Deceleration (nb)  2.766505  \n",
       "80% Distance Hi Int (m)   1.423538  \n",
       "85% Distance Hi Int (m)    1.51604  \n",
       "90% Distance Hi Int (m)   1.644836  \n",
       ">85% Distance (m)         1.687608  \n",
       "\n",
       "[10 rows x 34 columns]"
      ]
     },
     "execution_count": 110,
     "metadata": {},
     "output_type": "execute_result"
    }
   ],
   "source": [
    "ttest_tab_nb = pd.DataFrame(columns=ttest_sem, index=marqueurs)\n",
    "\n",
    "for sem in ttest_sem:\n",
    "    for col in marqueurs:\n",
    "        sample1 = df_ttest.loc[(df_ttest.Week == sem-1), col]\n",
    "        sample2 = df_ttest.loc[(df_ttest.Week == sem), col]\n",
    "        ttest_data = {'Previous': sample1, 'Current': sample2}\n",
    "        ttest_df = pd.concat(ttest_data, axis=1).dropna()\n",
    "        stat, p = stats.ttest_rel(ttest_df['Current'], ttest_df['Previous'])\n",
    "        statg, pg = stats.ttest_rel(ttest_df['Current'], ttest_df['Previous'], alternative='greater')\n",
    "        statl, pl = stats.ttest_rel(ttest_df['Current'], ttest_df['Previous'], alternative='less')\n",
    "        if p > 0.05:\n",
    "            sign = stat\n",
    "        elif p < 0.05 and pg < 0.05:\n",
    "            sign = stat\n",
    "        elif p <0.05 and pl < 0.05:\n",
    "            sign = stat\n",
    "        ttest_tab_nb.loc[col, sem] = sign\n",
    "\n",
    "ttest_tab_nb"
   ]
  },
  {
   "cell_type": "code",
   "execution_count": 111,
   "id": "8b010f63",
   "metadata": {},
   "outputs": [],
   "source": [
    "ttest_stat = ttest_tab_nb.T\n",
    "ttest_stat.index.name = 'Week'\n",
    "ttest_stat.reset_index(inplace=True)\n",
    "ttest_stat.sort_values(by='Week', inplace=True)\n",
    "\n",
    "marqueurs_tendance = ['Week']\n",
    "for m in marqueurs:\n",
    "    ttest_stat[m+'_tendance'] = np.cumsum(ttest_stat[m])\n",
    "    marqueurs_tendance.append(m+'_tendance')\n",
    "    \n",
    "#ttest_stat"
   ]
  },
  {
   "cell_type": "code",
   "execution_count": 112,
   "id": "889a3fa0",
   "metadata": {},
   "outputs": [
    {
     "data": {
      "application/vnd.plotly.v1+json": {
       "config": {
        "plotlyServerURL": "https://plot.ly"
       },
       "data": [
        {
         "hovertemplate": "Marqueurs=Distance Total (m)_tendance<br>Week=%{x}<br>Value=%{y}<extra></extra>",
         "legendgroup": "Distance Total (m)_tendance",
         "line": {
          "color": "#636efa",
          "dash": "solid"
         },
         "mode": "lines",
         "name": "Distance Total (m)_tendance",
         "orientation": "h",
         "showlegend": true,
         "type": "scatter",
         "x": [
          2,
          3,
          4,
          5,
          6,
          7,
          8,
          9,
          10,
          11,
          12,
          13,
          14,
          15,
          16,
          17,
          18,
          19,
          20,
          21,
          22,
          23,
          24,
          25,
          26,
          27,
          28,
          29,
          30,
          31,
          32,
          33,
          34,
          35
         ],
         "xaxis": "x",
         "y": [
          5.133890954601713,
          4.585837799833374,
          2.7981933209215573,
          -7.1062775801681095,
          -12.374526731544051,
          0.46582452926213413,
          0.8867788589317058,
          -7.737018082337968,
          -3.903204080336988,
          -1.9569156083252985,
          -6.549822710641495,
          -1.8076525523038454,
          -2.566923446640609,
          -0.39840692043596393,
          -0.6966669046937364,
          -8.923701058462186,
          0.3749432601640681,
          -7.985740178198823,
          -1.1010578407380152,
          -7.830901879697858,
          -13.377103172510498,
          -4.656938973583271,
          -1.5883542934853634,
          -1.3164117048991055,
          -6.967954660386013,
          -8.63158805197846,
          -10.142408043895326,
          -11.697479546876727,
          -6.114470445756329,
          -8.539735035526485,
          -10.351420749643987,
          -1.7443228652822231,
          -4.210583392757675,
          -3.581692594084441
         ],
         "yaxis": "y"
        },
        {
         "hovertemplate": "Marqueurs=m/min_tendance<br>Week=%{x}<br>Value=%{y}<extra></extra>",
         "legendgroup": "m/min_tendance",
         "line": {
          "color": "#EF553B",
          "dash": "solid"
         },
         "mode": "lines",
         "name": "m/min_tendance",
         "orientation": "h",
         "showlegend": true,
         "type": "scatter",
         "x": [
          2,
          3,
          4,
          5,
          6,
          7,
          8,
          9,
          10,
          11,
          12,
          13,
          14,
          15,
          16,
          17,
          18,
          19,
          20,
          21,
          22,
          23,
          24,
          25,
          26,
          27,
          28,
          29,
          30,
          31,
          32,
          33,
          34,
          35
         ],
         "xaxis": "x",
         "y": [
          5.8616835395316365,
          8.27365047766536,
          2.612029511135648,
          -7.351822300970457,
          -12.6200714523464,
          1.3973913858403382,
          2.4382324204740886,
          -5.508779792459291,
          -2.754948777139103,
          1.023281182011551,
          -2.1670980957014687,
          3.12249209907367,
          -1.1954085105670438,
          2.258969319615484,
          0.32350906221141984,
          -6.600331324949609,
          0.6541817380908963,
          -4.503102257062109,
          0.07368683646303698,
          -3.168776771951006,
          -7.87841223798274,
          -1.1324245715370838,
          -0.6940201566035478,
          -0.31494883575673716,
          -6.814761491781875,
          -7.646557616722446,
          -7.235947602444034,
          -9.904855721092375,
          -4.613612266676173,
          -1.3979793483522087,
          -8.147665568954675,
          2.9713982350065447,
          1.5249593628571532,
          3.354191010236275
         ],
         "yaxis": "y"
        },
        {
         "hovertemplate": "Marqueurs=High Int Speed (m)_tendance<br>Week=%{x}<br>Value=%{y}<extra></extra>",
         "legendgroup": "High Int Speed (m)_tendance",
         "line": {
          "color": "#00cc96",
          "dash": "solid"
         },
         "mode": "lines",
         "name": "High Int Speed (m)_tendance",
         "orientation": "h",
         "showlegend": true,
         "type": "scatter",
         "x": [
          2,
          3,
          4,
          5,
          6,
          7,
          8,
          9,
          10,
          11,
          12,
          13,
          14,
          15,
          16,
          17,
          18,
          19,
          20,
          21,
          22,
          23,
          24,
          25,
          26,
          27,
          28,
          29,
          30,
          31,
          32,
          33,
          34,
          35
         ],
         "xaxis": "x",
         "y": [
          4.014617757827519,
          4.241222878666021,
          4.222778797820602,
          -3.9838718661758925,
          -9.252121017551836,
          0.5374961014814197,
          0.8670762556814879,
          -7.5723621811729345,
          -5.411652765276291,
          -2.9117185429097834,
          -6.1747260027348805,
          -2.4343762317648086,
          -6.041887086181159,
          -6.753586634401302,
          -6.121801557941464,
          -10.141080058049152,
          -5.949357911309571,
          -12.38079716469047,
          -8.729347466139266,
          -12.307851176691527,
          -15.37490785919742,
          -9.395751152032501,
          -8.56458876960351,
          -6.033794616290752,
          -8.588017150216714,
          -10.577238910783649,
          -12.003836863983015,
          -13.438380270772608,
          -8.97320682365402,
          -12.179980834330019,
          -8.830962549297626,
          -8.032809037415003,
          -8.652405626130141,
          -5.843813138425745
         ],
         "yaxis": "y"
        },
        {
         "hovertemplate": "Marqueurs=Sprints (m)_tendance<br>Week=%{x}<br>Value=%{y}<extra></extra>",
         "legendgroup": "Sprints (m)_tendance",
         "line": {
          "color": "#ab63fa",
          "dash": "solid"
         },
         "mode": "lines",
         "name": "Sprints (m)_tendance",
         "orientation": "h",
         "showlegend": true,
         "type": "scatter",
         "x": [
          2,
          3,
          4,
          5,
          6,
          7,
          8,
          9,
          10,
          11,
          12,
          13,
          14,
          15,
          16,
          17,
          18,
          19,
          20,
          21,
          22,
          23,
          24,
          25,
          26,
          27,
          28,
          29,
          30,
          31,
          32,
          33,
          34,
          35
         ],
         "xaxis": "x",
         "y": [
          3.8989903466335276,
          11.799167106548177,
          11.171588034687135,
          3.1228870205845087,
          -2.145362130791434,
          8.229519167129041,
          8.783535072300785,
          1.5874795641729724,
          3.9181391923152433,
          4.900771413786227,
          1.0938450449464776,
          4.643760767651777,
          0.7929315354780595,
          7.477024165445939,
          6.9691736853752495,
          -0.7344971457699376,
          7.966159577610123,
          0.040111103122617564,
          6.41028348367294,
          0.023383612789694475,
          -4.120346322863254,
          3.635211460826522,
          5.952908656987726,
          6.953230375076638,
          0.34357145901552055,
          -0.4968746957428273,
          0.3578260785648919,
          -3.6312592636898087,
          3.046359280775021,
          -1.5989262326015705,
          1.119364889310431,
          9.560253403318969,
          5.613681407355364,
          6.809390344123804
         ],
         "yaxis": "y"
        },
        {
         "hovertemplate": "Marqueurs=Hi Int Acceleration (nb)_tendance<br>Week=%{x}<br>Value=%{y}<extra></extra>",
         "legendgroup": "Hi Int Acceleration (nb)_tendance",
         "line": {
          "color": "#FFA15A",
          "dash": "solid"
         },
         "mode": "lines",
         "name": "Hi Int Acceleration (nb)_tendance",
         "orientation": "h",
         "showlegend": true,
         "type": "scatter",
         "x": [
          2,
          3,
          4,
          5,
          6,
          7,
          8,
          9,
          10,
          11,
          12,
          13,
          14,
          15,
          16,
          17,
          18,
          19,
          20,
          21,
          22,
          23,
          24,
          25,
          26,
          27,
          28,
          29,
          30,
          31,
          32,
          33,
          34,
          35
         ],
         "xaxis": "x",
         "y": [
          3.4044101412627374,
          4.704046201469752,
          1.0372350699345425,
          -6.511503733584445,
          -11.779752884960388,
          -2.5367106048071673,
          -2.491727156022825,
          -10.24846950595407,
          -9.059846585485529,
          -9.615847857606079,
          -12.137970150336244,
          -8.048558079793168,
          -11.654565440155233,
          -9.880447242228893,
          -10.307930530045207,
          -15.220813577048737,
          -8.569993303155645,
          -16.473644621159007,
          -10.245133462437273,
          -16.54166463143818,
          -17.72932972420261,
          -12.24115973825886,
          -9.367123043186526,
          -9.01578002489724,
          -13.299554231939307,
          -12.484734604694406,
          -13.077506334814043,
          -16.265002870278916,
          -11.119747171764214,
          -16.65056491242502,
          -11.730299397103535,
          -7.445296059073878,
          -11.959481359195573,
          -8.274021915648792
         ],
         "yaxis": "y"
        },
        {
         "hovertemplate": "Marqueurs=Hi Int Deceleration (nb)_tendance<br>Week=%{x}<br>Value=%{y}<extra></extra>",
         "legendgroup": "Hi Int Deceleration (nb)_tendance",
         "line": {
          "color": "#19d3f3",
          "dash": "solid"
         },
         "mode": "lines",
         "name": "Hi Int Deceleration (nb)_tendance",
         "orientation": "h",
         "showlegend": true,
         "type": "scatter",
         "x": [
          2,
          3,
          4,
          5,
          6,
          7,
          8,
          9,
          10,
          11,
          12,
          13,
          14,
          15,
          16,
          17,
          18,
          19,
          20,
          21,
          22,
          23,
          24,
          25,
          26,
          27,
          28,
          29,
          30,
          31,
          32,
          33,
          34,
          35
         ],
         "xaxis": "x",
         "y": [
          3.7772913826757364,
          6.489982003697398,
          3.4217889521700666,
          -3.5973159098333936,
          -8.865565061209336,
          0.3275658829579964,
          0.9398287258544661,
          -5.705255177003518,
          -5.455671536272469,
          -6.077719495644,
          -8.759037137818776,
          -4.8469452257907975,
          -8.174451877597022,
          -3.813728137512996,
          -5.1168747906191685,
          -9.9866684587151,
          -4.50422727630511,
          -10.154850991593039,
          -4.837123789235311,
          -10.647485003928892,
          -10.694999417170527,
          -6.097779414975965,
          -4.496909922613861,
          -2.0711974230238663,
          -6.299844075633435,
          -6.305968859159126,
          -7.878746412355069,
          -10.699798252387108,
          -5.63449502788261,
          -10.745245673105632,
          -6.74463441344686,
          -1.6460029454525804,
          -5.015504444344007,
          -2.248999192075416
         ],
         "yaxis": "y"
        },
        {
         "hovertemplate": "Marqueurs=80% Distance Hi Int (m)_tendance<br>Week=%{x}<br>Value=%{y}<extra></extra>",
         "legendgroup": "80% Distance Hi Int (m)_tendance",
         "line": {
          "color": "#FF6692",
          "dash": "solid"
         },
         "mode": "lines",
         "name": "80% Distance Hi Int (m)_tendance",
         "orientation": "h",
         "showlegend": true,
         "type": "scatter",
         "x": [
          2,
          3,
          4,
          5,
          6,
          7,
          8,
          9,
          10,
          11,
          12,
          13,
          14,
          15,
          16,
          17,
          18,
          19,
          20,
          21,
          22,
          23,
          24,
          25,
          26,
          27,
          28,
          29,
          30,
          31,
          32,
          33,
          34,
          35
         ],
         "xaxis": "x",
         "y": [
          4.817072280054613,
          12.568897051264088,
          4.482361161525432,
          -1.8824286495370481,
          -7.150677800912991,
          0.3632618706005859,
          3.5201459354338196,
          -1.217013430041467,
          -1.3925945488491793,
          -4.876318308763461,
          -3.4005481912543845,
          -2.6148395751970037,
          0.5071490691289262,
          -2.559517018170175,
          -1.2150973452337819,
          -4.744794358663829,
          -2.6557906123287673,
          -6.420286103852341,
          -2.4524964880137654,
          -5.407304232623878,
          -9.263151267016307,
          -4.058835003825927,
          -6.85436246122042,
          -3.315005019310004,
          -5.732456124122473,
          -5.172556146603085,
          -8.44640445033893,
          -11.25044298967814,
          -6.9524983018738,
          -6.241339056475247,
          -7.290301102063866,
          -10.199476955763386,
          -8.609166009642346,
          -7.185627805241093
         ],
         "yaxis": "y"
        },
        {
         "hovertemplate": "Marqueurs=85% Distance Hi Int (m)_tendance<br>Week=%{x}<br>Value=%{y}<extra></extra>",
         "legendgroup": "85% Distance Hi Int (m)_tendance",
         "line": {
          "color": "#B6E880",
          "dash": "solid"
         },
         "mode": "lines",
         "name": "85% Distance Hi Int (m)_tendance",
         "orientation": "h",
         "showlegend": true,
         "type": "scatter",
         "x": [
          2,
          3,
          4,
          5,
          6,
          7,
          8,
          9,
          10,
          11,
          12,
          13,
          14,
          15,
          16,
          17,
          18,
          19,
          20,
          21,
          22,
          23,
          24,
          25,
          26,
          27,
          28,
          29,
          30,
          31,
          32,
          33,
          34,
          35
         ],
         "xaxis": "x",
         "y": [
          4.0537035532566525,
          10.620508016553307,
          3.86277621687593,
          -1.674496133388602,
          -6.942745284764545,
          0.5778860972615574,
          2.5856893293591883,
          -0.6312081926690585,
          0.25835606607332473,
          -2.028065650453067,
          -2.7050984784457643,
          -1.609711693695994,
          -1.3890021617679218,
          -1.9448359835437132,
          -1.0427824786933555,
          -4.8872281669546815,
          -3.121956437555655,
          -4.173334545077098,
          -2.4199861248494408,
          -3.909050690199525,
          -7.130183175976815,
          -2.3384315368264117,
          -2.7383884536064316,
          -0.42064255299318365,
          -1.983157631456368,
          -4.113461016953009,
          -5.835901203626534,
          -8.425824376265213,
          -4.10936049173776,
          -6.762263711377502,
          -4.827443635309132,
          -6.512780827947335,
          -6.686575359180567,
          -5.1705352796463036
         ],
         "yaxis": "y"
        },
        {
         "hovertemplate": "Marqueurs=90% Distance Hi Int (m)_tendance<br>Week=%{x}<br>Value=%{y}<extra></extra>",
         "legendgroup": "90% Distance Hi Int (m)_tendance",
         "line": {
          "color": "#FF97FF",
          "dash": "solid"
         },
         "mode": "lines",
         "name": "90% Distance Hi Int (m)_tendance",
         "orientation": "h",
         "showlegend": true,
         "type": "scatter",
         "x": [
          2,
          3,
          4,
          5,
          6,
          7,
          8,
          9,
          10,
          11,
          12,
          13,
          14,
          15,
          16,
          17,
          18,
          19,
          20,
          21,
          22,
          23,
          24,
          25,
          26,
          27,
          28,
          29,
          30,
          31,
          32,
          33,
          34,
          35
         ],
         "xaxis": "x",
         "y": [
          1.518866612676118,
          3.8429873084503283,
          4.50189775021347,
          0.45251967208041055,
          -4.815729479295532,
          -1.3268493374456067,
          1.1002054938917252,
          -0.15974465664481707,
          0.5862079686118259,
          0.45182239934323026,
          -2.6571242835342477,
          -1.723663576680166,
          -0.15436140663888964,
          -0.9818593049668508,
          -1.8029093332049824,
          -2.532536577121849,
          -0.2969171319681805,
          -2.5491983743615605,
          -0.700153862688965,
          -2.362334281096759,
          -4.819775124089624,
          -1.1035611878017124,
          -0.38676518071485255,
          1.65463832801843,
          0.2473787312306006,
          -2.388585240038635,
          -1.9429493735165375,
          -3.8412732172033444,
          -1.280736372999863,
          -3.986031036231133,
          -2.594112006618288,
          -2.3936123627276173,
          -4.50637255965949,
          -2.8615364762547335
         ],
         "yaxis": "y"
        },
        {
         "hovertemplate": "Marqueurs=>85% Distance (m)_tendance<br>Week=%{x}<br>Value=%{y}<extra></extra>",
         "legendgroup": ">85% Distance (m)_tendance",
         "line": {
          "color": "#FECB52",
          "dash": "solid"
         },
         "mode": "lines",
         "name": ">85% Distance (m)_tendance",
         "orientation": "h",
         "showlegend": true,
         "type": "scatter",
         "x": [
          2,
          3,
          4,
          5,
          6,
          7,
          8,
          9,
          10,
          11,
          12,
          13,
          14,
          15,
          16,
          17,
          18,
          19,
          20,
          21,
          22,
          23,
          24,
          25,
          26,
          27,
          28,
          29,
          30,
          31,
          32,
          33,
          34,
          35
         ],
         "xaxis": "x",
         "y": [
          3.985571901068373,
          10.048332453148497,
          3.837959622216008,
          -1.4302895291599347,
          -6.6985386805358775,
          -0.2495503518596296,
          2.4398676669639405,
          -0.5423958648781118,
          0.36633954916165967,
          -0.9600854636165741,
          -3.400748586375343,
          -2.242509000003536,
          -1.3417424454876357,
          -2.072076427216744,
          -1.8552067087126811,
          -4.926027289901441,
          -2.7260572978685866,
          -4.693765929323137,
          -2.711663489584445,
          -4.389526365213976,
          -7.505046420564741,
          -3.0551373700700495,
          -2.9160725062892285,
          -0.518723283890032,
          -2.12637437574216,
          -4.706581354921625,
          -5.713065648907904,
          -8.418376979206814,
          -4.499117400759523,
          -7.37596585450409,
          -5.49263672933736,
          -6.660403216349525,
          -7.630402633426306,
          -5.942794424424814
         ],
         "yaxis": "y"
        }
       ],
       "layout": {
        "legend": {
         "title": {
          "text": "Marqueurs"
         },
         "tracegroupgap": 0
        },
        "margin": {
         "t": 60
        },
        "template": {
         "data": {
          "bar": [
           {
            "error_x": {
             "color": "#2a3f5f"
            },
            "error_y": {
             "color": "#2a3f5f"
            },
            "marker": {
             "line": {
              "color": "white",
              "width": 0.5
             }
            },
            "type": "bar"
           }
          ],
          "barpolar": [
           {
            "marker": {
             "line": {
              "color": "white",
              "width": 0.5
             }
            },
            "type": "barpolar"
           }
          ],
          "carpet": [
           {
            "aaxis": {
             "endlinecolor": "#2a3f5f",
             "gridcolor": "#C8D4E3",
             "linecolor": "#C8D4E3",
             "minorgridcolor": "#C8D4E3",
             "startlinecolor": "#2a3f5f"
            },
            "baxis": {
             "endlinecolor": "#2a3f5f",
             "gridcolor": "#C8D4E3",
             "linecolor": "#C8D4E3",
             "minorgridcolor": "#C8D4E3",
             "startlinecolor": "#2a3f5f"
            },
            "type": "carpet"
           }
          ],
          "choropleth": [
           {
            "colorbar": {
             "outlinewidth": 0,
             "ticks": ""
            },
            "type": "choropleth"
           }
          ],
          "contour": [
           {
            "colorbar": {
             "outlinewidth": 0,
             "ticks": ""
            },
            "colorscale": [
             [
              0,
              "#0d0887"
             ],
             [
              0.1111111111111111,
              "#46039f"
             ],
             [
              0.2222222222222222,
              "#7201a8"
             ],
             [
              0.3333333333333333,
              "#9c179e"
             ],
             [
              0.4444444444444444,
              "#bd3786"
             ],
             [
              0.5555555555555556,
              "#d8576b"
             ],
             [
              0.6666666666666666,
              "#ed7953"
             ],
             [
              0.7777777777777778,
              "#fb9f3a"
             ],
             [
              0.8888888888888888,
              "#fdca26"
             ],
             [
              1,
              "#f0f921"
             ]
            ],
            "type": "contour"
           }
          ],
          "contourcarpet": [
           {
            "colorbar": {
             "outlinewidth": 0,
             "ticks": ""
            },
            "type": "contourcarpet"
           }
          ],
          "heatmap": [
           {
            "colorbar": {
             "outlinewidth": 0,
             "ticks": ""
            },
            "colorscale": [
             [
              0,
              "#0d0887"
             ],
             [
              0.1111111111111111,
              "#46039f"
             ],
             [
              0.2222222222222222,
              "#7201a8"
             ],
             [
              0.3333333333333333,
              "#9c179e"
             ],
             [
              0.4444444444444444,
              "#bd3786"
             ],
             [
              0.5555555555555556,
              "#d8576b"
             ],
             [
              0.6666666666666666,
              "#ed7953"
             ],
             [
              0.7777777777777778,
              "#fb9f3a"
             ],
             [
              0.8888888888888888,
              "#fdca26"
             ],
             [
              1,
              "#f0f921"
             ]
            ],
            "type": "heatmap"
           }
          ],
          "heatmapgl": [
           {
            "colorbar": {
             "outlinewidth": 0,
             "ticks": ""
            },
            "colorscale": [
             [
              0,
              "#0d0887"
             ],
             [
              0.1111111111111111,
              "#46039f"
             ],
             [
              0.2222222222222222,
              "#7201a8"
             ],
             [
              0.3333333333333333,
              "#9c179e"
             ],
             [
              0.4444444444444444,
              "#bd3786"
             ],
             [
              0.5555555555555556,
              "#d8576b"
             ],
             [
              0.6666666666666666,
              "#ed7953"
             ],
             [
              0.7777777777777778,
              "#fb9f3a"
             ],
             [
              0.8888888888888888,
              "#fdca26"
             ],
             [
              1,
              "#f0f921"
             ]
            ],
            "type": "heatmapgl"
           }
          ],
          "histogram": [
           {
            "marker": {
             "colorbar": {
              "outlinewidth": 0,
              "ticks": ""
             }
            },
            "type": "histogram"
           }
          ],
          "histogram2d": [
           {
            "colorbar": {
             "outlinewidth": 0,
             "ticks": ""
            },
            "colorscale": [
             [
              0,
              "#0d0887"
             ],
             [
              0.1111111111111111,
              "#46039f"
             ],
             [
              0.2222222222222222,
              "#7201a8"
             ],
             [
              0.3333333333333333,
              "#9c179e"
             ],
             [
              0.4444444444444444,
              "#bd3786"
             ],
             [
              0.5555555555555556,
              "#d8576b"
             ],
             [
              0.6666666666666666,
              "#ed7953"
             ],
             [
              0.7777777777777778,
              "#fb9f3a"
             ],
             [
              0.8888888888888888,
              "#fdca26"
             ],
             [
              1,
              "#f0f921"
             ]
            ],
            "type": "histogram2d"
           }
          ],
          "histogram2dcontour": [
           {
            "colorbar": {
             "outlinewidth": 0,
             "ticks": ""
            },
            "colorscale": [
             [
              0,
              "#0d0887"
             ],
             [
              0.1111111111111111,
              "#46039f"
             ],
             [
              0.2222222222222222,
              "#7201a8"
             ],
             [
              0.3333333333333333,
              "#9c179e"
             ],
             [
              0.4444444444444444,
              "#bd3786"
             ],
             [
              0.5555555555555556,
              "#d8576b"
             ],
             [
              0.6666666666666666,
              "#ed7953"
             ],
             [
              0.7777777777777778,
              "#fb9f3a"
             ],
             [
              0.8888888888888888,
              "#fdca26"
             ],
             [
              1,
              "#f0f921"
             ]
            ],
            "type": "histogram2dcontour"
           }
          ],
          "mesh3d": [
           {
            "colorbar": {
             "outlinewidth": 0,
             "ticks": ""
            },
            "type": "mesh3d"
           }
          ],
          "parcoords": [
           {
            "line": {
             "colorbar": {
              "outlinewidth": 0,
              "ticks": ""
             }
            },
            "type": "parcoords"
           }
          ],
          "pie": [
           {
            "automargin": true,
            "type": "pie"
           }
          ],
          "scatter": [
           {
            "marker": {
             "colorbar": {
              "outlinewidth": 0,
              "ticks": ""
             }
            },
            "type": "scatter"
           }
          ],
          "scatter3d": [
           {
            "line": {
             "colorbar": {
              "outlinewidth": 0,
              "ticks": ""
             }
            },
            "marker": {
             "colorbar": {
              "outlinewidth": 0,
              "ticks": ""
             }
            },
            "type": "scatter3d"
           }
          ],
          "scattercarpet": [
           {
            "marker": {
             "colorbar": {
              "outlinewidth": 0,
              "ticks": ""
             }
            },
            "type": "scattercarpet"
           }
          ],
          "scattergeo": [
           {
            "marker": {
             "colorbar": {
              "outlinewidth": 0,
              "ticks": ""
             }
            },
            "type": "scattergeo"
           }
          ],
          "scattergl": [
           {
            "marker": {
             "colorbar": {
              "outlinewidth": 0,
              "ticks": ""
             }
            },
            "type": "scattergl"
           }
          ],
          "scattermapbox": [
           {
            "marker": {
             "colorbar": {
              "outlinewidth": 0,
              "ticks": ""
             }
            },
            "type": "scattermapbox"
           }
          ],
          "scatterpolar": [
           {
            "marker": {
             "colorbar": {
              "outlinewidth": 0,
              "ticks": ""
             }
            },
            "type": "scatterpolar"
           }
          ],
          "scatterpolargl": [
           {
            "marker": {
             "colorbar": {
              "outlinewidth": 0,
              "ticks": ""
             }
            },
            "type": "scatterpolargl"
           }
          ],
          "scatterternary": [
           {
            "marker": {
             "colorbar": {
              "outlinewidth": 0,
              "ticks": ""
             }
            },
            "type": "scatterternary"
           }
          ],
          "surface": [
           {
            "colorbar": {
             "outlinewidth": 0,
             "ticks": ""
            },
            "colorscale": [
             [
              0,
              "#0d0887"
             ],
             [
              0.1111111111111111,
              "#46039f"
             ],
             [
              0.2222222222222222,
              "#7201a8"
             ],
             [
              0.3333333333333333,
              "#9c179e"
             ],
             [
              0.4444444444444444,
              "#bd3786"
             ],
             [
              0.5555555555555556,
              "#d8576b"
             ],
             [
              0.6666666666666666,
              "#ed7953"
             ],
             [
              0.7777777777777778,
              "#fb9f3a"
             ],
             [
              0.8888888888888888,
              "#fdca26"
             ],
             [
              1,
              "#f0f921"
             ]
            ],
            "type": "surface"
           }
          ],
          "table": [
           {
            "cells": {
             "fill": {
              "color": "#EBF0F8"
             },
             "line": {
              "color": "white"
             }
            },
            "header": {
             "fill": {
              "color": "#C8D4E3"
             },
             "line": {
              "color": "white"
             }
            },
            "type": "table"
           }
          ]
         },
         "layout": {
          "annotationdefaults": {
           "arrowcolor": "#2a3f5f",
           "arrowhead": 0,
           "arrowwidth": 1
          },
          "autotypenumbers": "strict",
          "coloraxis": {
           "colorbar": {
            "outlinewidth": 0,
            "ticks": ""
           }
          },
          "colorscale": {
           "diverging": [
            [
             0,
             "#8e0152"
            ],
            [
             0.1,
             "#c51b7d"
            ],
            [
             0.2,
             "#de77ae"
            ],
            [
             0.3,
             "#f1b6da"
            ],
            [
             0.4,
             "#fde0ef"
            ],
            [
             0.5,
             "#f7f7f7"
            ],
            [
             0.6,
             "#e6f5d0"
            ],
            [
             0.7,
             "#b8e186"
            ],
            [
             0.8,
             "#7fbc41"
            ],
            [
             0.9,
             "#4d9221"
            ],
            [
             1,
             "#276419"
            ]
           ],
           "sequential": [
            [
             0,
             "#0d0887"
            ],
            [
             0.1111111111111111,
             "#46039f"
            ],
            [
             0.2222222222222222,
             "#7201a8"
            ],
            [
             0.3333333333333333,
             "#9c179e"
            ],
            [
             0.4444444444444444,
             "#bd3786"
            ],
            [
             0.5555555555555556,
             "#d8576b"
            ],
            [
             0.6666666666666666,
             "#ed7953"
            ],
            [
             0.7777777777777778,
             "#fb9f3a"
            ],
            [
             0.8888888888888888,
             "#fdca26"
            ],
            [
             1,
             "#f0f921"
            ]
           ],
           "sequentialminus": [
            [
             0,
             "#0d0887"
            ],
            [
             0.1111111111111111,
             "#46039f"
            ],
            [
             0.2222222222222222,
             "#7201a8"
            ],
            [
             0.3333333333333333,
             "#9c179e"
            ],
            [
             0.4444444444444444,
             "#bd3786"
            ],
            [
             0.5555555555555556,
             "#d8576b"
            ],
            [
             0.6666666666666666,
             "#ed7953"
            ],
            [
             0.7777777777777778,
             "#fb9f3a"
            ],
            [
             0.8888888888888888,
             "#fdca26"
            ],
            [
             1,
             "#f0f921"
            ]
           ]
          },
          "colorway": [
           "#636efa",
           "#EF553B",
           "#00cc96",
           "#ab63fa",
           "#FFA15A",
           "#19d3f3",
           "#FF6692",
           "#B6E880",
           "#FF97FF",
           "#FECB52"
          ],
          "font": {
           "color": "#2a3f5f"
          },
          "geo": {
           "bgcolor": "white",
           "lakecolor": "white",
           "landcolor": "white",
           "showlakes": true,
           "showland": true,
           "subunitcolor": "#C8D4E3"
          },
          "hoverlabel": {
           "align": "left"
          },
          "hovermode": "closest",
          "mapbox": {
           "style": "light"
          },
          "paper_bgcolor": "white",
          "plot_bgcolor": "white",
          "polar": {
           "angularaxis": {
            "gridcolor": "#EBF0F8",
            "linecolor": "#EBF0F8",
            "ticks": ""
           },
           "bgcolor": "white",
           "radialaxis": {
            "gridcolor": "#EBF0F8",
            "linecolor": "#EBF0F8",
            "ticks": ""
           }
          },
          "scene": {
           "xaxis": {
            "backgroundcolor": "white",
            "gridcolor": "#DFE8F3",
            "gridwidth": 2,
            "linecolor": "#EBF0F8",
            "showbackground": true,
            "ticks": "",
            "zerolinecolor": "#EBF0F8"
           },
           "yaxis": {
            "backgroundcolor": "white",
            "gridcolor": "#DFE8F3",
            "gridwidth": 2,
            "linecolor": "#EBF0F8",
            "showbackground": true,
            "ticks": "",
            "zerolinecolor": "#EBF0F8"
           },
           "zaxis": {
            "backgroundcolor": "white",
            "gridcolor": "#DFE8F3",
            "gridwidth": 2,
            "linecolor": "#EBF0F8",
            "showbackground": true,
            "ticks": "",
            "zerolinecolor": "#EBF0F8"
           }
          },
          "shapedefaults": {
           "line": {
            "color": "#2a3f5f"
           }
          },
          "ternary": {
           "aaxis": {
            "gridcolor": "#DFE8F3",
            "linecolor": "#A2B1C6",
            "ticks": ""
           },
           "baxis": {
            "gridcolor": "#DFE8F3",
            "linecolor": "#A2B1C6",
            "ticks": ""
           },
           "bgcolor": "white",
           "caxis": {
            "gridcolor": "#DFE8F3",
            "linecolor": "#A2B1C6",
            "ticks": ""
           }
          },
          "title": {
           "x": 0.05
          },
          "xaxis": {
           "automargin": true,
           "gridcolor": "#EBF0F8",
           "linecolor": "#EBF0F8",
           "ticks": "",
           "title": {
            "standoff": 15
           },
           "zerolinecolor": "#EBF0F8",
           "zerolinewidth": 2
          },
          "yaxis": {
           "automargin": true,
           "gridcolor": "#EBF0F8",
           "linecolor": "#EBF0F8",
           "ticks": "",
           "title": {
            "standoff": 15
           },
           "zerolinecolor": "#EBF0F8",
           "zerolinewidth": 2
          }
         }
        },
        "xaxis": {
         "anchor": "y",
         "domain": [
          0,
          1
         ],
         "title": {
          "text": "Week"
         }
        },
        "yaxis": {
         "anchor": "x",
         "domain": [
          0,
          1
         ],
         "title": {
          "text": "Value"
         }
        }
       }
      },
      "text/html": [
       "<div>                            <div id=\"ba6390bf-3c70-479a-b5f7-ca6c2ff00f7c\" class=\"plotly-graph-div\" style=\"height:525px; width:100%;\"></div>            <script type=\"text/javascript\">                require([\"plotly\"], function(Plotly) {                    window.PLOTLYENV=window.PLOTLYENV || {};                                    if (document.getElementById(\"ba6390bf-3c70-479a-b5f7-ca6c2ff00f7c\")) {                    Plotly.newPlot(                        \"ba6390bf-3c70-479a-b5f7-ca6c2ff00f7c\",                        [{\"hovertemplate\": \"Marqueurs=Distance Total (m)_tendance<br>Week=%{x}<br>Value=%{y}<extra></extra>\", \"legendgroup\": \"Distance Total (m)_tendance\", \"line\": {\"color\": \"#636efa\", \"dash\": \"solid\"}, \"mode\": \"lines\", \"name\": \"Distance Total (m)_tendance\", \"orientation\": \"h\", \"showlegend\": true, \"type\": \"scatter\", \"x\": [2, 3, 4, 5, 6, 7, 8, 9, 10, 11, 12, 13, 14, 15, 16, 17, 18, 19, 20, 21, 22, 23, 24, 25, 26, 27, 28, 29, 30, 31, 32, 33, 34, 35], \"xaxis\": \"x\", \"y\": [5.133890954601713, 4.585837799833374, 2.7981933209215573, -7.1062775801681095, -12.374526731544051, 0.46582452926213413, 0.8867788589317058, -7.737018082337968, -3.903204080336988, -1.9569156083252985, -6.549822710641495, -1.8076525523038454, -2.566923446640609, -0.39840692043596393, -0.6966669046937364, -8.923701058462186, 0.3749432601640681, -7.985740178198823, -1.1010578407380152, -7.830901879697858, -13.377103172510498, -4.656938973583271, -1.5883542934853634, -1.3164117048991055, -6.967954660386013, -8.63158805197846, -10.142408043895326, -11.697479546876727, -6.114470445756329, -8.539735035526485, -10.351420749643987, -1.7443228652822231, -4.210583392757675, -3.581692594084441], \"yaxis\": \"y\"}, {\"hovertemplate\": \"Marqueurs=m/min_tendance<br>Week=%{x}<br>Value=%{y}<extra></extra>\", \"legendgroup\": \"m/min_tendance\", \"line\": {\"color\": \"#EF553B\", \"dash\": \"solid\"}, \"mode\": \"lines\", \"name\": \"m/min_tendance\", \"orientation\": \"h\", \"showlegend\": true, \"type\": \"scatter\", \"x\": [2, 3, 4, 5, 6, 7, 8, 9, 10, 11, 12, 13, 14, 15, 16, 17, 18, 19, 20, 21, 22, 23, 24, 25, 26, 27, 28, 29, 30, 31, 32, 33, 34, 35], \"xaxis\": \"x\", \"y\": [5.8616835395316365, 8.27365047766536, 2.612029511135648, -7.351822300970457, -12.6200714523464, 1.3973913858403382, 2.4382324204740886, -5.508779792459291, -2.754948777139103, 1.023281182011551, -2.1670980957014687, 3.12249209907367, -1.1954085105670438, 2.258969319615484, 0.32350906221141984, -6.600331324949609, 0.6541817380908963, -4.503102257062109, 0.07368683646303698, -3.168776771951006, -7.87841223798274, -1.1324245715370838, -0.6940201566035478, -0.31494883575673716, -6.814761491781875, -7.646557616722446, -7.235947602444034, -9.904855721092375, -4.613612266676173, -1.3979793483522087, -8.147665568954675, 2.9713982350065447, 1.5249593628571532, 3.354191010236275], \"yaxis\": \"y\"}, {\"hovertemplate\": \"Marqueurs=High Int Speed (m)_tendance<br>Week=%{x}<br>Value=%{y}<extra></extra>\", \"legendgroup\": \"High Int Speed (m)_tendance\", \"line\": {\"color\": \"#00cc96\", \"dash\": \"solid\"}, \"mode\": \"lines\", \"name\": \"High Int Speed (m)_tendance\", \"orientation\": \"h\", \"showlegend\": true, \"type\": \"scatter\", \"x\": [2, 3, 4, 5, 6, 7, 8, 9, 10, 11, 12, 13, 14, 15, 16, 17, 18, 19, 20, 21, 22, 23, 24, 25, 26, 27, 28, 29, 30, 31, 32, 33, 34, 35], \"xaxis\": \"x\", \"y\": [4.014617757827519, 4.241222878666021, 4.222778797820602, -3.9838718661758925, -9.252121017551836, 0.5374961014814197, 0.8670762556814879, -7.5723621811729345, -5.411652765276291, -2.9117185429097834, -6.1747260027348805, -2.4343762317648086, -6.041887086181159, -6.753586634401302, -6.121801557941464, -10.141080058049152, -5.949357911309571, -12.38079716469047, -8.729347466139266, -12.307851176691527, -15.37490785919742, -9.395751152032501, -8.56458876960351, -6.033794616290752, -8.588017150216714, -10.577238910783649, -12.003836863983015, -13.438380270772608, -8.97320682365402, -12.179980834330019, -8.830962549297626, -8.032809037415003, -8.652405626130141, -5.843813138425745], \"yaxis\": \"y\"}, {\"hovertemplate\": \"Marqueurs=Sprints (m)_tendance<br>Week=%{x}<br>Value=%{y}<extra></extra>\", \"legendgroup\": \"Sprints (m)_tendance\", \"line\": {\"color\": \"#ab63fa\", \"dash\": \"solid\"}, \"mode\": \"lines\", \"name\": \"Sprints (m)_tendance\", \"orientation\": \"h\", \"showlegend\": true, \"type\": \"scatter\", \"x\": [2, 3, 4, 5, 6, 7, 8, 9, 10, 11, 12, 13, 14, 15, 16, 17, 18, 19, 20, 21, 22, 23, 24, 25, 26, 27, 28, 29, 30, 31, 32, 33, 34, 35], \"xaxis\": \"x\", \"y\": [3.8989903466335276, 11.799167106548177, 11.171588034687135, 3.1228870205845087, -2.145362130791434, 8.229519167129041, 8.783535072300785, 1.5874795641729724, 3.9181391923152433, 4.900771413786227, 1.0938450449464776, 4.643760767651777, 0.7929315354780595, 7.477024165445939, 6.9691736853752495, -0.7344971457699376, 7.966159577610123, 0.040111103122617564, 6.41028348367294, 0.023383612789694475, -4.120346322863254, 3.635211460826522, 5.952908656987726, 6.953230375076638, 0.34357145901552055, -0.4968746957428273, 0.3578260785648919, -3.6312592636898087, 3.046359280775021, -1.5989262326015705, 1.119364889310431, 9.560253403318969, 5.613681407355364, 6.809390344123804], \"yaxis\": \"y\"}, {\"hovertemplate\": \"Marqueurs=Hi Int Acceleration (nb)_tendance<br>Week=%{x}<br>Value=%{y}<extra></extra>\", \"legendgroup\": \"Hi Int Acceleration (nb)_tendance\", \"line\": {\"color\": \"#FFA15A\", \"dash\": \"solid\"}, \"mode\": \"lines\", \"name\": \"Hi Int Acceleration (nb)_tendance\", \"orientation\": \"h\", \"showlegend\": true, \"type\": \"scatter\", \"x\": [2, 3, 4, 5, 6, 7, 8, 9, 10, 11, 12, 13, 14, 15, 16, 17, 18, 19, 20, 21, 22, 23, 24, 25, 26, 27, 28, 29, 30, 31, 32, 33, 34, 35], \"xaxis\": \"x\", \"y\": [3.4044101412627374, 4.704046201469752, 1.0372350699345425, -6.511503733584445, -11.779752884960388, -2.5367106048071673, -2.491727156022825, -10.24846950595407, -9.059846585485529, -9.615847857606079, -12.137970150336244, -8.048558079793168, -11.654565440155233, -9.880447242228893, -10.307930530045207, -15.220813577048737, -8.569993303155645, -16.473644621159007, -10.245133462437273, -16.54166463143818, -17.72932972420261, -12.24115973825886, -9.367123043186526, -9.01578002489724, -13.299554231939307, -12.484734604694406, -13.077506334814043, -16.265002870278916, -11.119747171764214, -16.65056491242502, -11.730299397103535, -7.445296059073878, -11.959481359195573, -8.274021915648792], \"yaxis\": \"y\"}, {\"hovertemplate\": \"Marqueurs=Hi Int Deceleration (nb)_tendance<br>Week=%{x}<br>Value=%{y}<extra></extra>\", \"legendgroup\": \"Hi Int Deceleration (nb)_tendance\", \"line\": {\"color\": \"#19d3f3\", \"dash\": \"solid\"}, \"mode\": \"lines\", \"name\": \"Hi Int Deceleration (nb)_tendance\", \"orientation\": \"h\", \"showlegend\": true, \"type\": \"scatter\", \"x\": [2, 3, 4, 5, 6, 7, 8, 9, 10, 11, 12, 13, 14, 15, 16, 17, 18, 19, 20, 21, 22, 23, 24, 25, 26, 27, 28, 29, 30, 31, 32, 33, 34, 35], \"xaxis\": \"x\", \"y\": [3.7772913826757364, 6.489982003697398, 3.4217889521700666, -3.5973159098333936, -8.865565061209336, 0.3275658829579964, 0.9398287258544661, -5.705255177003518, -5.455671536272469, -6.077719495644, -8.759037137818776, -4.8469452257907975, -8.174451877597022, -3.813728137512996, -5.1168747906191685, -9.9866684587151, -4.50422727630511, -10.154850991593039, -4.837123789235311, -10.647485003928892, -10.694999417170527, -6.097779414975965, -4.496909922613861, -2.0711974230238663, -6.299844075633435, -6.305968859159126, -7.878746412355069, -10.699798252387108, -5.63449502788261, -10.745245673105632, -6.74463441344686, -1.6460029454525804, -5.015504444344007, -2.248999192075416], \"yaxis\": \"y\"}, {\"hovertemplate\": \"Marqueurs=80% Distance Hi Int (m)_tendance<br>Week=%{x}<br>Value=%{y}<extra></extra>\", \"legendgroup\": \"80% Distance Hi Int (m)_tendance\", \"line\": {\"color\": \"#FF6692\", \"dash\": \"solid\"}, \"mode\": \"lines\", \"name\": \"80% Distance Hi Int (m)_tendance\", \"orientation\": \"h\", \"showlegend\": true, \"type\": \"scatter\", \"x\": [2, 3, 4, 5, 6, 7, 8, 9, 10, 11, 12, 13, 14, 15, 16, 17, 18, 19, 20, 21, 22, 23, 24, 25, 26, 27, 28, 29, 30, 31, 32, 33, 34, 35], \"xaxis\": \"x\", \"y\": [4.817072280054613, 12.568897051264088, 4.482361161525432, -1.8824286495370481, -7.150677800912991, 0.3632618706005859, 3.5201459354338196, -1.217013430041467, -1.3925945488491793, -4.876318308763461, -3.4005481912543845, -2.6148395751970037, 0.5071490691289262, -2.559517018170175, -1.2150973452337819, -4.744794358663829, -2.6557906123287673, -6.420286103852341, -2.4524964880137654, -5.407304232623878, -9.263151267016307, -4.058835003825927, -6.85436246122042, -3.315005019310004, -5.732456124122473, -5.172556146603085, -8.44640445033893, -11.25044298967814, -6.9524983018738, -6.241339056475247, -7.290301102063866, -10.199476955763386, -8.609166009642346, -7.185627805241093], \"yaxis\": \"y\"}, {\"hovertemplate\": \"Marqueurs=85% Distance Hi Int (m)_tendance<br>Week=%{x}<br>Value=%{y}<extra></extra>\", \"legendgroup\": \"85% Distance Hi Int (m)_tendance\", \"line\": {\"color\": \"#B6E880\", \"dash\": \"solid\"}, \"mode\": \"lines\", \"name\": \"85% Distance Hi Int (m)_tendance\", \"orientation\": \"h\", \"showlegend\": true, \"type\": \"scatter\", \"x\": [2, 3, 4, 5, 6, 7, 8, 9, 10, 11, 12, 13, 14, 15, 16, 17, 18, 19, 20, 21, 22, 23, 24, 25, 26, 27, 28, 29, 30, 31, 32, 33, 34, 35], \"xaxis\": \"x\", \"y\": [4.0537035532566525, 10.620508016553307, 3.86277621687593, -1.674496133388602, -6.942745284764545, 0.5778860972615574, 2.5856893293591883, -0.6312081926690585, 0.25835606607332473, -2.028065650453067, -2.7050984784457643, -1.609711693695994, -1.3890021617679218, -1.9448359835437132, -1.0427824786933555, -4.8872281669546815, -3.121956437555655, -4.173334545077098, -2.4199861248494408, -3.909050690199525, -7.130183175976815, -2.3384315368264117, -2.7383884536064316, -0.42064255299318365, -1.983157631456368, -4.113461016953009, -5.835901203626534, -8.425824376265213, -4.10936049173776, -6.762263711377502, -4.827443635309132, -6.512780827947335, -6.686575359180567, -5.1705352796463036], \"yaxis\": \"y\"}, {\"hovertemplate\": \"Marqueurs=90% Distance Hi Int (m)_tendance<br>Week=%{x}<br>Value=%{y}<extra></extra>\", \"legendgroup\": \"90% Distance Hi Int (m)_tendance\", \"line\": {\"color\": \"#FF97FF\", \"dash\": \"solid\"}, \"mode\": \"lines\", \"name\": \"90% Distance Hi Int (m)_tendance\", \"orientation\": \"h\", \"showlegend\": true, \"type\": \"scatter\", \"x\": [2, 3, 4, 5, 6, 7, 8, 9, 10, 11, 12, 13, 14, 15, 16, 17, 18, 19, 20, 21, 22, 23, 24, 25, 26, 27, 28, 29, 30, 31, 32, 33, 34, 35], \"xaxis\": \"x\", \"y\": [1.518866612676118, 3.8429873084503283, 4.50189775021347, 0.45251967208041055, -4.815729479295532, -1.3268493374456067, 1.1002054938917252, -0.15974465664481707, 0.5862079686118259, 0.45182239934323026, -2.6571242835342477, -1.723663576680166, -0.15436140663888964, -0.9818593049668508, -1.8029093332049824, -2.532536577121849, -0.2969171319681805, -2.5491983743615605, -0.700153862688965, -2.362334281096759, -4.819775124089624, -1.1035611878017124, -0.38676518071485255, 1.65463832801843, 0.2473787312306006, -2.388585240038635, -1.9429493735165375, -3.8412732172033444, -1.280736372999863, -3.986031036231133, -2.594112006618288, -2.3936123627276173, -4.50637255965949, -2.8615364762547335], \"yaxis\": \"y\"}, {\"hovertemplate\": \"Marqueurs=>85% Distance (m)_tendance<br>Week=%{x}<br>Value=%{y}<extra></extra>\", \"legendgroup\": \">85% Distance (m)_tendance\", \"line\": {\"color\": \"#FECB52\", \"dash\": \"solid\"}, \"mode\": \"lines\", \"name\": \">85% Distance (m)_tendance\", \"orientation\": \"h\", \"showlegend\": true, \"type\": \"scatter\", \"x\": [2, 3, 4, 5, 6, 7, 8, 9, 10, 11, 12, 13, 14, 15, 16, 17, 18, 19, 20, 21, 22, 23, 24, 25, 26, 27, 28, 29, 30, 31, 32, 33, 34, 35], \"xaxis\": \"x\", \"y\": [3.985571901068373, 10.048332453148497, 3.837959622216008, -1.4302895291599347, -6.6985386805358775, -0.2495503518596296, 2.4398676669639405, -0.5423958648781118, 0.36633954916165967, -0.9600854636165741, -3.400748586375343, -2.242509000003536, -1.3417424454876357, -2.072076427216744, -1.8552067087126811, -4.926027289901441, -2.7260572978685866, -4.693765929323137, -2.711663489584445, -4.389526365213976, -7.505046420564741, -3.0551373700700495, -2.9160725062892285, -0.518723283890032, -2.12637437574216, -4.706581354921625, -5.713065648907904, -8.418376979206814, -4.499117400759523, -7.37596585450409, -5.49263672933736, -6.660403216349525, -7.630402633426306, -5.942794424424814], \"yaxis\": \"y\"}],                        {\"legend\": {\"title\": {\"text\": \"Marqueurs\"}, \"tracegroupgap\": 0}, \"margin\": {\"t\": 60}, \"template\": {\"data\": {\"bar\": [{\"error_x\": {\"color\": \"#2a3f5f\"}, \"error_y\": {\"color\": \"#2a3f5f\"}, \"marker\": {\"line\": {\"color\": \"white\", \"width\": 0.5}}, \"type\": \"bar\"}], \"barpolar\": [{\"marker\": {\"line\": {\"color\": \"white\", \"width\": 0.5}}, \"type\": \"barpolar\"}], \"carpet\": [{\"aaxis\": {\"endlinecolor\": \"#2a3f5f\", \"gridcolor\": \"#C8D4E3\", \"linecolor\": \"#C8D4E3\", \"minorgridcolor\": \"#C8D4E3\", \"startlinecolor\": \"#2a3f5f\"}, \"baxis\": {\"endlinecolor\": \"#2a3f5f\", \"gridcolor\": \"#C8D4E3\", \"linecolor\": \"#C8D4E3\", \"minorgridcolor\": \"#C8D4E3\", \"startlinecolor\": \"#2a3f5f\"}, \"type\": \"carpet\"}], \"choropleth\": [{\"colorbar\": {\"outlinewidth\": 0, \"ticks\": \"\"}, \"type\": \"choropleth\"}], \"contour\": [{\"colorbar\": {\"outlinewidth\": 0, \"ticks\": \"\"}, \"colorscale\": [[0.0, \"#0d0887\"], [0.1111111111111111, \"#46039f\"], [0.2222222222222222, \"#7201a8\"], [0.3333333333333333, \"#9c179e\"], [0.4444444444444444, \"#bd3786\"], [0.5555555555555556, \"#d8576b\"], [0.6666666666666666, \"#ed7953\"], [0.7777777777777778, \"#fb9f3a\"], [0.8888888888888888, \"#fdca26\"], [1.0, \"#f0f921\"]], \"type\": \"contour\"}], \"contourcarpet\": [{\"colorbar\": {\"outlinewidth\": 0, \"ticks\": \"\"}, \"type\": \"contourcarpet\"}], \"heatmap\": [{\"colorbar\": {\"outlinewidth\": 0, \"ticks\": \"\"}, \"colorscale\": [[0.0, \"#0d0887\"], [0.1111111111111111, \"#46039f\"], [0.2222222222222222, \"#7201a8\"], [0.3333333333333333, \"#9c179e\"], [0.4444444444444444, \"#bd3786\"], [0.5555555555555556, \"#d8576b\"], [0.6666666666666666, \"#ed7953\"], [0.7777777777777778, \"#fb9f3a\"], [0.8888888888888888, \"#fdca26\"], [1.0, \"#f0f921\"]], \"type\": \"heatmap\"}], \"heatmapgl\": [{\"colorbar\": {\"outlinewidth\": 0, \"ticks\": \"\"}, \"colorscale\": [[0.0, \"#0d0887\"], [0.1111111111111111, \"#46039f\"], [0.2222222222222222, \"#7201a8\"], [0.3333333333333333, \"#9c179e\"], [0.4444444444444444, \"#bd3786\"], [0.5555555555555556, \"#d8576b\"], [0.6666666666666666, \"#ed7953\"], [0.7777777777777778, \"#fb9f3a\"], [0.8888888888888888, \"#fdca26\"], [1.0, \"#f0f921\"]], \"type\": \"heatmapgl\"}], \"histogram\": [{\"marker\": {\"colorbar\": {\"outlinewidth\": 0, \"ticks\": \"\"}}, \"type\": \"histogram\"}], \"histogram2d\": [{\"colorbar\": {\"outlinewidth\": 0, \"ticks\": \"\"}, \"colorscale\": [[0.0, \"#0d0887\"], [0.1111111111111111, \"#46039f\"], [0.2222222222222222, \"#7201a8\"], [0.3333333333333333, \"#9c179e\"], [0.4444444444444444, \"#bd3786\"], [0.5555555555555556, \"#d8576b\"], [0.6666666666666666, \"#ed7953\"], [0.7777777777777778, \"#fb9f3a\"], [0.8888888888888888, \"#fdca26\"], [1.0, \"#f0f921\"]], \"type\": \"histogram2d\"}], \"histogram2dcontour\": [{\"colorbar\": {\"outlinewidth\": 0, \"ticks\": \"\"}, \"colorscale\": [[0.0, \"#0d0887\"], [0.1111111111111111, \"#46039f\"], [0.2222222222222222, \"#7201a8\"], [0.3333333333333333, \"#9c179e\"], [0.4444444444444444, \"#bd3786\"], [0.5555555555555556, \"#d8576b\"], [0.6666666666666666, \"#ed7953\"], [0.7777777777777778, \"#fb9f3a\"], [0.8888888888888888, \"#fdca26\"], [1.0, \"#f0f921\"]], \"type\": \"histogram2dcontour\"}], \"mesh3d\": [{\"colorbar\": {\"outlinewidth\": 0, \"ticks\": \"\"}, \"type\": \"mesh3d\"}], \"parcoords\": [{\"line\": {\"colorbar\": {\"outlinewidth\": 0, \"ticks\": \"\"}}, \"type\": \"parcoords\"}], \"pie\": [{\"automargin\": true, \"type\": \"pie\"}], \"scatter\": [{\"marker\": {\"colorbar\": {\"outlinewidth\": 0, \"ticks\": \"\"}}, \"type\": \"scatter\"}], \"scatter3d\": [{\"line\": {\"colorbar\": {\"outlinewidth\": 0, \"ticks\": \"\"}}, \"marker\": {\"colorbar\": {\"outlinewidth\": 0, \"ticks\": \"\"}}, \"type\": \"scatter3d\"}], \"scattercarpet\": [{\"marker\": {\"colorbar\": {\"outlinewidth\": 0, \"ticks\": \"\"}}, \"type\": \"scattercarpet\"}], \"scattergeo\": [{\"marker\": {\"colorbar\": {\"outlinewidth\": 0, \"ticks\": \"\"}}, \"type\": \"scattergeo\"}], \"scattergl\": [{\"marker\": {\"colorbar\": {\"outlinewidth\": 0, \"ticks\": \"\"}}, \"type\": \"scattergl\"}], \"scattermapbox\": [{\"marker\": {\"colorbar\": {\"outlinewidth\": 0, \"ticks\": \"\"}}, \"type\": \"scattermapbox\"}], \"scatterpolar\": [{\"marker\": {\"colorbar\": {\"outlinewidth\": 0, \"ticks\": \"\"}}, \"type\": \"scatterpolar\"}], \"scatterpolargl\": [{\"marker\": {\"colorbar\": {\"outlinewidth\": 0, \"ticks\": \"\"}}, \"type\": \"scatterpolargl\"}], \"scatterternary\": [{\"marker\": {\"colorbar\": {\"outlinewidth\": 0, \"ticks\": \"\"}}, \"type\": \"scatterternary\"}], \"surface\": [{\"colorbar\": {\"outlinewidth\": 0, \"ticks\": \"\"}, \"colorscale\": [[0.0, \"#0d0887\"], [0.1111111111111111, \"#46039f\"], [0.2222222222222222, \"#7201a8\"], [0.3333333333333333, \"#9c179e\"], [0.4444444444444444, \"#bd3786\"], [0.5555555555555556, \"#d8576b\"], [0.6666666666666666, \"#ed7953\"], [0.7777777777777778, \"#fb9f3a\"], [0.8888888888888888, \"#fdca26\"], [1.0, \"#f0f921\"]], \"type\": \"surface\"}], \"table\": [{\"cells\": {\"fill\": {\"color\": \"#EBF0F8\"}, \"line\": {\"color\": \"white\"}}, \"header\": {\"fill\": {\"color\": \"#C8D4E3\"}, \"line\": {\"color\": \"white\"}}, \"type\": \"table\"}]}, \"layout\": {\"annotationdefaults\": {\"arrowcolor\": \"#2a3f5f\", \"arrowhead\": 0, \"arrowwidth\": 1}, \"autotypenumbers\": \"strict\", \"coloraxis\": {\"colorbar\": {\"outlinewidth\": 0, \"ticks\": \"\"}}, \"colorscale\": {\"diverging\": [[0, \"#8e0152\"], [0.1, \"#c51b7d\"], [0.2, \"#de77ae\"], [0.3, \"#f1b6da\"], [0.4, \"#fde0ef\"], [0.5, \"#f7f7f7\"], [0.6, \"#e6f5d0\"], [0.7, \"#b8e186\"], [0.8, \"#7fbc41\"], [0.9, \"#4d9221\"], [1, \"#276419\"]], \"sequential\": [[0.0, \"#0d0887\"], [0.1111111111111111, \"#46039f\"], [0.2222222222222222, \"#7201a8\"], [0.3333333333333333, \"#9c179e\"], [0.4444444444444444, \"#bd3786\"], [0.5555555555555556, \"#d8576b\"], [0.6666666666666666, \"#ed7953\"], [0.7777777777777778, \"#fb9f3a\"], [0.8888888888888888, \"#fdca26\"], [1.0, \"#f0f921\"]], \"sequentialminus\": [[0.0, \"#0d0887\"], [0.1111111111111111, \"#46039f\"], [0.2222222222222222, \"#7201a8\"], [0.3333333333333333, \"#9c179e\"], [0.4444444444444444, \"#bd3786\"], [0.5555555555555556, \"#d8576b\"], [0.6666666666666666, \"#ed7953\"], [0.7777777777777778, \"#fb9f3a\"], [0.8888888888888888, \"#fdca26\"], [1.0, \"#f0f921\"]]}, \"colorway\": [\"#636efa\", \"#EF553B\", \"#00cc96\", \"#ab63fa\", \"#FFA15A\", \"#19d3f3\", \"#FF6692\", \"#B6E880\", \"#FF97FF\", \"#FECB52\"], \"font\": {\"color\": \"#2a3f5f\"}, \"geo\": {\"bgcolor\": \"white\", \"lakecolor\": \"white\", \"landcolor\": \"white\", \"showlakes\": true, \"showland\": true, \"subunitcolor\": \"#C8D4E3\"}, \"hoverlabel\": {\"align\": \"left\"}, \"hovermode\": \"closest\", \"mapbox\": {\"style\": \"light\"}, \"paper_bgcolor\": \"white\", \"plot_bgcolor\": \"white\", \"polar\": {\"angularaxis\": {\"gridcolor\": \"#EBF0F8\", \"linecolor\": \"#EBF0F8\", \"ticks\": \"\"}, \"bgcolor\": \"white\", \"radialaxis\": {\"gridcolor\": \"#EBF0F8\", \"linecolor\": \"#EBF0F8\", \"ticks\": \"\"}}, \"scene\": {\"xaxis\": {\"backgroundcolor\": \"white\", \"gridcolor\": \"#DFE8F3\", \"gridwidth\": 2, \"linecolor\": \"#EBF0F8\", \"showbackground\": true, \"ticks\": \"\", \"zerolinecolor\": \"#EBF0F8\"}, \"yaxis\": {\"backgroundcolor\": \"white\", \"gridcolor\": \"#DFE8F3\", \"gridwidth\": 2, \"linecolor\": \"#EBF0F8\", \"showbackground\": true, \"ticks\": \"\", \"zerolinecolor\": \"#EBF0F8\"}, \"zaxis\": {\"backgroundcolor\": \"white\", \"gridcolor\": \"#DFE8F3\", \"gridwidth\": 2, \"linecolor\": \"#EBF0F8\", \"showbackground\": true, \"ticks\": \"\", \"zerolinecolor\": \"#EBF0F8\"}}, \"shapedefaults\": {\"line\": {\"color\": \"#2a3f5f\"}}, \"ternary\": {\"aaxis\": {\"gridcolor\": \"#DFE8F3\", \"linecolor\": \"#A2B1C6\", \"ticks\": \"\"}, \"baxis\": {\"gridcolor\": \"#DFE8F3\", \"linecolor\": \"#A2B1C6\", \"ticks\": \"\"}, \"bgcolor\": \"white\", \"caxis\": {\"gridcolor\": \"#DFE8F3\", \"linecolor\": \"#A2B1C6\", \"ticks\": \"\"}}, \"title\": {\"x\": 0.05}, \"xaxis\": {\"automargin\": true, \"gridcolor\": \"#EBF0F8\", \"linecolor\": \"#EBF0F8\", \"ticks\": \"\", \"title\": {\"standoff\": 15}, \"zerolinecolor\": \"#EBF0F8\", \"zerolinewidth\": 2}, \"yaxis\": {\"automargin\": true, \"gridcolor\": \"#EBF0F8\", \"linecolor\": \"#EBF0F8\", \"ticks\": \"\", \"title\": {\"standoff\": 15}, \"zerolinecolor\": \"#EBF0F8\", \"zerolinewidth\": 2}}}, \"xaxis\": {\"anchor\": \"y\", \"domain\": [0.0, 1.0], \"title\": {\"text\": \"Week\"}}, \"yaxis\": {\"anchor\": \"x\", \"domain\": [0.0, 1.0], \"title\": {\"text\": \"Value\"}}},                        {\"responsive\": true}                    ).then(function(){\n",
       "                            \n",
       "var gd = document.getElementById('ba6390bf-3c70-479a-b5f7-ca6c2ff00f7c');\n",
       "var x = new MutationObserver(function (mutations, observer) {{\n",
       "        var display = window.getComputedStyle(gd).display;\n",
       "        if (!display || display === 'none') {{\n",
       "            console.log([gd, 'removed!']);\n",
       "            Plotly.purge(gd);\n",
       "            observer.disconnect();\n",
       "        }}\n",
       "}});\n",
       "\n",
       "// Listen for the removal of the full notebook cells\n",
       "var notebookContainer = gd.closest('#notebook-container');\n",
       "if (notebookContainer) {{\n",
       "    x.observe(notebookContainer, {childList: true});\n",
       "}}\n",
       "\n",
       "// Listen for the clearing of the current output cell\n",
       "var outputEl = gd.closest('.output');\n",
       "if (outputEl) {{\n",
       "    x.observe(outputEl, {childList: true});\n",
       "}}\n",
       "\n",
       "                        })                };                });            </script>        </div>"
      ]
     },
     "metadata": {},
     "output_type": "display_data"
    }
   ],
   "source": [
    "ttest_nb_arranged = ttest_stat[marqueurs_tendance].melt(id_vars='Week', var_name='Marqueurs', value_name='Value')\n",
    "\n",
    "fig = px.line(ttest_nb_arranged, x='Week', y='Value', color='Marqueurs', template='plotly_white')\n",
    "fig.show()"
   ]
  },
  {
   "cell_type": "markdown",
   "id": "6ab9a2d6",
   "metadata": {},
   "source": [
    "**Visualiser la somme de la distance totale de l'équipe pour chaque semaine**"
   ]
  },
  {
   "cell_type": "code",
   "execution_count": 113,
   "id": "4865bd4f",
   "metadata": {},
   "outputs": [
    {
     "data": {
      "application/vnd.plotly.v1+json": {
       "config": {
        "plotlyServerURL": "https://plot.ly"
       },
       "data": [
        {
         "alignmentgroup": "True",
         "hovertemplate": "Week=%{x}<br>Distance Total (m)=%{y}<extra></extra>",
         "legendgroup": "",
         "marker": {
          "color": "#636efa"
         },
         "name": "",
         "offsetgroup": "",
         "orientation": "v",
         "showlegend": false,
         "textposition": "auto",
         "type": "bar",
         "x": [
          1,
          2,
          3,
          4,
          5,
          6,
          7,
          8,
          9,
          10,
          11,
          12,
          13,
          14,
          15,
          16,
          17,
          18,
          19,
          20,
          21,
          22,
          23,
          24,
          25,
          26,
          27,
          28,
          29,
          30,
          31,
          32,
          33,
          34,
          35
         ],
         "xaxis": "x",
         "y": [
          133079,
          379960,
          365550,
          356959,
          0,
          0,
          700479,
          721817,
          419927,
          635754,
          723895,
          501792,
          627312,
          597483,
          650543,
          636780,
          207505,
          638994,
          331170,
          599686,
          385155,
          240559,
          510148,
          602072,
          610837,
          425949,
          390543,
          343644,
          269397,
          459441,
          377814,
          323917,
          591373,
          512988,
          530269
         ],
         "yaxis": "y"
        }
       ],
       "layout": {
        "barmode": "relative",
        "legend": {
         "tracegroupgap": 0
        },
        "margin": {
         "t": 60
        },
        "template": {
         "data": {
          "bar": [
           {
            "error_x": {
             "color": "#2a3f5f"
            },
            "error_y": {
             "color": "#2a3f5f"
            },
            "marker": {
             "line": {
              "color": "#E5ECF6",
              "width": 0.5
             }
            },
            "type": "bar"
           }
          ],
          "barpolar": [
           {
            "marker": {
             "line": {
              "color": "#E5ECF6",
              "width": 0.5
             }
            },
            "type": "barpolar"
           }
          ],
          "carpet": [
           {
            "aaxis": {
             "endlinecolor": "#2a3f5f",
             "gridcolor": "white",
             "linecolor": "white",
             "minorgridcolor": "white",
             "startlinecolor": "#2a3f5f"
            },
            "baxis": {
             "endlinecolor": "#2a3f5f",
             "gridcolor": "white",
             "linecolor": "white",
             "minorgridcolor": "white",
             "startlinecolor": "#2a3f5f"
            },
            "type": "carpet"
           }
          ],
          "choropleth": [
           {
            "colorbar": {
             "outlinewidth": 0,
             "ticks": ""
            },
            "type": "choropleth"
           }
          ],
          "contour": [
           {
            "colorbar": {
             "outlinewidth": 0,
             "ticks": ""
            },
            "colorscale": [
             [
              0,
              "#0d0887"
             ],
             [
              0.1111111111111111,
              "#46039f"
             ],
             [
              0.2222222222222222,
              "#7201a8"
             ],
             [
              0.3333333333333333,
              "#9c179e"
             ],
             [
              0.4444444444444444,
              "#bd3786"
             ],
             [
              0.5555555555555556,
              "#d8576b"
             ],
             [
              0.6666666666666666,
              "#ed7953"
             ],
             [
              0.7777777777777778,
              "#fb9f3a"
             ],
             [
              0.8888888888888888,
              "#fdca26"
             ],
             [
              1,
              "#f0f921"
             ]
            ],
            "type": "contour"
           }
          ],
          "contourcarpet": [
           {
            "colorbar": {
             "outlinewidth": 0,
             "ticks": ""
            },
            "type": "contourcarpet"
           }
          ],
          "heatmap": [
           {
            "colorbar": {
             "outlinewidth": 0,
             "ticks": ""
            },
            "colorscale": [
             [
              0,
              "#0d0887"
             ],
             [
              0.1111111111111111,
              "#46039f"
             ],
             [
              0.2222222222222222,
              "#7201a8"
             ],
             [
              0.3333333333333333,
              "#9c179e"
             ],
             [
              0.4444444444444444,
              "#bd3786"
             ],
             [
              0.5555555555555556,
              "#d8576b"
             ],
             [
              0.6666666666666666,
              "#ed7953"
             ],
             [
              0.7777777777777778,
              "#fb9f3a"
             ],
             [
              0.8888888888888888,
              "#fdca26"
             ],
             [
              1,
              "#f0f921"
             ]
            ],
            "type": "heatmap"
           }
          ],
          "heatmapgl": [
           {
            "colorbar": {
             "outlinewidth": 0,
             "ticks": ""
            },
            "colorscale": [
             [
              0,
              "#0d0887"
             ],
             [
              0.1111111111111111,
              "#46039f"
             ],
             [
              0.2222222222222222,
              "#7201a8"
             ],
             [
              0.3333333333333333,
              "#9c179e"
             ],
             [
              0.4444444444444444,
              "#bd3786"
             ],
             [
              0.5555555555555556,
              "#d8576b"
             ],
             [
              0.6666666666666666,
              "#ed7953"
             ],
             [
              0.7777777777777778,
              "#fb9f3a"
             ],
             [
              0.8888888888888888,
              "#fdca26"
             ],
             [
              1,
              "#f0f921"
             ]
            ],
            "type": "heatmapgl"
           }
          ],
          "histogram": [
           {
            "marker": {
             "colorbar": {
              "outlinewidth": 0,
              "ticks": ""
             }
            },
            "type": "histogram"
           }
          ],
          "histogram2d": [
           {
            "colorbar": {
             "outlinewidth": 0,
             "ticks": ""
            },
            "colorscale": [
             [
              0,
              "#0d0887"
             ],
             [
              0.1111111111111111,
              "#46039f"
             ],
             [
              0.2222222222222222,
              "#7201a8"
             ],
             [
              0.3333333333333333,
              "#9c179e"
             ],
             [
              0.4444444444444444,
              "#bd3786"
             ],
             [
              0.5555555555555556,
              "#d8576b"
             ],
             [
              0.6666666666666666,
              "#ed7953"
             ],
             [
              0.7777777777777778,
              "#fb9f3a"
             ],
             [
              0.8888888888888888,
              "#fdca26"
             ],
             [
              1,
              "#f0f921"
             ]
            ],
            "type": "histogram2d"
           }
          ],
          "histogram2dcontour": [
           {
            "colorbar": {
             "outlinewidth": 0,
             "ticks": ""
            },
            "colorscale": [
             [
              0,
              "#0d0887"
             ],
             [
              0.1111111111111111,
              "#46039f"
             ],
             [
              0.2222222222222222,
              "#7201a8"
             ],
             [
              0.3333333333333333,
              "#9c179e"
             ],
             [
              0.4444444444444444,
              "#bd3786"
             ],
             [
              0.5555555555555556,
              "#d8576b"
             ],
             [
              0.6666666666666666,
              "#ed7953"
             ],
             [
              0.7777777777777778,
              "#fb9f3a"
             ],
             [
              0.8888888888888888,
              "#fdca26"
             ],
             [
              1,
              "#f0f921"
             ]
            ],
            "type": "histogram2dcontour"
           }
          ],
          "mesh3d": [
           {
            "colorbar": {
             "outlinewidth": 0,
             "ticks": ""
            },
            "type": "mesh3d"
           }
          ],
          "parcoords": [
           {
            "line": {
             "colorbar": {
              "outlinewidth": 0,
              "ticks": ""
             }
            },
            "type": "parcoords"
           }
          ],
          "pie": [
           {
            "automargin": true,
            "type": "pie"
           }
          ],
          "scatter": [
           {
            "marker": {
             "colorbar": {
              "outlinewidth": 0,
              "ticks": ""
             }
            },
            "type": "scatter"
           }
          ],
          "scatter3d": [
           {
            "line": {
             "colorbar": {
              "outlinewidth": 0,
              "ticks": ""
             }
            },
            "marker": {
             "colorbar": {
              "outlinewidth": 0,
              "ticks": ""
             }
            },
            "type": "scatter3d"
           }
          ],
          "scattercarpet": [
           {
            "marker": {
             "colorbar": {
              "outlinewidth": 0,
              "ticks": ""
             }
            },
            "type": "scattercarpet"
           }
          ],
          "scattergeo": [
           {
            "marker": {
             "colorbar": {
              "outlinewidth": 0,
              "ticks": ""
             }
            },
            "type": "scattergeo"
           }
          ],
          "scattergl": [
           {
            "marker": {
             "colorbar": {
              "outlinewidth": 0,
              "ticks": ""
             }
            },
            "type": "scattergl"
           }
          ],
          "scattermapbox": [
           {
            "marker": {
             "colorbar": {
              "outlinewidth": 0,
              "ticks": ""
             }
            },
            "type": "scattermapbox"
           }
          ],
          "scatterpolar": [
           {
            "marker": {
             "colorbar": {
              "outlinewidth": 0,
              "ticks": ""
             }
            },
            "type": "scatterpolar"
           }
          ],
          "scatterpolargl": [
           {
            "marker": {
             "colorbar": {
              "outlinewidth": 0,
              "ticks": ""
             }
            },
            "type": "scatterpolargl"
           }
          ],
          "scatterternary": [
           {
            "marker": {
             "colorbar": {
              "outlinewidth": 0,
              "ticks": ""
             }
            },
            "type": "scatterternary"
           }
          ],
          "surface": [
           {
            "colorbar": {
             "outlinewidth": 0,
             "ticks": ""
            },
            "colorscale": [
             [
              0,
              "#0d0887"
             ],
             [
              0.1111111111111111,
              "#46039f"
             ],
             [
              0.2222222222222222,
              "#7201a8"
             ],
             [
              0.3333333333333333,
              "#9c179e"
             ],
             [
              0.4444444444444444,
              "#bd3786"
             ],
             [
              0.5555555555555556,
              "#d8576b"
             ],
             [
              0.6666666666666666,
              "#ed7953"
             ],
             [
              0.7777777777777778,
              "#fb9f3a"
             ],
             [
              0.8888888888888888,
              "#fdca26"
             ],
             [
              1,
              "#f0f921"
             ]
            ],
            "type": "surface"
           }
          ],
          "table": [
           {
            "cells": {
             "fill": {
              "color": "#EBF0F8"
             },
             "line": {
              "color": "white"
             }
            },
            "header": {
             "fill": {
              "color": "#C8D4E3"
             },
             "line": {
              "color": "white"
             }
            },
            "type": "table"
           }
          ]
         },
         "layout": {
          "annotationdefaults": {
           "arrowcolor": "#2a3f5f",
           "arrowhead": 0,
           "arrowwidth": 1
          },
          "autotypenumbers": "strict",
          "coloraxis": {
           "colorbar": {
            "outlinewidth": 0,
            "ticks": ""
           }
          },
          "colorscale": {
           "diverging": [
            [
             0,
             "#8e0152"
            ],
            [
             0.1,
             "#c51b7d"
            ],
            [
             0.2,
             "#de77ae"
            ],
            [
             0.3,
             "#f1b6da"
            ],
            [
             0.4,
             "#fde0ef"
            ],
            [
             0.5,
             "#f7f7f7"
            ],
            [
             0.6,
             "#e6f5d0"
            ],
            [
             0.7,
             "#b8e186"
            ],
            [
             0.8,
             "#7fbc41"
            ],
            [
             0.9,
             "#4d9221"
            ],
            [
             1,
             "#276419"
            ]
           ],
           "sequential": [
            [
             0,
             "#0d0887"
            ],
            [
             0.1111111111111111,
             "#46039f"
            ],
            [
             0.2222222222222222,
             "#7201a8"
            ],
            [
             0.3333333333333333,
             "#9c179e"
            ],
            [
             0.4444444444444444,
             "#bd3786"
            ],
            [
             0.5555555555555556,
             "#d8576b"
            ],
            [
             0.6666666666666666,
             "#ed7953"
            ],
            [
             0.7777777777777778,
             "#fb9f3a"
            ],
            [
             0.8888888888888888,
             "#fdca26"
            ],
            [
             1,
             "#f0f921"
            ]
           ],
           "sequentialminus": [
            [
             0,
             "#0d0887"
            ],
            [
             0.1111111111111111,
             "#46039f"
            ],
            [
             0.2222222222222222,
             "#7201a8"
            ],
            [
             0.3333333333333333,
             "#9c179e"
            ],
            [
             0.4444444444444444,
             "#bd3786"
            ],
            [
             0.5555555555555556,
             "#d8576b"
            ],
            [
             0.6666666666666666,
             "#ed7953"
            ],
            [
             0.7777777777777778,
             "#fb9f3a"
            ],
            [
             0.8888888888888888,
             "#fdca26"
            ],
            [
             1,
             "#f0f921"
            ]
           ]
          },
          "colorway": [
           "#636efa",
           "#EF553B",
           "#00cc96",
           "#ab63fa",
           "#FFA15A",
           "#19d3f3",
           "#FF6692",
           "#B6E880",
           "#FF97FF",
           "#FECB52"
          ],
          "font": {
           "color": "#2a3f5f"
          },
          "geo": {
           "bgcolor": "white",
           "lakecolor": "white",
           "landcolor": "#E5ECF6",
           "showlakes": true,
           "showland": true,
           "subunitcolor": "white"
          },
          "hoverlabel": {
           "align": "left"
          },
          "hovermode": "closest",
          "mapbox": {
           "style": "light"
          },
          "paper_bgcolor": "white",
          "plot_bgcolor": "#E5ECF6",
          "polar": {
           "angularaxis": {
            "gridcolor": "white",
            "linecolor": "white",
            "ticks": ""
           },
           "bgcolor": "#E5ECF6",
           "radialaxis": {
            "gridcolor": "white",
            "linecolor": "white",
            "ticks": ""
           }
          },
          "scene": {
           "xaxis": {
            "backgroundcolor": "#E5ECF6",
            "gridcolor": "white",
            "gridwidth": 2,
            "linecolor": "white",
            "showbackground": true,
            "ticks": "",
            "zerolinecolor": "white"
           },
           "yaxis": {
            "backgroundcolor": "#E5ECF6",
            "gridcolor": "white",
            "gridwidth": 2,
            "linecolor": "white",
            "showbackground": true,
            "ticks": "",
            "zerolinecolor": "white"
           },
           "zaxis": {
            "backgroundcolor": "#E5ECF6",
            "gridcolor": "white",
            "gridwidth": 2,
            "linecolor": "white",
            "showbackground": true,
            "ticks": "",
            "zerolinecolor": "white"
           }
          },
          "shapedefaults": {
           "line": {
            "color": "#2a3f5f"
           }
          },
          "ternary": {
           "aaxis": {
            "gridcolor": "white",
            "linecolor": "white",
            "ticks": ""
           },
           "baxis": {
            "gridcolor": "white",
            "linecolor": "white",
            "ticks": ""
           },
           "bgcolor": "#E5ECF6",
           "caxis": {
            "gridcolor": "white",
            "linecolor": "white",
            "ticks": ""
           }
          },
          "title": {
           "x": 0.05
          },
          "xaxis": {
           "automargin": true,
           "gridcolor": "white",
           "linecolor": "white",
           "ticks": "",
           "title": {
            "standoff": 15
           },
           "zerolinecolor": "white",
           "zerolinewidth": 2
          },
          "yaxis": {
           "automargin": true,
           "gridcolor": "white",
           "linecolor": "white",
           "ticks": "",
           "title": {
            "standoff": 15
           },
           "zerolinecolor": "white",
           "zerolinewidth": 2
          }
         }
        },
        "xaxis": {
         "anchor": "y",
         "domain": [
          0,
          1
         ],
         "title": {
          "text": "Week"
         }
        },
        "yaxis": {
         "anchor": "x",
         "domain": [
          0,
          1
         ],
         "title": {
          "text": "Distance Total (m)"
         }
        }
       }
      },
      "text/html": [
       "<div>                            <div id=\"3a008cf4-43d9-4645-9a43-1e6292c85ef7\" class=\"plotly-graph-div\" style=\"height:525px; width:100%;\"></div>            <script type=\"text/javascript\">                require([\"plotly\"], function(Plotly) {                    window.PLOTLYENV=window.PLOTLYENV || {};                                    if (document.getElementById(\"3a008cf4-43d9-4645-9a43-1e6292c85ef7\")) {                    Plotly.newPlot(                        \"3a008cf4-43d9-4645-9a43-1e6292c85ef7\",                        [{\"alignmentgroup\": \"True\", \"hovertemplate\": \"Week=%{x}<br>Distance Total (m)=%{y}<extra></extra>\", \"legendgroup\": \"\", \"marker\": {\"color\": \"#636efa\"}, \"name\": \"\", \"offsetgroup\": \"\", \"orientation\": \"v\", \"showlegend\": false, \"textposition\": \"auto\", \"type\": \"bar\", \"x\": [1, 2, 3, 4, 5, 6, 7, 8, 9, 10, 11, 12, 13, 14, 15, 16, 17, 18, 19, 20, 21, 22, 23, 24, 25, 26, 27, 28, 29, 30, 31, 32, 33, 34, 35], \"xaxis\": \"x\", \"y\": [133079.0, 379960.0, 365550.0, 356959.0, 0.0, 0.0, 700479.0, 721817.0, 419927.0, 635754.0, 723895.0, 501792.0, 627312.0, 597483.0, 650543.0, 636780.0, 207505.0, 638994.0, 331170.0, 599686.0, 385155.0, 240559.0, 510148.0, 602072.0, 610837.0, 425949.0, 390543.0, 343644.0, 269397.0, 459441.0, 377814.0, 323917.0, 591373.0, 512988.0, 530269.0], \"yaxis\": \"y\"}],                        {\"barmode\": \"relative\", \"legend\": {\"tracegroupgap\": 0}, \"margin\": {\"t\": 60}, \"template\": {\"data\": {\"bar\": [{\"error_x\": {\"color\": \"#2a3f5f\"}, \"error_y\": {\"color\": \"#2a3f5f\"}, \"marker\": {\"line\": {\"color\": \"#E5ECF6\", \"width\": 0.5}}, \"type\": \"bar\"}], \"barpolar\": [{\"marker\": {\"line\": {\"color\": \"#E5ECF6\", \"width\": 0.5}}, \"type\": \"barpolar\"}], \"carpet\": [{\"aaxis\": {\"endlinecolor\": \"#2a3f5f\", \"gridcolor\": \"white\", \"linecolor\": \"white\", \"minorgridcolor\": \"white\", \"startlinecolor\": \"#2a3f5f\"}, \"baxis\": {\"endlinecolor\": \"#2a3f5f\", \"gridcolor\": \"white\", \"linecolor\": \"white\", \"minorgridcolor\": \"white\", \"startlinecolor\": \"#2a3f5f\"}, \"type\": \"carpet\"}], \"choropleth\": [{\"colorbar\": {\"outlinewidth\": 0, \"ticks\": \"\"}, \"type\": \"choropleth\"}], \"contour\": [{\"colorbar\": {\"outlinewidth\": 0, \"ticks\": \"\"}, \"colorscale\": [[0.0, \"#0d0887\"], [0.1111111111111111, \"#46039f\"], [0.2222222222222222, \"#7201a8\"], [0.3333333333333333, \"#9c179e\"], [0.4444444444444444, \"#bd3786\"], [0.5555555555555556, \"#d8576b\"], [0.6666666666666666, \"#ed7953\"], [0.7777777777777778, \"#fb9f3a\"], [0.8888888888888888, \"#fdca26\"], [1.0, \"#f0f921\"]], \"type\": \"contour\"}], \"contourcarpet\": [{\"colorbar\": {\"outlinewidth\": 0, \"ticks\": \"\"}, \"type\": \"contourcarpet\"}], \"heatmap\": [{\"colorbar\": {\"outlinewidth\": 0, \"ticks\": \"\"}, \"colorscale\": [[0.0, \"#0d0887\"], [0.1111111111111111, \"#46039f\"], [0.2222222222222222, \"#7201a8\"], [0.3333333333333333, \"#9c179e\"], [0.4444444444444444, \"#bd3786\"], [0.5555555555555556, \"#d8576b\"], [0.6666666666666666, \"#ed7953\"], [0.7777777777777778, \"#fb9f3a\"], [0.8888888888888888, \"#fdca26\"], [1.0, \"#f0f921\"]], \"type\": \"heatmap\"}], \"heatmapgl\": [{\"colorbar\": {\"outlinewidth\": 0, \"ticks\": \"\"}, \"colorscale\": [[0.0, \"#0d0887\"], [0.1111111111111111, \"#46039f\"], [0.2222222222222222, \"#7201a8\"], [0.3333333333333333, \"#9c179e\"], [0.4444444444444444, \"#bd3786\"], [0.5555555555555556, \"#d8576b\"], [0.6666666666666666, \"#ed7953\"], [0.7777777777777778, \"#fb9f3a\"], [0.8888888888888888, \"#fdca26\"], [1.0, \"#f0f921\"]], \"type\": \"heatmapgl\"}], \"histogram\": [{\"marker\": {\"colorbar\": {\"outlinewidth\": 0, \"ticks\": \"\"}}, \"type\": \"histogram\"}], \"histogram2d\": [{\"colorbar\": {\"outlinewidth\": 0, \"ticks\": \"\"}, \"colorscale\": [[0.0, \"#0d0887\"], [0.1111111111111111, \"#46039f\"], [0.2222222222222222, \"#7201a8\"], [0.3333333333333333, \"#9c179e\"], [0.4444444444444444, \"#bd3786\"], [0.5555555555555556, \"#d8576b\"], [0.6666666666666666, \"#ed7953\"], [0.7777777777777778, \"#fb9f3a\"], [0.8888888888888888, \"#fdca26\"], [1.0, \"#f0f921\"]], \"type\": \"histogram2d\"}], \"histogram2dcontour\": [{\"colorbar\": {\"outlinewidth\": 0, \"ticks\": \"\"}, \"colorscale\": [[0.0, \"#0d0887\"], [0.1111111111111111, \"#46039f\"], [0.2222222222222222, \"#7201a8\"], [0.3333333333333333, \"#9c179e\"], [0.4444444444444444, \"#bd3786\"], [0.5555555555555556, \"#d8576b\"], [0.6666666666666666, \"#ed7953\"], [0.7777777777777778, \"#fb9f3a\"], [0.8888888888888888, \"#fdca26\"], [1.0, \"#f0f921\"]], \"type\": \"histogram2dcontour\"}], \"mesh3d\": [{\"colorbar\": {\"outlinewidth\": 0, \"ticks\": \"\"}, \"type\": \"mesh3d\"}], \"parcoords\": [{\"line\": {\"colorbar\": {\"outlinewidth\": 0, \"ticks\": \"\"}}, \"type\": \"parcoords\"}], \"pie\": [{\"automargin\": true, \"type\": \"pie\"}], \"scatter\": [{\"marker\": {\"colorbar\": {\"outlinewidth\": 0, \"ticks\": \"\"}}, \"type\": \"scatter\"}], \"scatter3d\": [{\"line\": {\"colorbar\": {\"outlinewidth\": 0, \"ticks\": \"\"}}, \"marker\": {\"colorbar\": {\"outlinewidth\": 0, \"ticks\": \"\"}}, \"type\": \"scatter3d\"}], \"scattercarpet\": [{\"marker\": {\"colorbar\": {\"outlinewidth\": 0, \"ticks\": \"\"}}, \"type\": \"scattercarpet\"}], \"scattergeo\": [{\"marker\": {\"colorbar\": {\"outlinewidth\": 0, \"ticks\": \"\"}}, \"type\": \"scattergeo\"}], \"scattergl\": [{\"marker\": {\"colorbar\": {\"outlinewidth\": 0, \"ticks\": \"\"}}, \"type\": \"scattergl\"}], \"scattermapbox\": [{\"marker\": {\"colorbar\": {\"outlinewidth\": 0, \"ticks\": \"\"}}, \"type\": \"scattermapbox\"}], \"scatterpolar\": [{\"marker\": {\"colorbar\": {\"outlinewidth\": 0, \"ticks\": \"\"}}, \"type\": \"scatterpolar\"}], \"scatterpolargl\": [{\"marker\": {\"colorbar\": {\"outlinewidth\": 0, \"ticks\": \"\"}}, \"type\": \"scatterpolargl\"}], \"scatterternary\": [{\"marker\": {\"colorbar\": {\"outlinewidth\": 0, \"ticks\": \"\"}}, \"type\": \"scatterternary\"}], \"surface\": [{\"colorbar\": {\"outlinewidth\": 0, \"ticks\": \"\"}, \"colorscale\": [[0.0, \"#0d0887\"], [0.1111111111111111, \"#46039f\"], [0.2222222222222222, \"#7201a8\"], [0.3333333333333333, \"#9c179e\"], [0.4444444444444444, \"#bd3786\"], [0.5555555555555556, \"#d8576b\"], [0.6666666666666666, \"#ed7953\"], [0.7777777777777778, \"#fb9f3a\"], [0.8888888888888888, \"#fdca26\"], [1.0, \"#f0f921\"]], \"type\": \"surface\"}], \"table\": [{\"cells\": {\"fill\": {\"color\": \"#EBF0F8\"}, \"line\": {\"color\": \"white\"}}, \"header\": {\"fill\": {\"color\": \"#C8D4E3\"}, \"line\": {\"color\": \"white\"}}, \"type\": \"table\"}]}, \"layout\": {\"annotationdefaults\": {\"arrowcolor\": \"#2a3f5f\", \"arrowhead\": 0, \"arrowwidth\": 1}, \"autotypenumbers\": \"strict\", \"coloraxis\": {\"colorbar\": {\"outlinewidth\": 0, \"ticks\": \"\"}}, \"colorscale\": {\"diverging\": [[0, \"#8e0152\"], [0.1, \"#c51b7d\"], [0.2, \"#de77ae\"], [0.3, \"#f1b6da\"], [0.4, \"#fde0ef\"], [0.5, \"#f7f7f7\"], [0.6, \"#e6f5d0\"], [0.7, \"#b8e186\"], [0.8, \"#7fbc41\"], [0.9, \"#4d9221\"], [1, \"#276419\"]], \"sequential\": [[0.0, \"#0d0887\"], [0.1111111111111111, \"#46039f\"], [0.2222222222222222, \"#7201a8\"], [0.3333333333333333, \"#9c179e\"], [0.4444444444444444, \"#bd3786\"], [0.5555555555555556, \"#d8576b\"], [0.6666666666666666, \"#ed7953\"], [0.7777777777777778, \"#fb9f3a\"], [0.8888888888888888, \"#fdca26\"], [1.0, \"#f0f921\"]], \"sequentialminus\": [[0.0, \"#0d0887\"], [0.1111111111111111, \"#46039f\"], [0.2222222222222222, \"#7201a8\"], [0.3333333333333333, \"#9c179e\"], [0.4444444444444444, \"#bd3786\"], [0.5555555555555556, \"#d8576b\"], [0.6666666666666666, \"#ed7953\"], [0.7777777777777778, \"#fb9f3a\"], [0.8888888888888888, \"#fdca26\"], [1.0, \"#f0f921\"]]}, \"colorway\": [\"#636efa\", \"#EF553B\", \"#00cc96\", \"#ab63fa\", \"#FFA15A\", \"#19d3f3\", \"#FF6692\", \"#B6E880\", \"#FF97FF\", \"#FECB52\"], \"font\": {\"color\": \"#2a3f5f\"}, \"geo\": {\"bgcolor\": \"white\", \"lakecolor\": \"white\", \"landcolor\": \"#E5ECF6\", \"showlakes\": true, \"showland\": true, \"subunitcolor\": \"white\"}, \"hoverlabel\": {\"align\": \"left\"}, \"hovermode\": \"closest\", \"mapbox\": {\"style\": \"light\"}, \"paper_bgcolor\": \"white\", \"plot_bgcolor\": \"#E5ECF6\", \"polar\": {\"angularaxis\": {\"gridcolor\": \"white\", \"linecolor\": \"white\", \"ticks\": \"\"}, \"bgcolor\": \"#E5ECF6\", \"radialaxis\": {\"gridcolor\": \"white\", \"linecolor\": \"white\", \"ticks\": \"\"}}, \"scene\": {\"xaxis\": {\"backgroundcolor\": \"#E5ECF6\", \"gridcolor\": \"white\", \"gridwidth\": 2, \"linecolor\": \"white\", \"showbackground\": true, \"ticks\": \"\", \"zerolinecolor\": \"white\"}, \"yaxis\": {\"backgroundcolor\": \"#E5ECF6\", \"gridcolor\": \"white\", \"gridwidth\": 2, \"linecolor\": \"white\", \"showbackground\": true, \"ticks\": \"\", \"zerolinecolor\": \"white\"}, \"zaxis\": {\"backgroundcolor\": \"#E5ECF6\", \"gridcolor\": \"white\", \"gridwidth\": 2, \"linecolor\": \"white\", \"showbackground\": true, \"ticks\": \"\", \"zerolinecolor\": \"white\"}}, \"shapedefaults\": {\"line\": {\"color\": \"#2a3f5f\"}}, \"ternary\": {\"aaxis\": {\"gridcolor\": \"white\", \"linecolor\": \"white\", \"ticks\": \"\"}, \"baxis\": {\"gridcolor\": \"white\", \"linecolor\": \"white\", \"ticks\": \"\"}, \"bgcolor\": \"#E5ECF6\", \"caxis\": {\"gridcolor\": \"white\", \"linecolor\": \"white\", \"ticks\": \"\"}}, \"title\": {\"x\": 0.05}, \"xaxis\": {\"automargin\": true, \"gridcolor\": \"white\", \"linecolor\": \"white\", \"ticks\": \"\", \"title\": {\"standoff\": 15}, \"zerolinecolor\": \"white\", \"zerolinewidth\": 2}, \"yaxis\": {\"automargin\": true, \"gridcolor\": \"white\", \"linecolor\": \"white\", \"ticks\": \"\", \"title\": {\"standoff\": 15}, \"zerolinecolor\": \"white\", \"zerolinewidth\": 2}}}, \"xaxis\": {\"anchor\": \"y\", \"domain\": [0.0, 1.0], \"title\": {\"text\": \"Week\"}}, \"yaxis\": {\"anchor\": \"x\", \"domain\": [0.0, 1.0], \"title\": {\"text\": \"Distance Total (m)\"}}},                        {\"responsive\": true}                    ).then(function(){\n",
       "                            \n",
       "var gd = document.getElementById('3a008cf4-43d9-4645-9a43-1e6292c85ef7');\n",
       "var x = new MutationObserver(function (mutations, observer) {{\n",
       "        var display = window.getComputedStyle(gd).display;\n",
       "        if (!display || display === 'none') {{\n",
       "            console.log([gd, 'removed!']);\n",
       "            Plotly.purge(gd);\n",
       "            observer.disconnect();\n",
       "        }}\n",
       "}});\n",
       "\n",
       "// Listen for the removal of the full notebook cells\n",
       "var notebookContainer = gd.closest('#notebook-container');\n",
       "if (notebookContainer) {{\n",
       "    x.observe(notebookContainer, {childList: true});\n",
       "}}\n",
       "\n",
       "// Listen for the clearing of the current output cell\n",
       "var outputEl = gd.closest('.output');\n",
       "if (outputEl) {{\n",
       "    x.observe(outputEl, {childList: true});\n",
       "}}\n",
       "\n",
       "                        })                };                });            </script>        </div>"
      ]
     },
     "metadata": {},
     "output_type": "display_data"
    }
   ],
   "source": [
    "df_hebdo_total = df_plot.groupby(['Week']).agg(agg_func_hebdo)\n",
    "df_hebdo_total.reset_index(inplace=True)\n",
    "\n",
    "px.bar(df_hebdo_total, x='Week', y='Distance Total (m)')"
   ]
  },
  {
   "cell_type": "markdown",
   "id": "caa05e7c",
   "metadata": {},
   "source": [
    "**Visualisation du nombre de séances par semaine**"
   ]
  },
  {
   "cell_type": "code",
   "execution_count": 114,
   "id": "ec1e8351",
   "metadata": {},
   "outputs": [
    {
     "data": {
      "application/vnd.plotly.v1+json": {
       "config": {
        "plotlyServerURL": "https://plot.ly"
       },
       "data": [
        {
         "alignmentgroup": "True",
         "hovertemplate": "Week=%{x}<br>Max=%{y}<extra></extra>",
         "legendgroup": "",
         "marker": {
          "color": "#636efa"
         },
         "name": "",
         "offsetgroup": "",
         "orientation": "v",
         "showlegend": false,
         "textposition": "auto",
         "type": "bar",
         "x": [
          1,
          2,
          3,
          4,
          7,
          8,
          9,
          10,
          11,
          12,
          13,
          14,
          15,
          16,
          17,
          18,
          19,
          20,
          21,
          22,
          23,
          24,
          25,
          26,
          27,
          28,
          29,
          30,
          31,
          32,
          33,
          34,
          35
         ],
         "xaxis": "x",
         "y": [
          1,
          3,
          3,
          2,
          4,
          4,
          4,
          5,
          6,
          4,
          3,
          4,
          5,
          4,
          3,
          4,
          2,
          4,
          4,
          3,
          4,
          5,
          3,
          3,
          4,
          3,
          4,
          5,
          3,
          4,
          4,
          4,
          4
         ],
         "yaxis": "y"
        }
       ],
       "layout": {
        "barmode": "relative",
        "legend": {
         "tracegroupgap": 0
        },
        "margin": {
         "t": 60
        },
        "template": {
         "data": {
          "bar": [
           {
            "error_x": {
             "color": "#2a3f5f"
            },
            "error_y": {
             "color": "#2a3f5f"
            },
            "marker": {
             "line": {
              "color": "#E5ECF6",
              "width": 0.5
             }
            },
            "type": "bar"
           }
          ],
          "barpolar": [
           {
            "marker": {
             "line": {
              "color": "#E5ECF6",
              "width": 0.5
             }
            },
            "type": "barpolar"
           }
          ],
          "carpet": [
           {
            "aaxis": {
             "endlinecolor": "#2a3f5f",
             "gridcolor": "white",
             "linecolor": "white",
             "minorgridcolor": "white",
             "startlinecolor": "#2a3f5f"
            },
            "baxis": {
             "endlinecolor": "#2a3f5f",
             "gridcolor": "white",
             "linecolor": "white",
             "minorgridcolor": "white",
             "startlinecolor": "#2a3f5f"
            },
            "type": "carpet"
           }
          ],
          "choropleth": [
           {
            "colorbar": {
             "outlinewidth": 0,
             "ticks": ""
            },
            "type": "choropleth"
           }
          ],
          "contour": [
           {
            "colorbar": {
             "outlinewidth": 0,
             "ticks": ""
            },
            "colorscale": [
             [
              0,
              "#0d0887"
             ],
             [
              0.1111111111111111,
              "#46039f"
             ],
             [
              0.2222222222222222,
              "#7201a8"
             ],
             [
              0.3333333333333333,
              "#9c179e"
             ],
             [
              0.4444444444444444,
              "#bd3786"
             ],
             [
              0.5555555555555556,
              "#d8576b"
             ],
             [
              0.6666666666666666,
              "#ed7953"
             ],
             [
              0.7777777777777778,
              "#fb9f3a"
             ],
             [
              0.8888888888888888,
              "#fdca26"
             ],
             [
              1,
              "#f0f921"
             ]
            ],
            "type": "contour"
           }
          ],
          "contourcarpet": [
           {
            "colorbar": {
             "outlinewidth": 0,
             "ticks": ""
            },
            "type": "contourcarpet"
           }
          ],
          "heatmap": [
           {
            "colorbar": {
             "outlinewidth": 0,
             "ticks": ""
            },
            "colorscale": [
             [
              0,
              "#0d0887"
             ],
             [
              0.1111111111111111,
              "#46039f"
             ],
             [
              0.2222222222222222,
              "#7201a8"
             ],
             [
              0.3333333333333333,
              "#9c179e"
             ],
             [
              0.4444444444444444,
              "#bd3786"
             ],
             [
              0.5555555555555556,
              "#d8576b"
             ],
             [
              0.6666666666666666,
              "#ed7953"
             ],
             [
              0.7777777777777778,
              "#fb9f3a"
             ],
             [
              0.8888888888888888,
              "#fdca26"
             ],
             [
              1,
              "#f0f921"
             ]
            ],
            "type": "heatmap"
           }
          ],
          "heatmapgl": [
           {
            "colorbar": {
             "outlinewidth": 0,
             "ticks": ""
            },
            "colorscale": [
             [
              0,
              "#0d0887"
             ],
             [
              0.1111111111111111,
              "#46039f"
             ],
             [
              0.2222222222222222,
              "#7201a8"
             ],
             [
              0.3333333333333333,
              "#9c179e"
             ],
             [
              0.4444444444444444,
              "#bd3786"
             ],
             [
              0.5555555555555556,
              "#d8576b"
             ],
             [
              0.6666666666666666,
              "#ed7953"
             ],
             [
              0.7777777777777778,
              "#fb9f3a"
             ],
             [
              0.8888888888888888,
              "#fdca26"
             ],
             [
              1,
              "#f0f921"
             ]
            ],
            "type": "heatmapgl"
           }
          ],
          "histogram": [
           {
            "marker": {
             "colorbar": {
              "outlinewidth": 0,
              "ticks": ""
             }
            },
            "type": "histogram"
           }
          ],
          "histogram2d": [
           {
            "colorbar": {
             "outlinewidth": 0,
             "ticks": ""
            },
            "colorscale": [
             [
              0,
              "#0d0887"
             ],
             [
              0.1111111111111111,
              "#46039f"
             ],
             [
              0.2222222222222222,
              "#7201a8"
             ],
             [
              0.3333333333333333,
              "#9c179e"
             ],
             [
              0.4444444444444444,
              "#bd3786"
             ],
             [
              0.5555555555555556,
              "#d8576b"
             ],
             [
              0.6666666666666666,
              "#ed7953"
             ],
             [
              0.7777777777777778,
              "#fb9f3a"
             ],
             [
              0.8888888888888888,
              "#fdca26"
             ],
             [
              1,
              "#f0f921"
             ]
            ],
            "type": "histogram2d"
           }
          ],
          "histogram2dcontour": [
           {
            "colorbar": {
             "outlinewidth": 0,
             "ticks": ""
            },
            "colorscale": [
             [
              0,
              "#0d0887"
             ],
             [
              0.1111111111111111,
              "#46039f"
             ],
             [
              0.2222222222222222,
              "#7201a8"
             ],
             [
              0.3333333333333333,
              "#9c179e"
             ],
             [
              0.4444444444444444,
              "#bd3786"
             ],
             [
              0.5555555555555556,
              "#d8576b"
             ],
             [
              0.6666666666666666,
              "#ed7953"
             ],
             [
              0.7777777777777778,
              "#fb9f3a"
             ],
             [
              0.8888888888888888,
              "#fdca26"
             ],
             [
              1,
              "#f0f921"
             ]
            ],
            "type": "histogram2dcontour"
           }
          ],
          "mesh3d": [
           {
            "colorbar": {
             "outlinewidth": 0,
             "ticks": ""
            },
            "type": "mesh3d"
           }
          ],
          "parcoords": [
           {
            "line": {
             "colorbar": {
              "outlinewidth": 0,
              "ticks": ""
             }
            },
            "type": "parcoords"
           }
          ],
          "pie": [
           {
            "automargin": true,
            "type": "pie"
           }
          ],
          "scatter": [
           {
            "marker": {
             "colorbar": {
              "outlinewidth": 0,
              "ticks": ""
             }
            },
            "type": "scatter"
           }
          ],
          "scatter3d": [
           {
            "line": {
             "colorbar": {
              "outlinewidth": 0,
              "ticks": ""
             }
            },
            "marker": {
             "colorbar": {
              "outlinewidth": 0,
              "ticks": ""
             }
            },
            "type": "scatter3d"
           }
          ],
          "scattercarpet": [
           {
            "marker": {
             "colorbar": {
              "outlinewidth": 0,
              "ticks": ""
             }
            },
            "type": "scattercarpet"
           }
          ],
          "scattergeo": [
           {
            "marker": {
             "colorbar": {
              "outlinewidth": 0,
              "ticks": ""
             }
            },
            "type": "scattergeo"
           }
          ],
          "scattergl": [
           {
            "marker": {
             "colorbar": {
              "outlinewidth": 0,
              "ticks": ""
             }
            },
            "type": "scattergl"
           }
          ],
          "scattermapbox": [
           {
            "marker": {
             "colorbar": {
              "outlinewidth": 0,
              "ticks": ""
             }
            },
            "type": "scattermapbox"
           }
          ],
          "scatterpolar": [
           {
            "marker": {
             "colorbar": {
              "outlinewidth": 0,
              "ticks": ""
             }
            },
            "type": "scatterpolar"
           }
          ],
          "scatterpolargl": [
           {
            "marker": {
             "colorbar": {
              "outlinewidth": 0,
              "ticks": ""
             }
            },
            "type": "scatterpolargl"
           }
          ],
          "scatterternary": [
           {
            "marker": {
             "colorbar": {
              "outlinewidth": 0,
              "ticks": ""
             }
            },
            "type": "scatterternary"
           }
          ],
          "surface": [
           {
            "colorbar": {
             "outlinewidth": 0,
             "ticks": ""
            },
            "colorscale": [
             [
              0,
              "#0d0887"
             ],
             [
              0.1111111111111111,
              "#46039f"
             ],
             [
              0.2222222222222222,
              "#7201a8"
             ],
             [
              0.3333333333333333,
              "#9c179e"
             ],
             [
              0.4444444444444444,
              "#bd3786"
             ],
             [
              0.5555555555555556,
              "#d8576b"
             ],
             [
              0.6666666666666666,
              "#ed7953"
             ],
             [
              0.7777777777777778,
              "#fb9f3a"
             ],
             [
              0.8888888888888888,
              "#fdca26"
             ],
             [
              1,
              "#f0f921"
             ]
            ],
            "type": "surface"
           }
          ],
          "table": [
           {
            "cells": {
             "fill": {
              "color": "#EBF0F8"
             },
             "line": {
              "color": "white"
             }
            },
            "header": {
             "fill": {
              "color": "#C8D4E3"
             },
             "line": {
              "color": "white"
             }
            },
            "type": "table"
           }
          ]
         },
         "layout": {
          "annotationdefaults": {
           "arrowcolor": "#2a3f5f",
           "arrowhead": 0,
           "arrowwidth": 1
          },
          "autotypenumbers": "strict",
          "coloraxis": {
           "colorbar": {
            "outlinewidth": 0,
            "ticks": ""
           }
          },
          "colorscale": {
           "diverging": [
            [
             0,
             "#8e0152"
            ],
            [
             0.1,
             "#c51b7d"
            ],
            [
             0.2,
             "#de77ae"
            ],
            [
             0.3,
             "#f1b6da"
            ],
            [
             0.4,
             "#fde0ef"
            ],
            [
             0.5,
             "#f7f7f7"
            ],
            [
             0.6,
             "#e6f5d0"
            ],
            [
             0.7,
             "#b8e186"
            ],
            [
             0.8,
             "#7fbc41"
            ],
            [
             0.9,
             "#4d9221"
            ],
            [
             1,
             "#276419"
            ]
           ],
           "sequential": [
            [
             0,
             "#0d0887"
            ],
            [
             0.1111111111111111,
             "#46039f"
            ],
            [
             0.2222222222222222,
             "#7201a8"
            ],
            [
             0.3333333333333333,
             "#9c179e"
            ],
            [
             0.4444444444444444,
             "#bd3786"
            ],
            [
             0.5555555555555556,
             "#d8576b"
            ],
            [
             0.6666666666666666,
             "#ed7953"
            ],
            [
             0.7777777777777778,
             "#fb9f3a"
            ],
            [
             0.8888888888888888,
             "#fdca26"
            ],
            [
             1,
             "#f0f921"
            ]
           ],
           "sequentialminus": [
            [
             0,
             "#0d0887"
            ],
            [
             0.1111111111111111,
             "#46039f"
            ],
            [
             0.2222222222222222,
             "#7201a8"
            ],
            [
             0.3333333333333333,
             "#9c179e"
            ],
            [
             0.4444444444444444,
             "#bd3786"
            ],
            [
             0.5555555555555556,
             "#d8576b"
            ],
            [
             0.6666666666666666,
             "#ed7953"
            ],
            [
             0.7777777777777778,
             "#fb9f3a"
            ],
            [
             0.8888888888888888,
             "#fdca26"
            ],
            [
             1,
             "#f0f921"
            ]
           ]
          },
          "colorway": [
           "#636efa",
           "#EF553B",
           "#00cc96",
           "#ab63fa",
           "#FFA15A",
           "#19d3f3",
           "#FF6692",
           "#B6E880",
           "#FF97FF",
           "#FECB52"
          ],
          "font": {
           "color": "#2a3f5f"
          },
          "geo": {
           "bgcolor": "white",
           "lakecolor": "white",
           "landcolor": "#E5ECF6",
           "showlakes": true,
           "showland": true,
           "subunitcolor": "white"
          },
          "hoverlabel": {
           "align": "left"
          },
          "hovermode": "closest",
          "mapbox": {
           "style": "light"
          },
          "paper_bgcolor": "white",
          "plot_bgcolor": "#E5ECF6",
          "polar": {
           "angularaxis": {
            "gridcolor": "white",
            "linecolor": "white",
            "ticks": ""
           },
           "bgcolor": "#E5ECF6",
           "radialaxis": {
            "gridcolor": "white",
            "linecolor": "white",
            "ticks": ""
           }
          },
          "scene": {
           "xaxis": {
            "backgroundcolor": "#E5ECF6",
            "gridcolor": "white",
            "gridwidth": 2,
            "linecolor": "white",
            "showbackground": true,
            "ticks": "",
            "zerolinecolor": "white"
           },
           "yaxis": {
            "backgroundcolor": "#E5ECF6",
            "gridcolor": "white",
            "gridwidth": 2,
            "linecolor": "white",
            "showbackground": true,
            "ticks": "",
            "zerolinecolor": "white"
           },
           "zaxis": {
            "backgroundcolor": "#E5ECF6",
            "gridcolor": "white",
            "gridwidth": 2,
            "linecolor": "white",
            "showbackground": true,
            "ticks": "",
            "zerolinecolor": "white"
           }
          },
          "shapedefaults": {
           "line": {
            "color": "#2a3f5f"
           }
          },
          "ternary": {
           "aaxis": {
            "gridcolor": "white",
            "linecolor": "white",
            "ticks": ""
           },
           "baxis": {
            "gridcolor": "white",
            "linecolor": "white",
            "ticks": ""
           },
           "bgcolor": "#E5ECF6",
           "caxis": {
            "gridcolor": "white",
            "linecolor": "white",
            "ticks": ""
           }
          },
          "title": {
           "x": 0.05
          },
          "xaxis": {
           "automargin": true,
           "gridcolor": "white",
           "linecolor": "white",
           "ticks": "",
           "title": {
            "standoff": 15
           },
           "zerolinecolor": "white",
           "zerolinewidth": 2
          },
          "yaxis": {
           "automargin": true,
           "gridcolor": "white",
           "linecolor": "white",
           "ticks": "",
           "title": {
            "standoff": 15
           },
           "zerolinecolor": "white",
           "zerolinewidth": 2
          }
         }
        },
        "xaxis": {
         "anchor": "y",
         "domain": [
          0,
          1
         ],
         "title": {
          "text": "Week"
         }
        },
        "yaxis": {
         "anchor": "x",
         "domain": [
          0,
          1
         ],
         "title": {
          "text": "Max"
         }
        }
       }
      },
      "text/html": [
       "<div>                            <div id=\"b400d920-9172-4a53-a77c-41b5a53c1f8d\" class=\"plotly-graph-div\" style=\"height:525px; width:100%;\"></div>            <script type=\"text/javascript\">                require([\"plotly\"], function(Plotly) {                    window.PLOTLYENV=window.PLOTLYENV || {};                                    if (document.getElementById(\"b400d920-9172-4a53-a77c-41b5a53c1f8d\")) {                    Plotly.newPlot(                        \"b400d920-9172-4a53-a77c-41b5a53c1f8d\",                        [{\"alignmentgroup\": \"True\", \"hovertemplate\": \"Week=%{x}<br>Max=%{y}<extra></extra>\", \"legendgroup\": \"\", \"marker\": {\"color\": \"#636efa\"}, \"name\": \"\", \"offsetgroup\": \"\", \"orientation\": \"v\", \"showlegend\": false, \"textposition\": \"auto\", \"type\": \"bar\", \"x\": [1, 2, 3, 4, 7, 8, 9, 10, 11, 12, 13, 14, 15, 16, 17, 18, 19, 20, 21, 22, 23, 24, 25, 26, 27, 28, 29, 30, 31, 32, 33, 34, 35], \"xaxis\": \"x\", \"y\": [1, 3, 3, 2, 4, 4, 4, 5, 6, 4, 3, 4, 5, 4, 3, 4, 2, 4, 4, 3, 4, 5, 3, 3, 4, 3, 4, 5, 3, 4, 4, 4, 4], \"yaxis\": \"y\"}],                        {\"barmode\": \"relative\", \"legend\": {\"tracegroupgap\": 0}, \"margin\": {\"t\": 60}, \"template\": {\"data\": {\"bar\": [{\"error_x\": {\"color\": \"#2a3f5f\"}, \"error_y\": {\"color\": \"#2a3f5f\"}, \"marker\": {\"line\": {\"color\": \"#E5ECF6\", \"width\": 0.5}}, \"type\": \"bar\"}], \"barpolar\": [{\"marker\": {\"line\": {\"color\": \"#E5ECF6\", \"width\": 0.5}}, \"type\": \"barpolar\"}], \"carpet\": [{\"aaxis\": {\"endlinecolor\": \"#2a3f5f\", \"gridcolor\": \"white\", \"linecolor\": \"white\", \"minorgridcolor\": \"white\", \"startlinecolor\": \"#2a3f5f\"}, \"baxis\": {\"endlinecolor\": \"#2a3f5f\", \"gridcolor\": \"white\", \"linecolor\": \"white\", \"minorgridcolor\": \"white\", \"startlinecolor\": \"#2a3f5f\"}, \"type\": \"carpet\"}], \"choropleth\": [{\"colorbar\": {\"outlinewidth\": 0, \"ticks\": \"\"}, \"type\": \"choropleth\"}], \"contour\": [{\"colorbar\": {\"outlinewidth\": 0, \"ticks\": \"\"}, \"colorscale\": [[0.0, \"#0d0887\"], [0.1111111111111111, \"#46039f\"], [0.2222222222222222, \"#7201a8\"], [0.3333333333333333, \"#9c179e\"], [0.4444444444444444, \"#bd3786\"], [0.5555555555555556, \"#d8576b\"], [0.6666666666666666, \"#ed7953\"], [0.7777777777777778, \"#fb9f3a\"], [0.8888888888888888, \"#fdca26\"], [1.0, \"#f0f921\"]], \"type\": \"contour\"}], \"contourcarpet\": [{\"colorbar\": {\"outlinewidth\": 0, \"ticks\": \"\"}, \"type\": \"contourcarpet\"}], \"heatmap\": [{\"colorbar\": {\"outlinewidth\": 0, \"ticks\": \"\"}, \"colorscale\": [[0.0, \"#0d0887\"], [0.1111111111111111, \"#46039f\"], [0.2222222222222222, \"#7201a8\"], [0.3333333333333333, \"#9c179e\"], [0.4444444444444444, \"#bd3786\"], [0.5555555555555556, \"#d8576b\"], [0.6666666666666666, \"#ed7953\"], [0.7777777777777778, \"#fb9f3a\"], [0.8888888888888888, \"#fdca26\"], [1.0, \"#f0f921\"]], \"type\": \"heatmap\"}], \"heatmapgl\": [{\"colorbar\": {\"outlinewidth\": 0, \"ticks\": \"\"}, \"colorscale\": [[0.0, \"#0d0887\"], [0.1111111111111111, \"#46039f\"], [0.2222222222222222, \"#7201a8\"], [0.3333333333333333, \"#9c179e\"], [0.4444444444444444, \"#bd3786\"], [0.5555555555555556, \"#d8576b\"], [0.6666666666666666, \"#ed7953\"], [0.7777777777777778, \"#fb9f3a\"], [0.8888888888888888, \"#fdca26\"], [1.0, \"#f0f921\"]], \"type\": \"heatmapgl\"}], \"histogram\": [{\"marker\": {\"colorbar\": {\"outlinewidth\": 0, \"ticks\": \"\"}}, \"type\": \"histogram\"}], \"histogram2d\": [{\"colorbar\": {\"outlinewidth\": 0, \"ticks\": \"\"}, \"colorscale\": [[0.0, \"#0d0887\"], [0.1111111111111111, \"#46039f\"], [0.2222222222222222, \"#7201a8\"], [0.3333333333333333, \"#9c179e\"], [0.4444444444444444, \"#bd3786\"], [0.5555555555555556, \"#d8576b\"], [0.6666666666666666, \"#ed7953\"], [0.7777777777777778, \"#fb9f3a\"], [0.8888888888888888, \"#fdca26\"], [1.0, \"#f0f921\"]], \"type\": \"histogram2d\"}], \"histogram2dcontour\": [{\"colorbar\": {\"outlinewidth\": 0, \"ticks\": \"\"}, \"colorscale\": [[0.0, \"#0d0887\"], [0.1111111111111111, \"#46039f\"], [0.2222222222222222, \"#7201a8\"], [0.3333333333333333, \"#9c179e\"], [0.4444444444444444, \"#bd3786\"], [0.5555555555555556, \"#d8576b\"], [0.6666666666666666, \"#ed7953\"], [0.7777777777777778, \"#fb9f3a\"], [0.8888888888888888, \"#fdca26\"], [1.0, \"#f0f921\"]], \"type\": \"histogram2dcontour\"}], \"mesh3d\": [{\"colorbar\": {\"outlinewidth\": 0, \"ticks\": \"\"}, \"type\": \"mesh3d\"}], \"parcoords\": [{\"line\": {\"colorbar\": {\"outlinewidth\": 0, \"ticks\": \"\"}}, \"type\": \"parcoords\"}], \"pie\": [{\"automargin\": true, \"type\": \"pie\"}], \"scatter\": [{\"marker\": {\"colorbar\": {\"outlinewidth\": 0, \"ticks\": \"\"}}, \"type\": \"scatter\"}], \"scatter3d\": [{\"line\": {\"colorbar\": {\"outlinewidth\": 0, \"ticks\": \"\"}}, \"marker\": {\"colorbar\": {\"outlinewidth\": 0, \"ticks\": \"\"}}, \"type\": \"scatter3d\"}], \"scattercarpet\": [{\"marker\": {\"colorbar\": {\"outlinewidth\": 0, \"ticks\": \"\"}}, \"type\": \"scattercarpet\"}], \"scattergeo\": [{\"marker\": {\"colorbar\": {\"outlinewidth\": 0, \"ticks\": \"\"}}, \"type\": \"scattergeo\"}], \"scattergl\": [{\"marker\": {\"colorbar\": {\"outlinewidth\": 0, \"ticks\": \"\"}}, \"type\": \"scattergl\"}], \"scattermapbox\": [{\"marker\": {\"colorbar\": {\"outlinewidth\": 0, \"ticks\": \"\"}}, \"type\": \"scattermapbox\"}], \"scatterpolar\": [{\"marker\": {\"colorbar\": {\"outlinewidth\": 0, \"ticks\": \"\"}}, \"type\": \"scatterpolar\"}], \"scatterpolargl\": [{\"marker\": {\"colorbar\": {\"outlinewidth\": 0, \"ticks\": \"\"}}, \"type\": \"scatterpolargl\"}], \"scatterternary\": [{\"marker\": {\"colorbar\": {\"outlinewidth\": 0, \"ticks\": \"\"}}, \"type\": \"scatterternary\"}], \"surface\": [{\"colorbar\": {\"outlinewidth\": 0, \"ticks\": \"\"}, \"colorscale\": [[0.0, \"#0d0887\"], [0.1111111111111111, \"#46039f\"], [0.2222222222222222, \"#7201a8\"], [0.3333333333333333, \"#9c179e\"], [0.4444444444444444, \"#bd3786\"], [0.5555555555555556, \"#d8576b\"], [0.6666666666666666, \"#ed7953\"], [0.7777777777777778, \"#fb9f3a\"], [0.8888888888888888, \"#fdca26\"], [1.0, \"#f0f921\"]], \"type\": \"surface\"}], \"table\": [{\"cells\": {\"fill\": {\"color\": \"#EBF0F8\"}, \"line\": {\"color\": \"white\"}}, \"header\": {\"fill\": {\"color\": \"#C8D4E3\"}, \"line\": {\"color\": \"white\"}}, \"type\": \"table\"}]}, \"layout\": {\"annotationdefaults\": {\"arrowcolor\": \"#2a3f5f\", \"arrowhead\": 0, \"arrowwidth\": 1}, \"autotypenumbers\": \"strict\", \"coloraxis\": {\"colorbar\": {\"outlinewidth\": 0, \"ticks\": \"\"}}, \"colorscale\": {\"diverging\": [[0, \"#8e0152\"], [0.1, \"#c51b7d\"], [0.2, \"#de77ae\"], [0.3, \"#f1b6da\"], [0.4, \"#fde0ef\"], [0.5, \"#f7f7f7\"], [0.6, \"#e6f5d0\"], [0.7, \"#b8e186\"], [0.8, \"#7fbc41\"], [0.9, \"#4d9221\"], [1, \"#276419\"]], \"sequential\": [[0.0, \"#0d0887\"], [0.1111111111111111, \"#46039f\"], [0.2222222222222222, \"#7201a8\"], [0.3333333333333333, \"#9c179e\"], [0.4444444444444444, \"#bd3786\"], [0.5555555555555556, \"#d8576b\"], [0.6666666666666666, \"#ed7953\"], [0.7777777777777778, \"#fb9f3a\"], [0.8888888888888888, \"#fdca26\"], [1.0, \"#f0f921\"]], \"sequentialminus\": [[0.0, \"#0d0887\"], [0.1111111111111111, \"#46039f\"], [0.2222222222222222, \"#7201a8\"], [0.3333333333333333, \"#9c179e\"], [0.4444444444444444, \"#bd3786\"], [0.5555555555555556, \"#d8576b\"], [0.6666666666666666, \"#ed7953\"], [0.7777777777777778, \"#fb9f3a\"], [0.8888888888888888, \"#fdca26\"], [1.0, \"#f0f921\"]]}, \"colorway\": [\"#636efa\", \"#EF553B\", \"#00cc96\", \"#ab63fa\", \"#FFA15A\", \"#19d3f3\", \"#FF6692\", \"#B6E880\", \"#FF97FF\", \"#FECB52\"], \"font\": {\"color\": \"#2a3f5f\"}, \"geo\": {\"bgcolor\": \"white\", \"lakecolor\": \"white\", \"landcolor\": \"#E5ECF6\", \"showlakes\": true, \"showland\": true, \"subunitcolor\": \"white\"}, \"hoverlabel\": {\"align\": \"left\"}, \"hovermode\": \"closest\", \"mapbox\": {\"style\": \"light\"}, \"paper_bgcolor\": \"white\", \"plot_bgcolor\": \"#E5ECF6\", \"polar\": {\"angularaxis\": {\"gridcolor\": \"white\", \"linecolor\": \"white\", \"ticks\": \"\"}, \"bgcolor\": \"#E5ECF6\", \"radialaxis\": {\"gridcolor\": \"white\", \"linecolor\": \"white\", \"ticks\": \"\"}}, \"scene\": {\"xaxis\": {\"backgroundcolor\": \"#E5ECF6\", \"gridcolor\": \"white\", \"gridwidth\": 2, \"linecolor\": \"white\", \"showbackground\": true, \"ticks\": \"\", \"zerolinecolor\": \"white\"}, \"yaxis\": {\"backgroundcolor\": \"#E5ECF6\", \"gridcolor\": \"white\", \"gridwidth\": 2, \"linecolor\": \"white\", \"showbackground\": true, \"ticks\": \"\", \"zerolinecolor\": \"white\"}, \"zaxis\": {\"backgroundcolor\": \"#E5ECF6\", \"gridcolor\": \"white\", \"gridwidth\": 2, \"linecolor\": \"white\", \"showbackground\": true, \"ticks\": \"\", \"zerolinecolor\": \"white\"}}, \"shapedefaults\": {\"line\": {\"color\": \"#2a3f5f\"}}, \"ternary\": {\"aaxis\": {\"gridcolor\": \"white\", \"linecolor\": \"white\", \"ticks\": \"\"}, \"baxis\": {\"gridcolor\": \"white\", \"linecolor\": \"white\", \"ticks\": \"\"}, \"bgcolor\": \"#E5ECF6\", \"caxis\": {\"gridcolor\": \"white\", \"linecolor\": \"white\", \"ticks\": \"\"}}, \"title\": {\"x\": 0.05}, \"xaxis\": {\"automargin\": true, \"gridcolor\": \"white\", \"linecolor\": \"white\", \"ticks\": \"\", \"title\": {\"standoff\": 15}, \"zerolinecolor\": \"white\", \"zerolinewidth\": 2}, \"yaxis\": {\"automargin\": true, \"gridcolor\": \"white\", \"linecolor\": \"white\", \"ticks\": \"\", \"title\": {\"standoff\": 15}, \"zerolinecolor\": \"white\", \"zerolinewidth\": 2}}}, \"xaxis\": {\"anchor\": \"y\", \"domain\": [0.0, 1.0], \"title\": {\"text\": \"Week\"}}, \"yaxis\": {\"anchor\": \"x\", \"domain\": [0.0, 1.0], \"title\": {\"text\": \"Max\"}}},                        {\"responsive\": true}                    ).then(function(){\n",
       "                            \n",
       "var gd = document.getElementById('b400d920-9172-4a53-a77c-41b5a53c1f8d');\n",
       "var x = new MutationObserver(function (mutations, observer) {{\n",
       "        var display = window.getComputedStyle(gd).display;\n",
       "        if (!display || display === 'none') {{\n",
       "            console.log([gd, 'removed!']);\n",
       "            Plotly.purge(gd);\n",
       "            observer.disconnect();\n",
       "        }}\n",
       "}});\n",
       "\n",
       "// Listen for the removal of the full notebook cells\n",
       "var notebookContainer = gd.closest('#notebook-container');\n",
       "if (notebookContainer) {{\n",
       "    x.observe(notebookContainer, {childList: true});\n",
       "}}\n",
       "\n",
       "// Listen for the clearing of the current output cell\n",
       "var outputEl = gd.closest('.output');\n",
       "if (outputEl) {{\n",
       "    x.observe(outputEl, {childList: true});\n",
       "}}\n",
       "\n",
       "                        })                };                });            </script>        </div>"
      ]
     },
     "metadata": {},
     "output_type": "display_data"
    }
   ],
   "source": [
    "ct_bis = pd.crosstab(df_plot.loc[df_plot['Type']=='Training','Week'],\n",
    "                  df_plot.loc[df_plot['Type']=='Training','Athlete'])\n",
    "\n",
    "ct_bis['Max'] = ct_bis.max(axis=1)\n",
    "ct_bis.reset_index(inplace=True)\n",
    "px.bar(ct_bis, x='Week', y='Max')"
   ]
  },
  {
   "cell_type": "markdown",
   "id": "fec2a3ec",
   "metadata": {},
   "source": [
    "**Clustering**\n",
    "\n",
    "*Séparation de la df en deux, par groupes de joueurs : il me semble plus intéressant de standardiser les données par rapport à chaque groupe spécifique plutôt que l'effectif entier (de par la spécificité de l'activité)*"
   ]
  },
  {
   "cell_type": "code",
   "execution_count": 115,
   "id": "692f724d",
   "metadata": {},
   "outputs": [],
   "source": [
    "#Analyse des 5 semaines qui ont suivi la coupure de Noël\n",
    "df_cluster = df.loc[(df['Week'] >= 7)&(df['Week'] <=11)].copy()\n",
    "df_cluster.sort_values(by='Unit', inplace=True)\n",
    "df_cluster = df_cluster.reset_index().drop(columns='index')\n",
    "\n",
    "cluster_bck = df_cluster.loc[df_cluster['Unit']=='Back', marqueurs]\n",
    "cluster_fwd = df_cluster.loc[df_cluster['Unit']=='Forward', marqueurs]"
   ]
  },
  {
   "cell_type": "code",
   "execution_count": 116,
   "id": "a71ac9f0",
   "metadata": {},
   "outputs": [
    {
     "data": {
      "image/png": "[encoded data removed]",
      "text/plain": [
       "<Figure size 864x720 with 1 Axes>"
      ]
     },
     "metadata": {
      "needs_background": "light"
     },
     "output_type": "display_data"
    }
   ],
   "source": [
    "z_scaler = StandardScaler()\n",
    "\n",
    "cluster_bck_z = z_scaler.fit_transform(cluster_bck)\n",
    "cluster_fws_z = z_scaler.fit_transform(cluster_fwd)\n",
    "\n",
    "df_cluster_z = pd.concat([pd.DataFrame(cluster_bck_z),pd.DataFrame(cluster_fws_z)]).reset_index().drop(columns='index')\n",
    "\n",
    "hac_dend = linkage(df_cluster_z, method='ward', metric='euclidean')\n",
    "plt.figure(figsize=(12,10))\n",
    "dendrogram(hac_dend)\n",
    "plt.show()"
   ]
  },
  {
   "cell_type": "markdown",
   "id": "f695d353",
   "metadata": {},
   "source": [
    "**On observe 3 classes**"
   ]
  },
  {
   "cell_type": "code",
   "execution_count": 117,
   "id": "ecf13f47",
   "metadata": {},
   "outputs": [
    {
     "data": {
      "text/plain": [
       "0    465\n",
       "1    284\n",
       "2     44\n",
       "Name: Cluster_Label, dtype: int64"
      ]
     },
     "execution_count": 117,
     "metadata": {},
     "output_type": "execute_result"
    }
   ],
   "source": [
    "model = AgglomerativeClustering(n_clusters=3, affinity='euclidean', linkage='ward')\n",
    "model.fit(df_cluster_z)\n",
    "labels = model.labels_\n",
    "\n",
    "df_cluster['Cluster_Label'] = labels\n",
    "df_cluster['Cluster_Label'].value_counts()"
   ]
  },
  {
   "cell_type": "markdown",
   "id": "e0fe3d09",
   "metadata": {},
   "source": [
    "**Création d'un tableau récapitulatif de sensibilité à chaque cluster/classe**"
   ]
  },
  {
   "cell_type": "code",
   "execution_count": 118,
   "id": "17a251d2",
   "metadata": {},
   "outputs": [
    {
     "data": {
      "text/html": [
       "<div>\n",
       "<style scoped>\n",
       "    .dataframe tbody tr th:only-of-type {\n",
       "        vertical-align: middle;\n",
       "    }\n",
       "\n",
       "    .dataframe tbody tr th {\n",
       "        vertical-align: top;\n",
       "    }\n",
       "\n",
       "    .dataframe thead th {\n",
       "        text-align: right;\n",
       "    }\n",
       "</style>\n",
       "<table border=\"1\" class=\"dataframe\">\n",
       "  <thead>\n",
       "    <tr style=\"text-align: right;\">\n",
       "      <th></th>\n",
       "      <th>% Cluster_1</th>\n",
       "      <th>% Cluster_2</th>\n",
       "      <th>% Cluster_3</th>\n",
       "      <th>Cluster_Label</th>\n",
       "    </tr>\n",
       "    <tr>\n",
       "      <th>Athlete</th>\n",
       "      <th></th>\n",
       "      <th></th>\n",
       "      <th></th>\n",
       "      <th></th>\n",
       "    </tr>\n",
       "  </thead>\n",
       "  <tbody>\n",
       "    <tr>\n",
       "      <th>Player 1</th>\n",
       "      <td>50.0</td>\n",
       "      <td>36.0</td>\n",
       "      <td>14.0</td>\n",
       "      <td>Cluster 1</td>\n",
       "    </tr>\n",
       "    <tr>\n",
       "      <th>Player 7</th>\n",
       "      <td>59.0</td>\n",
       "      <td>31.0</td>\n",
       "      <td>10.0</td>\n",
       "      <td>Cluster 1</td>\n",
       "    </tr>\n",
       "    <tr>\n",
       "      <th>Player 6</th>\n",
       "      <td>82.0</td>\n",
       "      <td>18.0</td>\n",
       "      <td>0.0</td>\n",
       "      <td>Cluster 1</td>\n",
       "    </tr>\n",
       "    <tr>\n",
       "      <th>Player 4</th>\n",
       "      <td>67.0</td>\n",
       "      <td>27.0</td>\n",
       "      <td>7.0</td>\n",
       "      <td>Cluster 1</td>\n",
       "    </tr>\n",
       "    <tr>\n",
       "      <th>Player 35</th>\n",
       "      <td>57.0</td>\n",
       "      <td>33.0</td>\n",
       "      <td>10.0</td>\n",
       "      <td>Cluster 1</td>\n",
       "    </tr>\n",
       "    <tr>\n",
       "      <th>Player 34</th>\n",
       "      <td>60.0</td>\n",
       "      <td>40.0</td>\n",
       "      <td>0.0</td>\n",
       "      <td>Cluster 1</td>\n",
       "    </tr>\n",
       "    <tr>\n",
       "      <th>Player 32</th>\n",
       "      <td>86.0</td>\n",
       "      <td>14.0</td>\n",
       "      <td>0.0</td>\n",
       "      <td>Cluster 1</td>\n",
       "    </tr>\n",
       "    <tr>\n",
       "      <th>Player 30</th>\n",
       "      <td>50.0</td>\n",
       "      <td>40.0</td>\n",
       "      <td>10.0</td>\n",
       "      <td>Cluster 1</td>\n",
       "    </tr>\n",
       "    <tr>\n",
       "      <th>Player 3</th>\n",
       "      <td>55.0</td>\n",
       "      <td>35.0</td>\n",
       "      <td>10.0</td>\n",
       "      <td>Cluster 1</td>\n",
       "    </tr>\n",
       "    <tr>\n",
       "      <th>Player 29</th>\n",
       "      <td>73.0</td>\n",
       "      <td>27.0</td>\n",
       "      <td>0.0</td>\n",
       "      <td>Cluster 1</td>\n",
       "    </tr>\n",
       "    <tr>\n",
       "      <th>Player 28</th>\n",
       "      <td>50.0</td>\n",
       "      <td>31.0</td>\n",
       "      <td>19.0</td>\n",
       "      <td>Cluster 1</td>\n",
       "    </tr>\n",
       "    <tr>\n",
       "      <th>Player 27</th>\n",
       "      <td>64.0</td>\n",
       "      <td>29.0</td>\n",
       "      <td>7.0</td>\n",
       "      <td>Cluster 1</td>\n",
       "    </tr>\n",
       "    <tr>\n",
       "      <th>Player 8</th>\n",
       "      <td>56.0</td>\n",
       "      <td>40.0</td>\n",
       "      <td>4.0</td>\n",
       "      <td>Cluster 1</td>\n",
       "    </tr>\n",
       "    <tr>\n",
       "      <th>Player 25</th>\n",
       "      <td>64.0</td>\n",
       "      <td>32.0</td>\n",
       "      <td>4.0</td>\n",
       "      <td>Cluster 1</td>\n",
       "    </tr>\n",
       "    <tr>\n",
       "      <th>Player 24</th>\n",
       "      <td>64.0</td>\n",
       "      <td>36.0</td>\n",
       "      <td>0.0</td>\n",
       "      <td>Cluster 1</td>\n",
       "    </tr>\n",
       "    <tr>\n",
       "      <th>Player 26</th>\n",
       "      <td>59.0</td>\n",
       "      <td>41.0</td>\n",
       "      <td>0.0</td>\n",
       "      <td>Cluster 1</td>\n",
       "    </tr>\n",
       "    <tr>\n",
       "      <th>Player 22</th>\n",
       "      <td>100.0</td>\n",
       "      <td>0.0</td>\n",
       "      <td>0.0</td>\n",
       "      <td>Cluster 1</td>\n",
       "    </tr>\n",
       "    <tr>\n",
       "      <th>Player 21</th>\n",
       "      <td>71.0</td>\n",
       "      <td>25.0</td>\n",
       "      <td>4.0</td>\n",
       "      <td>Cluster 1</td>\n",
       "    </tr>\n",
       "    <tr>\n",
       "      <th>Player 10</th>\n",
       "      <td>70.0</td>\n",
       "      <td>26.0</td>\n",
       "      <td>4.0</td>\n",
       "      <td>Cluster 1</td>\n",
       "    </tr>\n",
       "    <tr>\n",
       "      <th>Player 2</th>\n",
       "      <td>58.0</td>\n",
       "      <td>38.0</td>\n",
       "      <td>4.0</td>\n",
       "      <td>Cluster 1</td>\n",
       "    </tr>\n",
       "    <tr>\n",
       "      <th>Player 19</th>\n",
       "      <td>53.0</td>\n",
       "      <td>37.0</td>\n",
       "      <td>10.0</td>\n",
       "      <td>Cluster 1</td>\n",
       "    </tr>\n",
       "    <tr>\n",
       "      <th>Player 17</th>\n",
       "      <td>62.0</td>\n",
       "      <td>38.0</td>\n",
       "      <td>0.0</td>\n",
       "      <td>Cluster 1</td>\n",
       "    </tr>\n",
       "    <tr>\n",
       "      <th>Player 16</th>\n",
       "      <td>89.0</td>\n",
       "      <td>6.0</td>\n",
       "      <td>6.0</td>\n",
       "      <td>Cluster 1</td>\n",
       "    </tr>\n",
       "    <tr>\n",
       "      <th>Player 15</th>\n",
       "      <td>87.0</td>\n",
       "      <td>9.0</td>\n",
       "      <td>4.0</td>\n",
       "      <td>Cluster 1</td>\n",
       "    </tr>\n",
       "    <tr>\n",
       "      <th>Player 23</th>\n",
       "      <td>88.0</td>\n",
       "      <td>12.0</td>\n",
       "      <td>0.0</td>\n",
       "      <td>Cluster 1</td>\n",
       "    </tr>\n",
       "    <tr>\n",
       "      <th>Player 14</th>\n",
       "      <td>58.0</td>\n",
       "      <td>42.0</td>\n",
       "      <td>0.0</td>\n",
       "      <td>Cluster 1</td>\n",
       "    </tr>\n",
       "    <tr>\n",
       "      <th>Player 12</th>\n",
       "      <td>72.0</td>\n",
       "      <td>28.0</td>\n",
       "      <td>0.0</td>\n",
       "      <td>Cluster 1</td>\n",
       "    </tr>\n",
       "    <tr>\n",
       "      <th>Player 11</th>\n",
       "      <td>39.0</td>\n",
       "      <td>52.0</td>\n",
       "      <td>9.0</td>\n",
       "      <td>Cluster 2</td>\n",
       "    </tr>\n",
       "    <tr>\n",
       "      <th>Player 5</th>\n",
       "      <td>41.0</td>\n",
       "      <td>59.0</td>\n",
       "      <td>0.0</td>\n",
       "      <td>Cluster 2</td>\n",
       "    </tr>\n",
       "    <tr>\n",
       "      <th>Player 37</th>\n",
       "      <td>36.0</td>\n",
       "      <td>59.0</td>\n",
       "      <td>5.0</td>\n",
       "      <td>Cluster 2</td>\n",
       "    </tr>\n",
       "    <tr>\n",
       "      <th>Player 33</th>\n",
       "      <td>38.0</td>\n",
       "      <td>57.0</td>\n",
       "      <td>5.0</td>\n",
       "      <td>Cluster 2</td>\n",
       "    </tr>\n",
       "    <tr>\n",
       "      <th>Player 13</th>\n",
       "      <td>39.0</td>\n",
       "      <td>48.0</td>\n",
       "      <td>13.0</td>\n",
       "      <td>Cluster 2</td>\n",
       "    </tr>\n",
       "    <tr>\n",
       "      <th>Player 31</th>\n",
       "      <td>35.0</td>\n",
       "      <td>55.0</td>\n",
       "      <td>10.0</td>\n",
       "      <td>Cluster 2</td>\n",
       "    </tr>\n",
       "    <tr>\n",
       "      <th>Player 18</th>\n",
       "      <td>25.0</td>\n",
       "      <td>65.0</td>\n",
       "      <td>10.0</td>\n",
       "      <td>Cluster 2</td>\n",
       "    </tr>\n",
       "    <tr>\n",
       "      <th>Player 20</th>\n",
       "      <td>41.0</td>\n",
       "      <td>59.0</td>\n",
       "      <td>0.0</td>\n",
       "      <td>Cluster 2</td>\n",
       "    </tr>\n",
       "    <tr>\n",
       "      <th>Player 36</th>\n",
       "      <td>16.0</td>\n",
       "      <td>63.0</td>\n",
       "      <td>21.0</td>\n",
       "      <td>Cluster 2</td>\n",
       "    </tr>\n",
       "    <tr>\n",
       "      <th>Player 9</th>\n",
       "      <td>46.0</td>\n",
       "      <td>54.0</td>\n",
       "      <td>0.0</td>\n",
       "      <td>Cluster 2</td>\n",
       "    </tr>\n",
       "  </tbody>\n",
       "</table>\n",
       "</div>"
      ],
      "text/plain": [
       "           % Cluster_1  % Cluster_2  % Cluster_3 Cluster_Label\n",
       "Athlete                                                       \n",
       "Player 1          50.0         36.0         14.0     Cluster 1\n",
       "Player 7          59.0         31.0         10.0     Cluster 1\n",
       "Player 6          82.0         18.0          0.0     Cluster 1\n",
       "Player 4          67.0         27.0          7.0     Cluster 1\n",
       "Player 35         57.0         33.0         10.0     Cluster 1\n",
       "Player 34         60.0         40.0          0.0     Cluster 1\n",
       "Player 32         86.0         14.0          0.0     Cluster 1\n",
       "Player 30         50.0         40.0         10.0     Cluster 1\n",
       "Player 3          55.0         35.0         10.0     Cluster 1\n",
       "Player 29         73.0         27.0          0.0     Cluster 1\n",
       "Player 28         50.0         31.0         19.0     Cluster 1\n",
       "Player 27         64.0         29.0          7.0     Cluster 1\n",
       "Player 8          56.0         40.0          4.0     Cluster 1\n",
       "Player 25         64.0         32.0          4.0     Cluster 1\n",
       "Player 24         64.0         36.0          0.0     Cluster 1\n",
       "Player 26         59.0         41.0          0.0     Cluster 1\n",
       "Player 22        100.0          0.0          0.0     Cluster 1\n",
       "Player 21         71.0         25.0          4.0     Cluster 1\n",
       "Player 10         70.0         26.0          4.0     Cluster 1\n",
       "Player 2          58.0         38.0          4.0     Cluster 1\n",
       "Player 19         53.0         37.0         10.0     Cluster 1\n",
       "Player 17         62.0         38.0          0.0     Cluster 1\n",
       "Player 16         89.0          6.0          6.0     Cluster 1\n",
       "Player 15         87.0          9.0          4.0     Cluster 1\n",
       "Player 23         88.0         12.0          0.0     Cluster 1\n",
       "Player 14         58.0         42.0          0.0     Cluster 1\n",
       "Player 12         72.0         28.0          0.0     Cluster 1\n",
       "Player 11         39.0         52.0          9.0     Cluster 2\n",
       "Player 5          41.0         59.0          0.0     Cluster 2\n",
       "Player 37         36.0         59.0          5.0     Cluster 2\n",
       "Player 33         38.0         57.0          5.0     Cluster 2\n",
       "Player 13         39.0         48.0         13.0     Cluster 2\n",
       "Player 31         35.0         55.0         10.0     Cluster 2\n",
       "Player 18         25.0         65.0         10.0     Cluster 2\n",
       "Player 20         41.0         59.0          0.0     Cluster 2\n",
       "Player 36         16.0         63.0         21.0     Cluster 2\n",
       "Player 9          46.0         54.0          0.0     Cluster 2"
      ]
     },
     "execution_count": 118,
     "metadata": {},
     "output_type": "execute_result"
    }
   ],
   "source": [
    "df_cluster['Total_Athlete'] = df_cluster.groupby('Athlete').Week.transform('count')\n",
    "\n",
    "df_cluster['Cluster_1'] = df_cluster.groupby('Athlete')['Cluster_Label'].transform(lambda x: (x==0).sum())\n",
    "df_cluster['Cluster_2'] = df_cluster.groupby('Athlete')['Cluster_Label'].transform(lambda x: (x==1).sum())\n",
    "df_cluster['Cluster_3'] = df_cluster.groupby('Athlete')['Cluster_Label'].transform(lambda x: (x==2).sum())\n",
    "\n",
    "df_cluster['% Cluster_1'] = ((df_cluster['Cluster_1'] / df_cluster['Total_Athlete']) * 100).round()\n",
    "df_cluster['% Cluster_2'] = ((df_cluster['Cluster_2'] / df_cluster['Total_Athlete']) * 100).round()\n",
    "df_cluster['% Cluster_3'] = ((df_cluster['Cluster_3'] / df_cluster['Total_Athlete']) * 100).round()\n",
    "\n",
    "df_cluster_ct = df_cluster[['Athlete', '% Cluster_1', '% Cluster_2', '% Cluster_3', 'Cluster_Label']]\n",
    "\n",
    "agg_func = {}\n",
    "\n",
    "for c in df_cluster_ct.columns[1:]:\n",
    "    if c != 'Cluster_Label':\n",
    "        agg_func[c] = 'median'\n",
    "    else:\n",
    "        agg_func[c] = pd.Series.mode\n",
    "\n",
    "df_cluster_recap = df_cluster_ct.groupby('Athlete').agg(agg_func)\n",
    "\n",
    "df_cluster_recap['Cluster_Label'].replace({0:'Cluster 1', 1:'Cluster 2', 2:'Cluster 3'}, inplace=True)\n",
    "df_cluster_recap.sort_values(by='Cluster_Label')"
   ]
  },
  {
   "cell_type": "markdown",
   "id": "3bedcdb1",
   "metadata": {},
   "source": [
    "**Création d'un tableau descriptif des classes**\n",
    "\n",
    "*On observera que le Cluster 1 a tendance a parcourir moins de distance*"
   ]
  },
  {
   "cell_type": "code",
   "execution_count": 119,
   "id": "e0459bfd",
   "metadata": {},
   "outputs": [
    {
     "data": {
      "text/html": [
       "<div>\n",
       "<style scoped>\n",
       "    .dataframe tbody tr th:only-of-type {\n",
       "        vertical-align: middle;\n",
       "    }\n",
       "\n",
       "    .dataframe tbody tr th {\n",
       "        vertical-align: top;\n",
       "    }\n",
       "\n",
       "    .dataframe thead th {\n",
       "        text-align: right;\n",
       "    }\n",
       "</style>\n",
       "<table border=\"1\" class=\"dataframe\">\n",
       "  <thead>\n",
       "    <tr style=\"text-align: right;\">\n",
       "      <th></th>\n",
       "      <th>Cluster 1</th>\n",
       "      <th>Cluster 2</th>\n",
       "    </tr>\n",
       "  </thead>\n",
       "  <tbody>\n",
       "    <tr>\n",
       "      <th>Distance Total (m)</th>\n",
       "      <td>-0.5</td>\n",
       "      <td>0.73</td>\n",
       "    </tr>\n",
       "    <tr>\n",
       "      <th>m/min</th>\n",
       "      <td>-0.3</td>\n",
       "      <td>0.3</td>\n",
       "    </tr>\n",
       "    <tr>\n",
       "      <th>High Int Speed (m)</th>\n",
       "      <td>-0.39</td>\n",
       "      <td>0.68</td>\n",
       "    </tr>\n",
       "    <tr>\n",
       "      <th>Sprints (m)</th>\n",
       "      <td>-0.45</td>\n",
       "      <td>0.92</td>\n",
       "    </tr>\n",
       "    <tr>\n",
       "      <th>Hi Int Acceleration (nb)</th>\n",
       "      <td>-0.43</td>\n",
       "      <td>0.95</td>\n",
       "    </tr>\n",
       "    <tr>\n",
       "      <th>Hi Int Deceleration (nb)</th>\n",
       "      <td>-0.4</td>\n",
       "      <td>0.74</td>\n",
       "    </tr>\n",
       "    <tr>\n",
       "      <th>80% Distance Hi Int (m)</th>\n",
       "      <td>0.0</td>\n",
       "      <td>0.19</td>\n",
       "    </tr>\n",
       "    <tr>\n",
       "      <th>85% Distance Hi Int (m)</th>\n",
       "      <td>0.0</td>\n",
       "      <td>0.0</td>\n",
       "    </tr>\n",
       "    <tr>\n",
       "      <th>90% Distance Hi Int (m)</th>\n",
       "      <td>0.0</td>\n",
       "      <td>0.0</td>\n",
       "    </tr>\n",
       "    <tr>\n",
       "      <th>&gt;85% Distance (m)</th>\n",
       "      <td>0.0</td>\n",
       "      <td>0.0</td>\n",
       "    </tr>\n",
       "  </tbody>\n",
       "</table>\n",
       "</div>"
      ],
      "text/plain": [
       "                         Cluster 1 Cluster 2\n",
       "Distance Total (m)            -0.5      0.73\n",
       "m/min                         -0.3       0.3\n",
       "High Int Speed (m)           -0.39      0.68\n",
       "Sprints (m)                  -0.45      0.92\n",
       "Hi Int Acceleration (nb)     -0.43      0.95\n",
       "Hi Int Deceleration (nb)      -0.4      0.74\n",
       "80% Distance Hi Int (m)        0.0      0.19\n",
       "85% Distance Hi Int (m)        0.0       0.0\n",
       "90% Distance Hi Int (m)        0.0       0.0\n",
       ">85% Distance (m)              0.0       0.0"
      ]
     },
     "execution_count": 119,
     "metadata": {},
     "output_type": "execute_result"
    }
   ],
   "source": [
    "df_hac = df_cluster.merge(df_cluster_z, left_index=True, right_index=True)\n",
    "\n",
    "rename_scaled = {}\n",
    "i = 0\n",
    "for m in marqueurs:\n",
    "    rename_scaled[i] = m+'_z'\n",
    "    i += 1\n",
    "\n",
    "df_hac.rename(columns=rename_scaled, inplace=True)\n",
    "df_hac['Cluster_Label'].replace({0:'Cluster 1', 1:'Cluster 2', 2:'Cluster 3'}, inplace=True)\n",
    "\n",
    "df_recap_cluster = pd.DataFrame(columns=['Cluster 1', 'Cluster 2'], index=marqueurs)\n",
    "\n",
    "for col in df_recap_cluster.columns:\n",
    "    for m in marqueurs:\n",
    "        diff = df_hac.loc[df_hac['Cluster_Label']==col, m+'_z'].median() - df_hac[m+'_z'].median()\n",
    "        df_recap_cluster.loc[m,col] = np.round(diff,2)\n",
    "        \n",
    "df_recap_cluster.rename({'Cluster 1': 'Cluster 1 (diff)', 'Cluster 2': 'Cluster 2 (diff, médiane)'}, inplace=True)\n",
    "df_recap_cluster"
   ]
  },
  {
   "cell_type": "markdown",
   "id": "099f5296",
   "metadata": {},
   "source": [
    "**Réalisation d'un test KMO avant de réaliser l'ACP**\n",
    "\n",
    "*On obervera que le score total est convenable et que deux marqueurs ne sont pas utiles (car score bas)*"
   ]
  },
  {
   "cell_type": "code",
   "execution_count": 120,
   "id": "03c688a2",
   "metadata": {},
   "outputs": [
    {
     "name": "stdout",
     "output_type": "stream",
     "text": [
      "Overall KMO : 0.6382791016599043\n"
     ]
    },
    {
     "data": {
      "text/html": [
       "<div>\n",
       "<style scoped>\n",
       "    .dataframe tbody tr th:only-of-type {\n",
       "        vertical-align: middle;\n",
       "    }\n",
       "\n",
       "    .dataframe tbody tr th {\n",
       "        vertical-align: top;\n",
       "    }\n",
       "\n",
       "    .dataframe thead th {\n",
       "        text-align: right;\n",
       "    }\n",
       "</style>\n",
       "<table border=\"1\" class=\"dataframe\">\n",
       "  <thead>\n",
       "    <tr style=\"text-align: right;\">\n",
       "      <th></th>\n",
       "      <th>KMO</th>\n",
       "    </tr>\n",
       "  </thead>\n",
       "  <tbody>\n",
       "    <tr>\n",
       "      <th>Distance Total (m)</th>\n",
       "      <td>0.714145</td>\n",
       "    </tr>\n",
       "    <tr>\n",
       "      <th>m/min</th>\n",
       "      <td>0.751263</td>\n",
       "    </tr>\n",
       "    <tr>\n",
       "      <th>High Int Speed (m)</th>\n",
       "      <td>0.657221</td>\n",
       "    </tr>\n",
       "    <tr>\n",
       "      <th>Sprints (m)</th>\n",
       "      <td>0.682561</td>\n",
       "    </tr>\n",
       "    <tr>\n",
       "      <th>Hi Int Acceleration (nb)</th>\n",
       "      <td>0.773540</td>\n",
       "    </tr>\n",
       "    <tr>\n",
       "      <th>Hi Int Deceleration (nb)</th>\n",
       "      <td>0.815035</td>\n",
       "    </tr>\n",
       "    <tr>\n",
       "      <th>80% Distance Hi Int (m)</th>\n",
       "      <td>0.947075</td>\n",
       "    </tr>\n",
       "    <tr>\n",
       "      <th>85% Distance Hi Int (m)</th>\n",
       "      <td>0.489299</td>\n",
       "    </tr>\n",
       "    <tr>\n",
       "      <th>90% Distance Hi Int (m)</th>\n",
       "      <td>0.434731</td>\n",
       "    </tr>\n",
       "    <tr>\n",
       "      <th>&gt;85% Distance (m)</th>\n",
       "      <td>0.519152</td>\n",
       "    </tr>\n",
       "  </tbody>\n",
       "</table>\n",
       "</div>"
      ],
      "text/plain": [
       "                               KMO\n",
       "Distance Total (m)        0.714145\n",
       "m/min                     0.751263\n",
       "High Int Speed (m)        0.657221\n",
       "Sprints (m)               0.682561\n",
       "Hi Int Acceleration (nb)  0.773540\n",
       "Hi Int Deceleration (nb)  0.815035\n",
       "80% Distance Hi Int (m)   0.947075\n",
       "85% Distance Hi Int (m)   0.489299\n",
       "90% Distance Hi Int (m)   0.434731\n",
       ">85% Distance (m)         0.519152"
      ]
     },
     "execution_count": 120,
     "metadata": {},
     "output_type": "execute_result"
    }
   ],
   "source": [
    "kmo_all, kmo_model = calculate_kmo(df_hac.iloc[:,7:17])\n",
    "print('Overall KMO : {}'.format(kmo_model))\n",
    "pd.DataFrame(index=marqueurs, data=kmo_all, columns=['KMO'])"
   ]
  },
  {
   "cell_type": "code",
   "execution_count": 121,
   "id": "88cde142",
   "metadata": {},
   "outputs": [],
   "source": [
    "marqueurs_z_pca = ['Distance Total (m)_z', 'm/min_z', 'High Int Speed (m)_z', 'Sprints (m)_z', 'Hi Int Acceleration (nb)_z',\n",
    "                   'Hi Int Deceleration (nb)_z', '80% Distance Hi Int (m)_z', '>85% Distance (m)_z', '>85% Distance (m)_z']\n",
    "\n",
    "df_pca_scaled = df_hac[marqueurs_z_pca]\n",
    "\n",
    "pca = PCA(n_components=2)\n",
    "df_pca = pca.fit_transform(df_pca_scaled)"
   ]
  },
  {
   "cell_type": "markdown",
   "id": "85e62535",
   "metadata": {},
   "source": [
    "**Visualisation à l'aide des CP**\n",
    "\n",
    "*On visualise bien que le Cluster est en dessous*"
   ]
  },
  {
   "cell_type": "code",
   "execution_count": 122,
   "id": "2a10e690",
   "metadata": {},
   "outputs": [
    {
     "data": {
      "text/plain": [
       "<AxesSubplot:xlabel='PC2', ylabel='PC1'>"
      ]
     },
     "execution_count": 122,
     "metadata": {},
     "output_type": "execute_result"
    },
    {
     "data": {
      "image/png": "[encoded data removed]",
      "text/plain": [
       "<Figure size 864x432 with 1 Axes>"
      ]
     },
     "metadata": {
      "needs_background": "light"
     },
     "output_type": "display_data"
    }
   ],
   "source": [
    "df_pca_plot = pd.DataFrame(df_pca, columns=['PC1','PC2'])\n",
    "df_pca_plot['Cluster'] = labels\n",
    "df_pca_plot['Cluster'].replace({0:'Cluster 1', 1:'Cluster 2', 2:'Cluster 3'}, inplace=True)\n",
    "\n",
    "plt.figure(figsize=(12,6))\n",
    "sns.scatterplot(data=df_pca_plot, x='PC2', y='PC1', hue='Cluster', palette='viridis_r')"
   ]
  },
  {
   "cell_type": "markdown",
   "id": "c918d0df",
   "metadata": {},
   "source": [
    "**Visualisation des distributions des marqueurs selon cluster**"
   ]
  },
  {
   "cell_type": "code",
   "execution_count": 123,
   "id": "491b4d73",
   "metadata": {},
   "outputs": [
    {
     "data": {
      "application/vnd.jupyter.widget-view+json": {
       "model_id": "3c47010dbabb45e9884c737524a74b38",
       "version_major": 2,
       "version_minor": 0
      },
      "text/plain": [
       "interactive(children=(Dropdown(description='Marqueur', options=('Distance Total (m)', 'm/min', 'High Int Speed…"
      ]
     },
     "metadata": {},
     "output_type": "display_data"
    },
    {
     "data": {
      "text/plain": [
       "<function __main__.plot(Marqueur)>"
      ]
     },
     "execution_count": 123,
     "metadata": {},
     "output_type": "execute_result"
    }
   ],
   "source": [
    "df_cluster_plot = df_hac[df_hac['Cluster_Label'] != 'Cluster 3']\n",
    "\n",
    "def plot(Marqueur):\n",
    "    fig = ff.create_distplot([df_cluster_plot.loc[df_cluster_plot['Cluster_Label']==c, Marqueur] for c in np.sort(df_cluster_plot['Cluster_Label'].unique())],\n",
    "                             np.sort(df_cluster_plot['Cluster_Label'].unique()),\n",
    "                             show_rug=False, bin_size=1, show_hist=False, colors=['#191970', '#2E8B57'])\n",
    "    fig.update_layout(template='plotly_white')\n",
    "    return fig\n",
    "\n",
    "widgets.interact(plot, Marqueur=marqueurs)"
   ]
  }
 ],
 "metadata": {
  "hide_input": false,
  "kernelspec": {
   "display_name": "Python 3",
   "language": "python",
   "name": "python3"
  },
  "language_info": {
   "codemirror_mode": {
    "name": "ipython",
    "version": 3
   },
   "file_extension": ".py",
   "mimetype": "text/x-python",
   "name": "python",
   "nbconvert_exporter": "python",
   "pygments_lexer": "ipython3",
   "version": "3.8.10"
  }
 },
 "nbformat": 4,
 "nbformat_minor": 5
}
